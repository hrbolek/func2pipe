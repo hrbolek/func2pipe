{
  "nbformat": 4,
  "nbformat_minor": 0,
  "metadata": {
    "colab": {
      "name": "example01",
      "provenance": [],
      "authorship_tag": "ABX9TyNUYKJ/HuN7XbNfS4mIs0kI",
      "include_colab_link": true
    },
    "kernelspec": {
      "name": "python3",
      "display_name": "Python 3"
    }
  },
  "cells": [
    {
      "cell_type": "markdown",
      "metadata": {
        "id": "view-in-github",
        "colab_type": "text"
      },
      "source": [
        "<a href=\"https://colab.research.google.com/github/hrbolek/func2pipe/blob/news/notebooks/example01.ipynb\" target=\"_parent\"><img src=\"https://colab.research.google.com/assets/colab-badge.svg\" alt=\"Open In Colab\"/></a>"
      ]
    },
    {
      "cell_type": "code",
      "metadata": {
        "id": "gVe7oaItgkG3",
        "colab_type": "code",
        "colab": {
          "base_uri": "https://localhost:8080/",
          "height": 164
        },
        "outputId": "8a9b63ed-cbc0-46f8-f7d5-080ae95f3274"
      },
      "source": [
        "!pip install func2pipe==0.3.6"
      ],
      "execution_count": null,
      "outputs": [
        {
          "output_type": "stream",
          "text": [
            "Collecting func2pipe==0.3.6\n",
            "  Downloading https://files.pythonhosted.org/packages/61/c6/0f5fc50a2447a362e1b55cc1201e7f13fc721f8a9580c8ce4705c26c7737/func2pipe-0.3.6-py3-none-any.whl\n",
            "Requirement already satisfied: setuptools in /usr/local/lib/python3.6/dist-packages (from func2pipe==0.3.6) (47.1.1)\n",
            "Installing collected packages: func2pipe\n",
            "  Found existing installation: func2pipe 0.3.5\n",
            "    Uninstalling func2pipe-0.3.5:\n",
            "      Successfully uninstalled func2pipe-0.3.5\n",
            "Successfully installed func2pipe-0.3.6\n"
          ],
          "name": "stdout"
        }
      ]
    },
    {
      "cell_type": "code",
      "metadata": {
        "id": "RFbFsz2fsr2r",
        "colab_type": "code",
        "colab": {
          "base_uri": "https://localhost:8080/",
          "height": 311
        },
        "outputId": "0c81708e-a893-4f7e-c50d-00a465e8877e"
      },
      "source": [
        "import func2pipe.func2pipe as fp\n",
        "dir(fp)"
      ],
      "execution_count": null,
      "outputs": [
        {
          "output_type": "execute_result",
          "data": {
            "text/plain": [
              "['__builtins__',\n",
              " '__cached__',\n",
              " '__doc__',\n",
              " '__file__',\n",
              " '__loader__',\n",
              " '__name__',\n",
              " '__package__',\n",
              " '__spec__',\n",
              " 'convertToPipeFunc',\n",
              " 'convertToPipeFunc2',\n",
              " 'convertToPipeFuncFull',\n",
              " 'createPipe',\n",
              " 'createSub',\n",
              " 'partial',\n",
              " 'pipeit',\n",
              " 'wraps']"
            ]
          },
          "metadata": {
            "tags": []
          },
          "execution_count": 5
        }
      ]
    },
    {
      "cell_type": "code",
      "metadata": {
        "id": "2grjfNcugrNN",
        "colab_type": "code",
        "colab": {
          "base_uri": "https://localhost:8080/",
          "height": 35
        },
        "outputId": "c189b279-2777-47ab-f0e6-2f5304edd675"
      },
      "source": [
        "#from func2pipe import createPipe, pipeit\n",
        "#import func2pipe as fp\n",
        "\n",
        "#print(fp.func2pipe)\n",
        "@fp.pipeit()\n",
        "def r(item):\n",
        "  return item + 2\n",
        "\n",
        "operator = fp.createPipe(\n",
        "    r(),\n",
        "    list\n",
        ")\n",
        "\n",
        "print(operator([0, 1, 2]))"
      ],
      "execution_count": null,
      "outputs": [
        {
          "output_type": "stream",
          "text": [
            "[2, 3, 4]\n"
          ],
          "name": "stdout"
        }
      ]
    }
  ]
}