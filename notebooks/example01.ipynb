{
  "nbformat": 4,
  "nbformat_minor": 0,
  "metadata": {
    "colab": {
      "name": "example01",
      "provenance": [],
      "authorship_tag": "ABX9TyMRIdlxYb2uCA7VEskexxvD",
      "include_colab_link": true
    },
    "kernelspec": {
      "name": "python3",
      "display_name": "Python 3"
    }
  },
  "cells": [
    {
      "cell_type": "markdown",
      "metadata": {
        "id": "view-in-github",
        "colab_type": "text"
      },
      "source": [
        "<a href=\"https://colab.research.google.com/github/hrbolek/func2pipe/blob/news/notebooks/example01.ipynb\" target=\"_parent\"><img src=\"https://colab.research.google.com/assets/colab-badge.svg\" alt=\"Open In Colab\"/></a>"
      ]
    },
    {
      "cell_type": "code",
      "metadata": {
        "id": "gVe7oaItgkG3",
        "colab_type": "code",
        "colab": {
          "base_uri": "https://localhost:8080/",
          "height": 109
        },
        "outputId": "9a715c5d-df2b-460e-91b8-a15f2648e8d1"
      },
      "source": [
        "!pip install func2pipe"
      ],
      "execution_count": 1,
      "outputs": [
        {
          "output_type": "stream",
          "text": [
            "Collecting func2pipe==0.3.6\n",
            "  Downloading https://files.pythonhosted.org/packages/61/c6/0f5fc50a2447a362e1b55cc1201e7f13fc721f8a9580c8ce4705c26c7737/func2pipe-0.3.6-py3-none-any.whl\n",
            "Requirement already satisfied: setuptools in /usr/local/lib/python3.6/dist-packages (from func2pipe==0.3.6) (47.3.1)\n",
            "Installing collected packages: func2pipe\n",
            "Successfully installed func2pipe-0.3.6\n"
          ],
          "name": "stdout"
        }
      ]
    },
    {
      "cell_type": "code",
      "metadata": {
        "id": "RFbFsz2fsr2r",
        "colab_type": "code",
        "colab": {}
      },
      "source": [
        "import func2pipe.func2pipe as f2p\n",
        "from func2pipe.func2pipe import createPipe, createSub"
      ],
      "execution_count": 12,
      "outputs": []
    },
    {
      "cell_type": "markdown",
      "metadata": {
        "id": "OVGuppKbb7NY",
        "colab_type": "text"
      },
      "source": [
        "## Unit Test"
      ]
    },
    {
      "cell_type": "code",
      "metadata": {
        "id": "dfk8Dw4sbCVz",
        "colab_type": "code",
        "colab": {}
      },
      "source": [
        "import unittest\n",
        "\n",
        "class TestCase(unittest.TestCase):\n",
        "  def __call__(self, *args, **kwargs):\n",
        "    self.assertEqual(*args, **kwargs)\n",
        "    return True\n",
        "\n",
        "testEquality = TestCase()"
      ],
      "execution_count": 3,
      "outputs": []
    },
    {
      "cell_type": "markdown",
      "metadata": {
        "id": "QYINrTRrcYJo",
        "colab_type": "text"
      },
      "source": [
        "## Simple Function"
      ]
    },
    {
      "cell_type": "code",
      "metadata": {
        "id": "aEKpEL8MbDzI",
        "colab_type": "code",
        "colab": {
          "base_uri": "https://localhost:8080/",
          "height": 72
        },
        "outputId": "526e8bba-f0aa-4cdb-932b-75ce6630db1e"
      },
      "source": [
        "source = [{'value': 0}, {'value': 1}, {'value': 2}]\n",
        "@f2p.pipeit()\n",
        "def add(item, amount):\n",
        "  return {**item, 'result': item['value'] + amount}\n",
        "\n",
        "expectedResult = [{'value': 0, 'result': 3}, {'value': 1, 'result': 4},\n",
        "  {'value': 2, 'result': 5}]\n",
        "\n",
        "pipe = createPipe(\n",
        "    add(amount = 2),\n",
        "    add(amount = 3),\n",
        "    list)\n",
        "\n",
        "result = pipe(source)\n",
        "print('Source:', source)\n",
        "print('Result:', result)\n",
        "print('Valid: ', testEquality(expectedResult, result)) "
      ],
      "execution_count": 7,
      "outputs": [
        {
          "output_type": "stream",
          "text": [
            "Source: [{'value': 0}, {'value': 1}, {'value': 2}]\n",
            "Result: [{'value': 0, 'result': 3}, {'value': 1, 'result': 4}, {'value': 2, 'result': 5}]\n",
            "Valid:  True\n"
          ],
          "name": "stdout"
        }
      ]
    },
    {
      "cell_type": "markdown",
      "metadata": {
        "id": "oo_mYFJacbev",
        "colab_type": "text"
      },
      "source": [
        "## Function with Yield"
      ]
    },
    {
      "cell_type": "code",
      "metadata": {
        "id": "g3mYxcBUcb88",
        "colab_type": "code",
        "colab": {
          "base_uri": "https://localhost:8080/",
          "height": 72
        },
        "outputId": "35aee462-3786-476b-d3a0-f0643b3fdafe"
      },
      "source": [
        "source = [{'value': ['A', 'B']}, {'value': ['A', 'C']}, {'value': ['D', 'E']}]\n",
        "\n",
        "@f2p.pipeit(with_yield = True)\n",
        "def revealSubItem(item, itemName):\n",
        "    for _ in item[itemName]:\n",
        "        yield _\n",
        "\n",
        "expectedResult = ['A', 'B', 'A', 'C', 'D', 'E']\n",
        "\n",
        "pipe = createPipe(\n",
        "    revealSubItem(itemName = 'value'),\n",
        "    list)\n",
        "\n",
        "result = pipe(source)\n",
        "print('Source:', source)\n",
        "print('Result:', result)\n",
        "print('Valid: ', testEquality(expectedResult, result)) "
      ],
      "execution_count": 8,
      "outputs": [
        {
          "output_type": "stream",
          "text": [
            "Source: [{'value': ['A', 'B']}, {'value': ['A', 'C']}, {'value': ['D', 'E']}]\n",
            "Result: ['A', 'B', 'A', 'C', 'D', 'E']\n",
            "Valid:  True\n"
          ],
          "name": "stdout"
        }
      ]
    },
    {
      "cell_type": "markdown",
      "metadata": {
        "id": "ka9QTzcCcjbz",
        "colab_type": "text"
      },
      "source": [
        "## Function with State"
      ]
    },
    {
      "cell_type": "code",
      "metadata": {
        "id": "DfaF8I4Vcjmy",
        "colab_type": "code",
        "colab": {
          "base_uri": "https://localhost:8080/",
          "height": 72
        },
        "outputId": "84261362-7803-461c-b248-1b0ee8641485"
      },
      "source": [
        "source = [{'value': ['A', 'B']}, {'value': ['A', 'C']}, {'value': ['D', 'E']}]\n",
        "\n",
        "@f2p.pipeit(with_state = True)\n",
        "def assignId(item, state = 0, idName = 'id'):\n",
        "    return {**item, idName: state}, state + 1\n",
        "\n",
        "expectedResult = [{'value': ['A', 'B'], 'ID': 0}, \n",
        "    {'value': ['A', 'C'], 'ID': 1}, {'value': ['D', 'E'], 'ID': 2}]\n",
        "\n",
        "pipe = createPipe(\n",
        "    assignId(idName = 'ID'),\n",
        "    list)\n",
        "\n",
        "result = pipe(source)\n",
        "print('Source:', source)\n",
        "print('Result:', result)\n",
        "print('Valid: ', testEquality(expectedResult, result)) "
      ],
      "execution_count": 9,
      "outputs": [
        {
          "output_type": "stream",
          "text": [
            "Source: [{'value': ['A', 'B']}, {'value': ['A', 'C']}, {'value': ['D', 'E']}]\n",
            "Result: [{'value': ['A', 'B'], 'ID': 0}, {'value': ['A', 'C'], 'ID': 1}, {'value': ['D', 'E'], 'ID': 2}]\n",
            "Valid:  True\n"
          ],
          "name": "stdout"
        }
      ]
    },
    {
      "cell_type": "markdown",
      "metadata": {
        "id": "VYrx5jJXc3Sc",
        "colab_type": "text"
      },
      "source": [
        "## Function with Yield and with State"
      ]
    },
    {
      "cell_type": "code",
      "metadata": {
        "id": "mYoGxbWjc3eg",
        "colab_type": "code",
        "colab": {
          "base_uri": "https://localhost:8080/",
          "height": 72
        },
        "outputId": "3c8246b2-7cf3-458f-bb02-c1b65bc2e4ff"
      },
      "source": [
        "source = [{'value': ['A', 'B']}, {'value': ['A', 'C']}, {'value': ['D', 'E']}]\n",
        "\n",
        "@f2p.pipeit(with_yield = True, with_state = True)\n",
        "def assignIdToSubItem(item, state = -1, itemName = ''):\n",
        "    for _ in item[itemName]:\n",
        "        state = state + 1\n",
        "        yield {itemName: _, 'id': state}, state\n",
        "\n",
        "expectedResult = [{'value': 'A', 'id': 0}, {'value': 'B', 'id': 1}, \n",
        "  {'value': 'A', 'id': 2}, {'value': 'C', 'id': 3}, \n",
        "  {'value': 'D', 'id': 4}, {'value': 'E', 'id': 5}\n",
        "  ]\n",
        "\n",
        "pipe = createPipe(\n",
        "    assignIdToSubItem(itemName = 'value'),\n",
        "    list)\n",
        "\n",
        "result = pipe(source)\n",
        "print('Source:', source)\n",
        "print('Result:', result)\n",
        "print('Valid: ', testEquality(expectedResult, result)) "
      ],
      "execution_count": 10,
      "outputs": [
        {
          "output_type": "stream",
          "text": [
            "Source: [{'value': ['A', 'B']}, {'value': ['A', 'C']}, {'value': ['D', 'E']}]\n",
            "Result: [{'value': 'A', 'id': 0}, {'value': 'B', 'id': 1}, {'value': 'A', 'id': 2}, {'value': 'C', 'id': 3}, {'value': 'D', 'id': 4}, {'value': 'E', 'id': 5}]\n",
            "Valid:  True\n"
          ],
          "name": "stdout"
        }
      ]
    },
    {
      "cell_type": "markdown",
      "metadata": {
        "id": "UNKM87RYdJ8w",
        "colab_type": "text"
      },
      "source": [
        "## Subpipe"
      ]
    },
    {
      "cell_type": "code",
      "metadata": {
        "id": "vOwUpWN0dKLc",
        "colab_type": "code",
        "colab": {
          "base_uri": "https://localhost:8080/",
          "height": 72
        },
        "outputId": "4ae7c3e2-77f9-4203-8663-6affb2fd48d3"
      },
      "source": [
        "source = [{'value': 0}, {'value': 1}, {'value': 2}]\n",
        "@f2p.pipeit()\n",
        "def plus(item, amount):\n",
        "  return item + amount\n",
        "\n",
        "@f2p.pipeit()\n",
        "def selectIt(item, f):\n",
        "  return f(item)\n",
        "\n",
        "expectedResult = [\n",
        "  {'value': 0, 'newvalue': 2}, \n",
        "  {'value': 1, 'newvalue': 3}, \n",
        "  {'value': 2, 'newvalue': 4}\n",
        "  ]\n",
        "\n",
        "pipe = createPipe(\n",
        "    createSub(assign = lambda source, result: {**source, 'newvalue': result})(\n",
        "      selectIt(f = lambda item: item['value']),\n",
        "      plus(amount = 2),\n",
        "    ),\n",
        "    list)\n",
        "\n",
        "result = pipe(source)\n",
        "print('Source:', source)\n",
        "print('Result:', result)\n",
        "print('Valid: ', testEquality(expectedResult, result)) "
      ],
      "execution_count": 13,
      "outputs": [
        {
          "output_type": "stream",
          "text": [
            "Source: [{'value': 0}, {'value': 1}, {'value': 2}]\n",
            "Result: [{'value': 0, 'newvalue': 2}, {'value': 1, 'newvalue': 3}, {'value': 2, 'newvalue': 4}]\n",
            "Valid:  True\n"
          ],
          "name": "stdout"
        }
      ]
    },
    {
      "cell_type": "code",
      "metadata": {
        "id": "2grjfNcugrNN",
        "colab_type": "code",
        "colab": {
          "base_uri": "https://localhost:8080/",
          "height": 35
        },
        "outputId": "c189b279-2777-47ab-f0e6-2f5304edd675"
      },
      "source": [
        "#from func2pipe import createPipe, pipeit\n",
        "#import func2pipe as fp\n",
        "\n",
        "#print(fp.func2pipe)\n",
        "@fp.pipeit()\n",
        "def r(item):\n",
        "  return item + 2\n",
        "\n",
        "operator = fp.createPipe(\n",
        "    r(),\n",
        "    list\n",
        ")\n",
        "\n",
        "print(operator([0, 1, 2]))"
      ],
      "execution_count": null,
      "outputs": [
        {
          "output_type": "stream",
          "text": [
            "[2, 3, 4]\n"
          ],
          "name": "stdout"
        }
      ]
    }
  ]
}