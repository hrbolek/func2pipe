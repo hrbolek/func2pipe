{
  "nbformat": 4,
  "nbformat_minor": 0,
  "metadata": {
    "colab": {
      "name": "func2pipe.ipynb",
      "provenance": [],
      "collapsed_sections": [],
      "toc_visible": true,
      "authorship_tag": "ABX9TyPLX/IZ9yFRQjkhwz+ITRRg",
      "include_colab_link": true
    },
    "kernelspec": {
      "name": "python3",
      "display_name": "Python 3"
    }
  },
  "cells": [
    {
      "cell_type": "markdown",
      "metadata": {
        "id": "view-in-github",
        "colab_type": "text"
      },
      "source": [
        "<a href=\"https://colab.research.google.com/github/hrbolek/func2pipe/blob/master/notebooks/func2pipe.ipynb\" target=\"_parent\"><img src=\"https://colab.research.google.com/assets/colab-badge.svg\" alt=\"Open In Colab\"/></a>"
      ]
    },
    {
      "cell_type": "markdown",
      "metadata": {
        "id": "YGIE7FHnbWeo",
        "colab_type": "text"
      },
      "source": [
        "# Func to Pipe"
      ]
    },
    {
      "cell_type": "markdown",
      "metadata": {
        "id": "CCk69cOpbaoC",
        "colab_type": "text"
      },
      "source": [
        "## Source Code"
      ]
    },
    {
      "cell_type": "markdown",
      "metadata": {
        "id": "VO8HGoOmbfU7",
        "colab_type": "text"
      },
      "source": [
        "### Functions Reducer"
      ]
    },
    {
      "cell_type": "code",
      "metadata": {
        "id": "27ee0wKMX-8A",
        "colab_type": "code",
        "colab": {}
      },
      "source": [
        "def createPipe(*F):\n",
        "  def Fdiamond(sequence):\n",
        "    result = sequence\n",
        "    for Fx in F:\n",
        "      result = Fx(result)\n",
        "    return result\n",
        "  return Fdiamond"
      ],
      "execution_count": 0,
      "outputs": []
    },
    {
      "cell_type": "markdown",
      "metadata": {
        "id": "DQt9650FbiON",
        "colab_type": "text"
      },
      "source": [
        "### Subpipe"
      ]
    },
    {
      "cell_type": "code",
      "metadata": {
        "id": "83wnRF7HYmrN",
        "colab_type": "code",
        "colab": {}
      },
      "source": [
        "def createSub(assign = lambda source, result: {**source, **result}, reducer = None):\n",
        "\n",
        "    def multipleResults(*F):\n",
        "        buffer = {'data': None}\n",
        "        def pre(gen):\n",
        "            for item in gen:\n",
        "                buffer['data'] = item\n",
        "                yield item\n",
        "\n",
        "        def inner(gen):\n",
        "            e = gen\n",
        "            for f in F:\n",
        "                e = f(e)\n",
        "            return e\n",
        "\n",
        "        def post(gen):\n",
        "            for item in gen:\n",
        "                yield assign(buffer['data'], item)\n",
        "\n",
        "        return lambda gen: post(inner(pre(gen)))\n",
        "\n",
        "    def reducedResult(*F):\n",
        "        def inner(gen):\n",
        "            e = gen\n",
        "            for f in F:\n",
        "                e = f(e)\n",
        "            return e\n",
        "\n",
        "        def result(gen):\n",
        "            for item in gen:\n",
        "                itemResult = reducer(list(inner([item])))\n",
        "                yield assign(item, itemResult)\n",
        "        return result\n",
        "\n",
        "    if reducer == None:\n",
        "        return multipleResults\n",
        "    else:\n",
        "        return reducedResult"
      ],
      "execution_count": 0,
      "outputs": []
    },
    {
      "cell_type": "markdown",
      "metadata": {
        "id": "tirYAIgwbnk0",
        "colab_type": "text"
      },
      "source": [
        "### Convertor"
      ]
    },
    {
      "cell_type": "code",
      "metadata": {
        "id": "vsgceUFEZuQX",
        "colab_type": "code",
        "colab": {}
      },
      "source": [
        "from functools import wraps, reduce, partial\n"
      ],
      "execution_count": 0,
      "outputs": []
    },
    {
      "cell_type": "code",
      "metadata": {
        "id": "Z_akqLTxIbKH",
        "colab_type": "code",
        "colab": {}
      },
      "source": [
        "from functools import wraps, reduce, partial\n",
        "def convertToPipeFuncFull(func, with_yield = False, with_state = False, kwargs = {}):\n",
        "    @wraps(func)\n",
        "    def innerSelectSimple(generator):\n",
        "        for i in generator:\n",
        "            yield func(i, **kwargs)\n",
        "\n",
        "    if (not with_yield) & (not with_state):\n",
        "        return innerSelectSimple\n",
        "    \n",
        "    @wraps(func)\n",
        "    def innerSelectWithYield(generator):\n",
        "        for i in generator:\n",
        "            for j in func(i, **kwargs):\n",
        "                yield j\n",
        "\n",
        "\n",
        "    if (with_yield) & (not with_state):\n",
        "        return innerSelectWithYield\n",
        "\n",
        "    @wraps(func)\n",
        "    def innerSelectWithState(generator):\n",
        "        state = None\n",
        "        for i in generator:\n",
        "            result = None\n",
        "            if (state):\n",
        "                result, state = func(i, state = state, **kwargs)\n",
        "            else:\n",
        "                result, state = func(i, **kwargs)\n",
        "            if result:\n",
        "                yield result\n",
        "\n",
        "    if (not with_yield) & with_state:\n",
        "        return innerSelectWithState\n",
        "\n",
        "    def innerSelectWithYieldWithState(generator):\n",
        "        state = None\n",
        "        initState = True\n",
        "        for i in generator:\n",
        "            result = None\n",
        "            if (initState):\n",
        "                for result, statel in func(i, **kwargs):\n",
        "                    state = statel\n",
        "                    if result:\n",
        "                        yield result\n",
        "                initState = False\n",
        "            else:\n",
        "                for result, statel in func(i, state = state, **kwargs):\n",
        "                    state = statel\n",
        "                    if result:\n",
        "                        yield result\n",
        "\n",
        "\n",
        "    return innerSelectWithYieldWithState"
      ],
      "execution_count": 0,
      "outputs": []
    },
    {
      "cell_type": "markdown",
      "metadata": {
        "id": "XctIlzEZbvQt",
        "colab_type": "text"
      },
      "source": [
        "### Convertor Decorator"
      ]
    },
    {
      "cell_type": "code",
      "metadata": {
        "id": "o_KBaPZNJ7A8",
        "colab_type": "code",
        "colab": {}
      },
      "source": [
        "def convertToPipeFunc(with_yield = False, with_state = False):\n",
        "    def pipeit(__func):\n",
        "        @wraps(__func)\n",
        "        def binder(**kwargs):\n",
        "            result = wraps(__func)(convertToPipeFuncFull(__func, with_yield, with_state, kwargs))\n",
        "            return result\n",
        "        return binder\n",
        "    return pipeit\n",
        "\n",
        "convertToPipeFunc2 = convertToPipeFunc "
      ],
      "execution_count": 0,
      "outputs": []
    },
    {
      "cell_type": "markdown",
      "metadata": {
        "id": "k6jU_b0zbSz6",
        "colab_type": "text"
      },
      "source": [
        "## Tests"
      ]
    },
    {
      "cell_type": "code",
      "metadata": {
        "id": "ZbJtvwuTdY5B",
        "colab_type": "code",
        "colab": {}
      },
      "source": [
        "import unittest\n",
        "\n",
        "class TestCase(unittest.TestCase):\n",
        "  def __call__(self, *args, **kwargs):\n",
        "    self.assertEqual(*args, **kwargs)\n",
        "    return True\n",
        "\n",
        "testEquality = TestCase()"
      ],
      "execution_count": 0,
      "outputs": []
    },
    {
      "cell_type": "markdown",
      "metadata": {
        "id": "elYEvOw-cM7G",
        "colab_type": "text"
      },
      "source": [
        "### Simple Function"
      ]
    },
    {
      "cell_type": "code",
      "metadata": {
        "id": "49HhLqujbQ6X",
        "colab_type": "code",
        "outputId": "ec48f9c8-5a0f-474a-dbc5-f35b39a88ca2",
        "colab": {
          "base_uri": "https://localhost:8080/",
          "height": 72
        }
      },
      "source": [
        "source = [{'value': 0}, {'value': 1}, {'value': 2}]\n",
        "@convertToPipeFunc()\n",
        "def add(item, amount):\n",
        "  return {**item, 'result': item['value'] + amount}\n",
        "\n",
        "expectedResult = [{'value': 0, 'result': 3}, {'value': 1, 'result': 4},\n",
        "  {'value': 2, 'result': 5}]\n",
        "\n",
        "pipe = createPipe(\n",
        "    add(amount = 2),\n",
        "    add(amount = 3),\n",
        "    list)\n",
        "\n",
        "result = pipe(source)\n",
        "print('Source:', source)\n",
        "print('Result:', result)\n",
        "print('Valid: ', testEquality(expectedResult, result)) "
      ],
      "execution_count": 9,
      "outputs": [
        {
          "output_type": "stream",
          "text": [
            "Source: [{'value': 0}, {'value': 1}, {'value': 2}]\n",
            "Result: [{'value': 0, 'result': 3}, {'value': 1, 'result': 4}, {'value': 2, 'result': 5}]\n",
            "Valid:  True\n"
          ],
          "name": "stdout"
        }
      ]
    },
    {
      "cell_type": "markdown",
      "metadata": {
        "id": "_z8IQtI3e9vX",
        "colab_type": "text"
      },
      "source": [
        "### Function with Yield"
      ]
    },
    {
      "cell_type": "code",
      "metadata": {
        "id": "JTWmOw-ZfBKa",
        "colab_type": "code",
        "outputId": "17999093-4a1b-4094-e028-236ba93dc726",
        "colab": {
          "base_uri": "https://localhost:8080/",
          "height": 72
        }
      },
      "source": [
        "source = [{'value': ['A', 'B']}, {'value': ['A', 'C']}, {'value': ['D', 'E']}]\n",
        "\n",
        "@convertToPipeFunc(with_yield = True)\n",
        "def revealSubItem(item, itemName):\n",
        "    for _ in item[itemName]:\n",
        "        yield _\n",
        "\n",
        "expectedResult = ['A', 'B', 'A', 'C', 'D', 'E']\n",
        "\n",
        "pipe = createPipe(\n",
        "    revealSubItem(itemName = 'value'),\n",
        "    list)\n",
        "\n",
        "result = pipe(source)\n",
        "print('Source:', source)\n",
        "print('Result:', result)\n",
        "print('Valid: ', testEquality(expectedResult, result)) "
      ],
      "execution_count": 10,
      "outputs": [
        {
          "output_type": "stream",
          "text": [
            "Source: [{'value': ['A', 'B']}, {'value': ['A', 'C']}, {'value': ['D', 'E']}]\n",
            "Result: ['A', 'B', 'A', 'C', 'D', 'E']\n",
            "Valid:  True\n"
          ],
          "name": "stdout"
        }
      ]
    },
    {
      "cell_type": "markdown",
      "metadata": {
        "id": "EVdlUfGFgxXv",
        "colab_type": "text"
      },
      "source": [
        "### Function with State"
      ]
    },
    {
      "cell_type": "code",
      "metadata": {
        "id": "iGgK7Smdg5KJ",
        "colab_type": "code",
        "outputId": "2a16ea7b-309e-49d6-9432-c05886fd0b63",
        "colab": {
          "base_uri": "https://localhost:8080/",
          "height": 72
        }
      },
      "source": [
        "source = [{'value': ['A', 'B']}, {'value': ['A', 'C']}, {'value': ['D', 'E']}]\n",
        "\n",
        "@convertToPipeFunc(with_state = True)\n",
        "def assignId(item, state = 0, idName = 'id'):\n",
        "    return {**item, idName: state}, state + 1\n",
        "\n",
        "expectedResult = [{'value': ['A', 'B'], 'ID': 0}, \n",
        "    {'value': ['A', 'C'], 'ID': 1}, {'value': ['D', 'E'], 'ID': 2}]\n",
        "\n",
        "pipe = createPipe(\n",
        "    assignId(idName = 'ID'),\n",
        "    list)\n",
        "\n",
        "result = pipe(source)\n",
        "print('Source:', source)\n",
        "print('Result:', result)\n",
        "print('Valid: ', testEquality(expectedResult, result)) "
      ],
      "execution_count": 11,
      "outputs": [
        {
          "output_type": "stream",
          "text": [
            "Source: [{'value': ['A', 'B']}, {'value': ['A', 'C']}, {'value': ['D', 'E']}]\n",
            "Result: [{'value': ['A', 'B'], 'ID': 0}, {'value': ['A', 'C'], 'ID': 1}, {'value': ['D', 'E'], 'ID': 2}]\n",
            "Valid:  True\n"
          ],
          "name": "stdout"
        }
      ]
    },
    {
      "cell_type": "markdown",
      "metadata": {
        "id": "gzcYFGsHiHJW",
        "colab_type": "text"
      },
      "source": [
        "### Function with Yield and with State"
      ]
    },
    {
      "cell_type": "code",
      "metadata": {
        "id": "w2CBgmkfiLPh",
        "colab_type": "code",
        "outputId": "c7a26015-dcbf-41bc-a5c7-0e775be15543",
        "colab": {
          "base_uri": "https://localhost:8080/",
          "height": 72
        }
      },
      "source": [
        "source = [{'value': ['A', 'B']}, {'value': ['A', 'C']}, {'value': ['D', 'E']}]\n",
        "\n",
        "@convertToPipeFunc(with_yield = True, with_state = True)\n",
        "def assignIdToSubItem(item, state = -1, itemName = ''):\n",
        "    for _ in item[itemName]:\n",
        "        state = state + 1\n",
        "        yield {itemName: _, 'id': state}, state\n",
        "\n",
        "expectedResult = [{'value': 'A', 'id': 0}, {'value': 'B', 'id': 1}, \n",
        "  {'value': 'A', 'id': 2}, {'value': 'C', 'id': 3}, \n",
        "  {'value': 'D', 'id': 4}, {'value': 'E', 'id': 5}\n",
        "  ]\n",
        "\n",
        "pipe = createPipe(\n",
        "    assignIdToSubItem(itemName = 'value'),\n",
        "    list)\n",
        "\n",
        "result = pipe(source)\n",
        "print('Source:', source)\n",
        "print('Result:', result)\n",
        "print('Valid: ', testEquality(expectedResult, result)) "
      ],
      "execution_count": 12,
      "outputs": [
        {
          "output_type": "stream",
          "text": [
            "Source: [{'value': ['A', 'B']}, {'value': ['A', 'C']}, {'value': ['D', 'E']}]\n",
            "Result: [{'value': 'A', 'id': 0}, {'value': 'B', 'id': 1}, {'value': 'A', 'id': 2}, {'value': 'C', 'id': 3}, {'value': 'D', 'id': 4}, {'value': 'E', 'id': 5}]\n",
            "Valid:  True\n"
          ],
          "name": "stdout"
        }
      ]
    },
    {
      "cell_type": "markdown",
      "metadata": {
        "id": "DgoFRd_IxhY4",
        "colab_type": "text"
      },
      "source": [
        "### Subpipe"
      ]
    },
    {
      "cell_type": "code",
      "metadata": {
        "id": "w9wfeDquxkMY",
        "colab_type": "code",
        "outputId": "96287034-dbcd-40e2-893f-6e56c4fd6099",
        "colab": {
          "base_uri": "https://localhost:8080/",
          "height": 72
        }
      },
      "source": [
        "source = [{'value': 0}, {'value': 1}, {'value': 2}]\n",
        "@convertToPipeFunc()\n",
        "def plus(item, amount):\n",
        "  return item + amount\n",
        "\n",
        "@convertToPipeFunc()\n",
        "def selectIt(item, f):\n",
        "  return f(item)\n",
        "\n",
        "expectedResult = [\n",
        "  {'value': 0, 'newvalue': 2}, \n",
        "  {'value': 1, 'newvalue': 3}, \n",
        "  {'value': 2, 'newvalue': 4}\n",
        "  ]\n",
        "\n",
        "pipe = createPipe(\n",
        "    createSub(assign = lambda source, result: {**source, 'newvalue': result})(\n",
        "      selectIt(f = lambda item: item['value']),\n",
        "      plus(amount = 2),\n",
        "    ),\n",
        "    list)\n",
        "\n",
        "result = pipe(source)\n",
        "print('Source:', source)\n",
        "print('Result:', result)\n",
        "print('Valid: ', testEquality(expectedResult, result)) "
      ],
      "execution_count": 13,
      "outputs": [
        {
          "output_type": "stream",
          "text": [
            "Source: [{'value': 0}, {'value': 1}, {'value': 2}]\n",
            "Result: [{'value': 0, 'newvalue': 2}, {'value': 1, 'newvalue': 3}, {'value': 2, 'newvalue': 4}]\n",
            "Valid:  True\n"
          ],
          "name": "stdout"
        }
      ]
    },
    {
      "cell_type": "markdown",
      "metadata": {
        "id": "_3BWpvqY4PiN",
        "colab_type": "text"
      },
      "source": [
        "### Subpipe II"
      ]
    },
    {
      "cell_type": "code",
      "metadata": {
        "id": "z5CDfjg84RXG",
        "colab_type": "code",
        "outputId": "9216a850-a888-428e-d9f3-c9df075a643d",
        "colab": {
          "base_uri": "https://localhost:8080/",
          "height": 72
        }
      },
      "source": [
        "source = [{'values': [0, 1]}, {'values': [2, 1]}, {'values': [5, 2]}]\n",
        "@convertToPipeFunc()\n",
        "def plus(item, amount):\n",
        "    return item + amount\n",
        "\n",
        "@convertToPipeFunc(with_yield=True)\n",
        "def selectItAndEnum(item, f):\n",
        "    for _ in f(item):\n",
        "      yield _\n",
        "\n",
        "def createReducer():\n",
        "    def reducer(source):\n",
        "        total = 0\n",
        "        for item in source:\n",
        "          total = total + item\n",
        "        return total \n",
        "    return reducer\n",
        "\n",
        "expectedResult = [\n",
        "  {'values': [0, 1], 'sum': 1}, \n",
        "  {'values': [2, 1], 'sum': 3}, \n",
        "  {'values': [5, 2], 'sum': 7}\n",
        "  ]\n",
        "\n",
        "pipe = createPipe(\n",
        "    createSub(assign = lambda source, result: {**source, 'sum': result},\n",
        "      reducer = createReducer())(\n",
        "      selectItAndEnum(f = lambda item: item['values']),\n",
        "    ),\n",
        "    list)\n",
        "\n",
        "result = pipe(source)\n",
        "print('Source:', source)\n",
        "print('Result:', result)\n",
        "print('Valid: ', testEquality(expectedResult, result)) "
      ],
      "execution_count": 14,
      "outputs": [
        {
          "output_type": "stream",
          "text": [
            "Source: [{'values': [0, 1]}, {'values': [2, 1]}, {'values': [5, 2]}]\n",
            "Result: [{'values': [0, 1], 'sum': 1}, {'values': [2, 1], 'sum': 3}, {'values': [5, 2], 'sum': 7}]\n",
            "Valid:  True\n"
          ],
          "name": "stdout"
        }
      ]
    },
    {
      "cell_type": "code",
      "metadata": {
        "id": "FGAoUTAZalT2",
        "colab_type": "code",
        "outputId": "6ca76ae6-7d10-4433-dcb2-5f6eaa9e867c",
        "colab": {
          "base_uri": "https://localhost:8080/",
          "height": 35
        }
      },
      "source": [
        "source = [{'value': 0}, {'value': 1}, {'value': 2}]\n",
        "@convertToPipeFunc()\n",
        "def add(item, amount):\n",
        "  return {**item, 'result': item['value'] + amount}\n",
        "\n",
        "@convertToPipeFunc()\n",
        "def calc(item, func, name):\n",
        "  result = {}\n",
        "  result[name] = func(item)\n",
        "  return result\n",
        "\n",
        "@convertToPipeFunc(with_yield = True)\n",
        "def extra(item, extradata):\n",
        "  for _ in extradata:\n",
        "    yield _\n",
        "\n",
        "def createReducer(accumulator = [], f = lambda item, accumulator: [*accumulator, item]):\n",
        "  def reducer(gen):\n",
        "    result = accumulator\n",
        "    for item in gen:\n",
        "      result = f(item, result)\n",
        "    return result\n",
        "  return reducer\n",
        "\n",
        "pipe_01 = createPipe(\n",
        "    add(amount = 2),\n",
        "    createSub(assign = lambda source, result: {**source, 'value2': result}, reducer = createReducer())(\n",
        "#    SUB(assign = lambda source, result: {**source, **result})(\n",
        "#    SUB(assign = lambda source, result: {**source, 'value2': result})(\n",
        "      calc(func = lambda item: 4, name = 'extraValue'),\n",
        "      extra(extradata = ['A', 'B', 'C'])\n",
        "    )\n",
        "    )\n",
        "result = list(pipe_01(source))\n",
        "print(result)\n"
      ],
      "execution_count": 15,
      "outputs": [
        {
          "output_type": "stream",
          "text": [
            "[{'value': 0, 'result': 2, 'value2': ['A', 'B', 'C']}, {'value': 1, 'result': 3, 'value2': ['A', 'B', 'C']}, {'value': 2, 'result': 4, 'value2': ['A', 'B', 'C']}]\n"
          ],
          "name": "stdout"
        }
      ]
    },
    {
      "cell_type": "code",
      "metadata": {
        "id": "HwYDENg-qphu",
        "colab_type": "code",
        "colab": {}
      },
      "source": [
        ""
      ],
      "execution_count": 0,
      "outputs": []
    },
    {
      "cell_type": "markdown",
      "metadata": {
        "id": "ZiM5xQBK46f8",
        "colab_type": "text"
      },
      "source": [
        "## Pipe Described by Graph "
      ]
    },
    {
      "cell_type": "code",
      "metadata": {
        "id": "gdV-dNgw5IF-",
        "colab_type": "code",
        "colab": {}
      },
      "source": [
        "def createArrayReducer(accumulator = [], f = lambda accumulator, item: [*accumulator, item]):\n",
        "  result = lambda gen: reduce(f, gen, accumulator)\n",
        "  return result\n",
        "\n",
        "def graphToPipe(graph, currentnode):\n",
        "  availableNodes = []\n",
        "  for node in graph['nodes']:\n",
        "    availableNodes.append(node)\n",
        "\n",
        "  def innerBuilder(graph, currentnode, filterq = lambda item: True):\n",
        "      availableNodes.remove(currentnode)\n",
        "      descriptorPipe = graph['nodes'][currentnode]\n",
        "\n",
        "      def buildRelation(relation):\n",
        "        itemname = relation['to']\n",
        "        if ('itemname' in relation):\n",
        "            itemname = relation['itemname']\n",
        "        filterq = lambda item: True\n",
        "        if ('filter' in relation):\n",
        "            filterq = relation['filter']\n",
        "\n",
        "        innerPipe = innerBuilder(graph, relation['to'], filterq)\n",
        "\n",
        "        sub = createSub(assign = lambda item, result: {**item, itemname: result}, reducer = createArrayReducer())\n",
        "        return sub(relation['relation'], innerPipe)\n",
        "\n",
        "      result = [descriptorPipe]\n",
        "      nodesToRemove = []\n",
        "      for relation in filter(lambda item: item['from'] == currentnode, graph['edges']):\n",
        "          nodeName = relation['to']\n",
        "          nodesToRemove.append(nodeName)\n",
        "          if nodeName in availableNodes:\n",
        "            result += [buildRelation(relation)]\n",
        "          \n",
        "      for node in nodesToRemove:\n",
        "        if node in availableNodes:\n",
        "          availableNodes.remove(node)\n",
        "\n",
        "      return createPipe(*result)\n",
        "  return innerBuilder(graph, currentnode)"
      ],
      "execution_count": 0,
      "outputs": []
    },
    {
      "cell_type": "markdown",
      "metadata": {
        "id": "QStyb9VaGT5i",
        "colab_type": "text"
      },
      "source": [
        "### Database Model"
      ]
    },
    {
      "cell_type": "code",
      "metadata": {
        "id": "5YduKWeX6ESy",
        "colab_type": "code",
        "colab": {}
      },
      "source": [
        "studentTable = [\n",
        "    {'id': 258, 'name': 'George Burden'},\n",
        "    {'id': 263, 'name': 'Julia Seven'},\n",
        "    {'id': 396, 'name': 'Anthony Previous'},\n",
        "]\n",
        "\n",
        "subjectTable = [\n",
        "    {'id': 1024, 'name': 'Mathematics'},\n",
        "    {'id': 1144, 'name': 'English'},\n",
        "    {'id': 1194, 'name': 'History'},\n",
        "    {'id': 1086, 'name': 'Physics'},\n",
        "]\n",
        "\n",
        "student2SubjectTable = [\n",
        "    {'id': 1, 'studentId': 258, 'subjectId': 1024},\n",
        "    {'id': 2, 'studentId': 258, 'subjectId': 1086},\n",
        "    {'id': 3, 'studentId': 263, 'subjectId': 1144},\n",
        "    {'id': 4, 'studentId': 263, 'subjectId': 1198},\n",
        "    {'id': 5, 'studentId': 396, 'subjectId': 1024},\n",
        "    {'id': 6, 'studentId': 396, 'subjectId': 1144},\n",
        "]\n",
        "\n",
        "teacherTable = [\n",
        "    {'id': 2573, 'name': 'Paul Coleman'},\n",
        "    {'id': 3168, 'name': 'Igor Mashevic'},\n",
        "    {'id': 1934, 'name': 'Alex Moon'},\n",
        "    {'id': 2379, 'name': 'Julia Newman'},\n",
        "]\n",
        "\n",
        "subject2Teacher = [\n",
        "    {'id': 1, 'teacherId': 2573, 'subjectId': 1024},\n",
        "    {'id': 2, 'teacherId': 2573, 'subjectId': 1086},\n",
        "    {'id': 3, 'teacherId': 3168, 'subjectId': 1144},\n",
        "    {'id': 4, 'teacherId': 3168, 'subjectId': 1194},\n",
        "    {'id': 5, 'teacherId': 1934, 'subjectId': 1144},\n",
        "    {'id': 6, 'teacherId': 2379, 'subjectId': 1086},\n",
        "]\n",
        "\n",
        "def SelectCommand(fromTable, whereLambda):\n",
        "    for item in filter(whereLambda, fromTable):\n",
        "        yield item\n",
        "\n",
        "def SelectWhereId(fromTable, idValue):\n",
        "  result = None\n",
        "  data = list(filter(lambda item: item['id'] == id, fromTable))\n",
        "  if len(data) > 0:\n",
        "      result = data[0]\n",
        "  return result"
      ],
      "execution_count": 0,
      "outputs": []
    },
    {
      "cell_type": "markdown",
      "metadata": {
        "id": "DgpEKo8ZGXZ4",
        "colab_type": "text"
      },
      "source": [
        "### Database Descriptions as Graph"
      ]
    },
    {
      "cell_type": "code",
      "metadata": {
        "id": "xNXk2Z5qGdeO",
        "colab_type": "code",
        "colab": {}
      },
      "source": [
        "@convertToPipeFunc()\n",
        "def getStudenRecord(id):\n",
        "    return SelectWhereId(fromTable=studentTable, idValue=id)\n",
        "\n",
        "@convertToPipeFunc()\n",
        "def getTeacherRecord(id):\n",
        "    return SelectWhereId(fromTable=teacherTable, idValue=id)\n",
        "\n",
        "@convertToPipeFunc()\n",
        "def getSubjectRecord(id):\n",
        "    return SelectWhereId(fromTable=subjectTable, idValue=id)\n",
        "\n",
        "@convertToPipeFunc(with_yield = True)\n",
        "def StudentToSubject(item):\n",
        "    id = item['id']\n",
        "    for _ in SelectCommand(student2SubjectTable, lambda record: record['studentId'] == id):\n",
        "        yield _['subjectId']\n",
        "\n",
        "@convertToPipeFunc(with_yield = True)\n",
        "def SubjectToStudent(item):\n",
        "    id = item['id']\n",
        "    for _ in SelectCommand(student2SubjectTable, lambda record: record['subjectId'] == id):\n",
        "        yield _['studentId']\n",
        "\n",
        "@convertToPipeFunc(with_yield = True)\n",
        "def SubjectToTeacher(item):\n",
        "    id = item['id']\n",
        "    for _ in SelectCommand(subject2Teacher, lambda record: record['subjectId'] == id):\n",
        "        yield _['teacherId']\n",
        "\n",
        "@convertToPipeFunc(with_yield = True)\n",
        "def TeacherToSubject(item):\n",
        "    id = item['id']\n",
        "    for _ in SelectCommand(subject2Teacher, lambda record: record['teacherId'] == id):\n",
        "        yield _['subjectId']\n"
      ],
      "execution_count": 0,
      "outputs": []
    },
    {
      "cell_type": "code",
      "metadata": {
        "id": "NRN7poZOGS4D",
        "colab_type": "code",
        "colab": {
          "base_uri": "https://localhost:8080/",
          "height": 919
        },
        "outputId": "8fe42ebd-106b-4ffe-f3cf-fb69048807b9"
      },
      "source": [
        "import json\n",
        "\n",
        "grDefinition = {\n",
        "    'nodes': {\n",
        "        'Students': getStudenRecord(),\n",
        "        'Teachers': getTeacherRecord(),\n",
        "        'Subjects': getSubjectRecord(),\n",
        "        },\n",
        "    'edges': [\n",
        "        {'from': 'Students', 'to': 'Subjects', 'relation': StudentToSubject()},\n",
        "        {'from': 'Subjects', 'to': 'Students', 'relation': SubjectToStudent()},\n",
        "\n",
        "        {'from': 'Teachers', 'to': 'Subjects', 'relation': TeacherToSubject()},\n",
        "        {'from': 'Subjects', 'to': 'Teachers', 'relation': SubjectToTeacher()},\n",
        "    ]\n",
        "}\n",
        "\n",
        "queryStudents = graphToPipe(grDefinition, 'Students')\n",
        "queryTeachers = graphToPipe(grDefinition, 'Teachers')\n",
        "querySubjects = graphToPipe(grDefinition, 'Subjects')\n",
        "\n",
        "studentsIds = [258]\n",
        "queryStudentsResult = list(queryStudents(studentsIds))\n",
        "print(queryStudentsResult)\n",
        "print(json.dumps(queryStudentsResult, indent=2))"
      ],
      "execution_count": 40,
      "outputs": [
        {
          "output_type": "stream",
          "text": [
            "['Teachers', 'Subjects']\n",
            "Subjects\n",
            "['Teachers']\n",
            "Teachers\n",
            "[]\n",
            "['Students', 'Subjects']\n",
            "Subjects\n",
            "['Students']\n",
            "Students\n",
            "[]\n",
            "['Students', 'Teachers']\n",
            "Students\n",
            "['Teachers']\n",
            "Teachers\n",
            "[]\n",
            "[{'id': 258, 'name': 'George Burden', 'Subjects': [{'id': 1024, 'name': 'Mathematics', 'Teachers': [{'id': 2573, 'name': 'Paul Coleman'}]}, {'id': 1086, 'name': 'Physics', 'Teachers': [{'id': 2573, 'name': 'Paul Coleman'}, {'id': 2379, 'name': 'Julia Newman'}]}]}]\n",
            "[\n",
            "  {\n",
            "    \"id\": 258,\n",
            "    \"name\": \"George Burden\",\n",
            "    \"Subjects\": [\n",
            "      {\n",
            "        \"id\": 1024,\n",
            "        \"name\": \"Mathematics\",\n",
            "        \"Teachers\": [\n",
            "          {\n",
            "            \"id\": 2573,\n",
            "            \"name\": \"Paul Coleman\"\n",
            "          }\n",
            "        ]\n",
            "      },\n",
            "      {\n",
            "        \"id\": 1086,\n",
            "        \"name\": \"Physics\",\n",
            "        \"Teachers\": [\n",
            "          {\n",
            "            \"id\": 2573,\n",
            "            \"name\": \"Paul Coleman\"\n",
            "          },\n",
            "          {\n",
            "            \"id\": 2379,\n",
            "            \"name\": \"Julia Newman\"\n",
            "          }\n",
            "        ]\n",
            "      }\n",
            "    ]\n",
            "  }\n",
            "]\n"
          ],
          "name": "stdout"
        }
      ]
    },
    {
      "cell_type": "code",
      "metadata": {
        "id": "iqAQ6nHGm9E8",
        "colab_type": "code",
        "outputId": "d0215a8a-8437-4690-9ea3-354986f1bb37",
        "colab": {
          "base_uri": "https://localhost:8080/",
          "height": 1000
        }
      },
      "source": [
        "\n",
        "greatSource = [{'id': 'A'}, {'id': 'B'}, {'id': 'C'}]\n",
        "smallSource = [{'id': 'a'}, {'id': 'b'}, {'id': 'c'}]\n",
        "fromGreat2Small = {'A': 'a', 'B': 'b', 'C': 'c'}\n",
        "fromSmall2Great = {'a': 'A', 'b': 'B', 'c': 'C'}\n",
        "\n",
        "@convertToPipeFunc2()\n",
        "def greatToSmallRelation(greatItem):\n",
        "  print('G:', greatItem)\n",
        "  return {'idS': fromGreat2Small[greatItem['id']]}\n",
        "\n",
        "@convertToPipeFunc2()\n",
        "def smallToGreatRelation(smallItem):\n",
        "  #print('S:', smallItem)\n",
        "  return {'id': fromSmall2Great[smallItem['id']]}\n",
        "\n",
        "@convertToPipeFunc2(with_yield=True)\n",
        "def smallToGreatRelation2(smallItem):\n",
        "  #print('S:', smallItem)\n",
        "  for i in greatSource:\n",
        "    yield i\n",
        "  #return {'idG': fromSmall2Great[smallItem['id']]}\n",
        "\n",
        "@convertToPipeFunc2()\n",
        "def identityPipe(item, description):\n",
        "  return {**item, 'description': description}\n",
        "\n",
        "@convertToPipeFunc2(with_yield=True)\n",
        "def anyToNumbersRelation(item):\n",
        "  for i in range(1,3):\n",
        "    #yield {'value': i}\n",
        "    yield i\n",
        "\n",
        "@convertToPipeFunc2()\n",
        "def numberRecord(item):\n",
        "  return {'value': item}\n",
        "\n",
        "@convertToPipeFunc2()\n",
        "def printItem(item, description):\n",
        "  print(description, item)\n",
        "  return item\n",
        "\n",
        "gr = {\n",
        "    'nodes': {\n",
        "        'Great': identityPipe(description = 'Great item'), \n",
        "        'Small': identityPipe(description = 'Small item'),\n",
        "        'Numbers': numberRecord(),\n",
        "        },\n",
        "    'edges': [\n",
        "        {'from': 'Great', 'to': 'Small', 'relation': greatToSmallRelation(), 'itemname' : 'little'},\n",
        "        {'from': 'Small', 'to': 'Great', 'relation': smallToGreatRelation2(), 'itemname' : 'bigBC', 'filter': lambda item: item[id] > 'A'},\n",
        "        {'from': 'Small', 'to': 'Great', 'relation': smallToGreatRelation2(), 'itemname' : 'bigA', 'filter': lambda item: item[id] <= 'A'},\n",
        "        {'from': 'Small', 'to': 'Numbers', 'relation': anyToNumbersRelation(), 'itemname' : 'numbers'},\n",
        "        {'from': 'Great', 'to': 'Numbers', 'relation': anyToNumbersRelation(), 'itemname' : 'numbers',\n",
        "         'reducers' :[\n",
        "            {'name': 'count', \n",
        "             'selector': lambda item: item['value'], \n",
        "             'reducer': lambda data: reduce(lambda x, y: (x + 1), data, 0)}]},\n",
        "    ]\n",
        "    }\n",
        "\n",
        "def createArrayReducer(accumulator = [], f = lambda accumulator, item: [*accumulator, item]):\n",
        "  def reducer(gen):\n",
        "    result = accumulator\n",
        "    for item in gen:\n",
        "      result = f(result, item)\n",
        "    return result\n",
        "  return reducer\n",
        "\n",
        "def createArrayReducer2(accumulator = [], f = lambda accumulator, item: [*accumulator, item]):\n",
        "  result = lambda gen: reduce(f, gen, accumulator)\n",
        "  return result\n",
        "\n",
        "import json\n",
        "graphPipe = graphToPipe(gr, 'Small')\n",
        "result = list(graphPipe(smallSource))\n",
        "print(json.dumps(result, indent=2))"
      ],
      "execution_count": 0,
      "outputs": [
        {
          "output_type": "stream",
          "text": [
            "[\n",
            "  {\n",
            "    \"id\": \"a\",\n",
            "    \"description\": \"Small item\",\n",
            "    \"bigBC\": [\n",
            "      {\n",
            "        \"id\": \"A\",\n",
            "        \"description\": \"Great item\",\n",
            "        \"numbers\": [\n",
            "          {\n",
            "            \"value\": 1\n",
            "          },\n",
            "          {\n",
            "            \"value\": 2\n",
            "          }\n",
            "        ]\n",
            "      },\n",
            "      {\n",
            "        \"id\": \"B\",\n",
            "        \"description\": \"Great item\",\n",
            "        \"numbers\": [\n",
            "          {\n",
            "            \"value\": 1\n",
            "          },\n",
            "          {\n",
            "            \"value\": 2\n",
            "          }\n",
            "        ]\n",
            "      },\n",
            "      {\n",
            "        \"id\": \"C\",\n",
            "        \"description\": \"Great item\",\n",
            "        \"numbers\": [\n",
            "          {\n",
            "            \"value\": 1\n",
            "          },\n",
            "          {\n",
            "            \"value\": 2\n",
            "          }\n",
            "        ]\n",
            "      }\n",
            "    ],\n",
            "    \"bigA\": [\n",
            "      {\n",
            "        \"id\": \"A\",\n",
            "        \"description\": \"Great item\"\n",
            "      },\n",
            "      {\n",
            "        \"id\": \"B\",\n",
            "        \"description\": \"Great item\"\n",
            "      },\n",
            "      {\n",
            "        \"id\": \"C\",\n",
            "        \"description\": \"Great item\"\n",
            "      }\n",
            "    ]\n",
            "  },\n",
            "  {\n",
            "    \"id\": \"b\",\n",
            "    \"description\": \"Small item\",\n",
            "    \"bigBC\": [\n",
            "      {\n",
            "        \"id\": \"A\",\n",
            "        \"description\": \"Great item\",\n",
            "        \"numbers\": [\n",
            "          {\n",
            "            \"value\": 1\n",
            "          },\n",
            "          {\n",
            "            \"value\": 2\n",
            "          }\n",
            "        ]\n",
            "      },\n",
            "      {\n",
            "        \"id\": \"B\",\n",
            "        \"description\": \"Great item\",\n",
            "        \"numbers\": [\n",
            "          {\n",
            "            \"value\": 1\n",
            "          },\n",
            "          {\n",
            "            \"value\": 2\n",
            "          }\n",
            "        ]\n",
            "      },\n",
            "      {\n",
            "        \"id\": \"C\",\n",
            "        \"description\": \"Great item\",\n",
            "        \"numbers\": [\n",
            "          {\n",
            "            \"value\": 1\n",
            "          },\n",
            "          {\n",
            "            \"value\": 2\n",
            "          }\n",
            "        ]\n",
            "      }\n",
            "    ],\n",
            "    \"bigA\": [\n",
            "      {\n",
            "        \"id\": \"A\",\n",
            "        \"description\": \"Great item\"\n",
            "      },\n",
            "      {\n",
            "        \"id\": \"B\",\n",
            "        \"description\": \"Great item\"\n",
            "      },\n",
            "      {\n",
            "        \"id\": \"C\",\n",
            "        \"description\": \"Great item\"\n",
            "      }\n",
            "    ]\n",
            "  },\n",
            "  {\n",
            "    \"id\": \"c\",\n",
            "    \"description\": \"Small item\",\n",
            "    \"bigBC\": [\n",
            "      {\n",
            "        \"id\": \"A\",\n",
            "        \"description\": \"Great item\",\n",
            "        \"numbers\": [\n",
            "          {\n",
            "            \"value\": 1\n",
            "          },\n",
            "          {\n",
            "            \"value\": 2\n",
            "          }\n",
            "        ]\n",
            "      },\n",
            "      {\n",
            "        \"id\": \"B\",\n",
            "        \"description\": \"Great item\",\n",
            "        \"numbers\": [\n",
            "          {\n",
            "            \"value\": 1\n",
            "          },\n",
            "          {\n",
            "            \"value\": 2\n",
            "          }\n",
            "        ]\n",
            "      },\n",
            "      {\n",
            "        \"id\": \"C\",\n",
            "        \"description\": \"Great item\",\n",
            "        \"numbers\": [\n",
            "          {\n",
            "            \"value\": 1\n",
            "          },\n",
            "          {\n",
            "            \"value\": 2\n",
            "          }\n",
            "        ]\n",
            "      }\n",
            "    ],\n",
            "    \"bigA\": [\n",
            "      {\n",
            "        \"id\": \"A\",\n",
            "        \"description\": \"Great item\"\n",
            "      },\n",
            "      {\n",
            "        \"id\": \"B\",\n",
            "        \"description\": \"Great item\"\n",
            "      },\n",
            "      {\n",
            "        \"id\": \"C\",\n",
            "        \"description\": \"Great item\"\n",
            "      }\n",
            "    ]\n",
            "  }\n",
            "]\n"
          ],
          "name": "stdout"
        }
      ]
    },
    {
      "cell_type": "code",
      "metadata": {
        "id": "1ohwetzF_yNl",
        "colab_type": "code",
        "outputId": "090e85a6-bc03-48ce-8717-791eab52ab5c",
        "colab": {
          "base_uri": "https://localhost:8080/",
          "height": 282
        }
      },
      "source": [
        "@convertToPipeFunc2()\n",
        "def copy(item, description):\n",
        "    \"\"\"describes and converts item into dictionary.\"\"\"\n",
        "    return {'input': item, 'description': description}\n",
        "\n",
        "@convertToPipeFunc2(with_yield = True)\n",
        "def copyY(item, description):\n",
        "    \"\"\"describes and converts item into dictionary.\"\"\"\n",
        "    yield {'input': item, 'description': description}\n",
        "\n",
        "@convertToPipeFunc2(with_yield = False, with_state = True)\n",
        "def copyS(item, description, state = 0):\n",
        "    \"\"\"describes and converts item into dictionary.\"\"\"\n",
        "    return ({'input': item, 'description': description, 'state': state}, state+1)\n",
        "\n",
        "@convertToPipeFunc2(with_yield = True, with_state = True)\n",
        "def copyYS(item, description, state = 0):\n",
        "    \"\"\"describes and converts item into dictionary.\"\"\"\n",
        "    yield ({'input': item, 'description': description, 'state': state}, state+1)\n",
        "\n",
        "\n",
        "\n",
        "print(copy.__doc__)\n",
        "print(copyY.__doc__)\n",
        "print(newcopyY.__doc__)\n",
        "print(newcopyY2.__doc__)\n",
        "\n",
        "data = [1, 2, 3]\n",
        "#%%time\n",
        "print(list(newcopy(data)))\n",
        "print(list(newcopy2(data)))\n",
        "print(list(newcopyY(data)))\n",
        "print(list(newcopyY2(data)))\n",
        "print(list(copyS(description = 'desc')(data)))\n",
        "print(list(copyYS(description = 'desc')(data)))\n",
        "data = range(0, 100000)\n",
        "%timeit (list(newcopy(data)))\n",
        "%timeit (list(newcopy2(data)))\n"
      ],
      "execution_count": 0,
      "outputs": [
        {
          "output_type": "stream",
          "text": [
            "describes and converts item into dictionary.\n",
            "describes and converts item into dictionary.\n"
          ],
          "name": "stdout"
        },
        {
          "output_type": "error",
          "ename": "NameError",
          "evalue": "ignored",
          "traceback": [
            "\u001b[0;31m---------------------------------------------------------------------------\u001b[0m",
            "\u001b[0;31mNameError\u001b[0m                                 Traceback (most recent call last)",
            "\u001b[0;32m<ipython-input-82-af6a88fc611e>\u001b[0m in \u001b[0;36m<module>\u001b[0;34m()\u001b[0m\n\u001b[1;32m     23\u001b[0m \u001b[0mprint\u001b[0m\u001b[0;34m(\u001b[0m\u001b[0mcopy\u001b[0m\u001b[0;34m.\u001b[0m\u001b[0m__doc__\u001b[0m\u001b[0;34m)\u001b[0m\u001b[0;34m\u001b[0m\u001b[0;34m\u001b[0m\u001b[0m\n\u001b[1;32m     24\u001b[0m \u001b[0mprint\u001b[0m\u001b[0;34m(\u001b[0m\u001b[0mcopyY\u001b[0m\u001b[0;34m.\u001b[0m\u001b[0m__doc__\u001b[0m\u001b[0;34m)\u001b[0m\u001b[0;34m\u001b[0m\u001b[0;34m\u001b[0m\u001b[0m\n\u001b[0;32m---> 25\u001b[0;31m \u001b[0mprint\u001b[0m\u001b[0;34m(\u001b[0m\u001b[0mnewcopyY\u001b[0m\u001b[0;34m.\u001b[0m\u001b[0m__doc__\u001b[0m\u001b[0;34m)\u001b[0m\u001b[0;34m\u001b[0m\u001b[0;34m\u001b[0m\u001b[0m\n\u001b[0m\u001b[1;32m     26\u001b[0m \u001b[0mprint\u001b[0m\u001b[0;34m(\u001b[0m\u001b[0mnewcopyY2\u001b[0m\u001b[0;34m.\u001b[0m\u001b[0m__doc__\u001b[0m\u001b[0;34m)\u001b[0m\u001b[0;34m\u001b[0m\u001b[0;34m\u001b[0m\u001b[0m\n\u001b[1;32m     27\u001b[0m \u001b[0;34m\u001b[0m\u001b[0m\n",
            "\u001b[0;31mNameError\u001b[0m: name 'newcopyY' is not defined"
          ]
        }
      ]
    }
  ]
}