{
  "nbformat": 4,
  "nbformat_minor": 0,
  "metadata": {
    "colab": {
      "name": "func2pipe.ipynb",
      "provenance": [],
      "collapsed_sections": [],
      "authorship_tag": "ABX9TyO5xMfCwkFX6SaPIFO2C157",
      "include_colab_link": true
    },
    "kernelspec": {
      "name": "python3",
      "display_name": "Python 3"
    }
  },
  "cells": [
    {
      "cell_type": "markdown",
      "metadata": {
        "id": "view-in-github",
        "colab_type": "text"
      },
      "source": [
        "<a href=\"https://colab.research.google.com/github/hrbolek/func2pipe/blob/master/notebooks/func2pipe.ipynb\" target=\"_parent\"><img src=\"https://colab.research.google.com/assets/colab-badge.svg\" alt=\"Open In Colab\"/></a>"
      ]
    },
    {
      "cell_type": "markdown",
      "metadata": {
        "id": "YGIE7FHnbWeo",
        "colab_type": "text"
      },
      "source": [
        "# Func to Pipe"
      ]
    },
    {
      "cell_type": "markdown",
      "metadata": {
        "id": "CCk69cOpbaoC",
        "colab_type": "text"
      },
      "source": [
        "## Source Code"
      ]
    },
    {
      "cell_type": "markdown",
      "metadata": {
        "id": "VO8HGoOmbfU7",
        "colab_type": "text"
      },
      "source": [
        "### Functions Reducer"
      ]
    },
    {
      "cell_type": "code",
      "metadata": {
        "id": "27ee0wKMX-8A",
        "colab_type": "code",
        "colab": {}
      },
      "source": [
        "def createPipe(*F):\n",
        "  def Fdiamond(sequence):\n",
        "    result = sequence\n",
        "    for Fx in F:\n",
        "      result = Fx(result)\n",
        "    return result\n",
        "  return Fdiamond"
      ],
      "execution_count": 0,
      "outputs": []
    },
    {
      "cell_type": "markdown",
      "metadata": {
        "id": "DQt9650FbiON",
        "colab_type": "text"
      },
      "source": [
        "### Subpipe"
      ]
    },
    {
      "cell_type": "code",
      "metadata": {
        "id": "83wnRF7HYmrN",
        "colab_type": "code",
        "colab": {}
      },
      "source": [
        "def createSub(assign = lambda source, result: {**source, **result}, reducer = None):\n",
        "\n",
        "    def multipleResults(*F):\n",
        "        buffer = {'data': None}\n",
        "        def pre(gen):\n",
        "            for item in gen:\n",
        "                buffer['data'] = item\n",
        "                yield item\n",
        "\n",
        "        def inner(gen):\n",
        "            e = gen\n",
        "            for f in F:\n",
        "                e = f(e)\n",
        "            return e\n",
        "\n",
        "        def post(gen):\n",
        "            for item in gen:\n",
        "                yield assign(buffer['data'], item)\n",
        "\n",
        "        return lambda gen: post(inner(pre(gen)))\n",
        "\n",
        "    def reducedResult(*F):\n",
        "        def inner(gen):\n",
        "            e = gen\n",
        "            for f in F:\n",
        "                e = f(e)\n",
        "            return e\n",
        "\n",
        "        def result(gen):\n",
        "            for item in gen:\n",
        "                itemResult = reducer(inner([item]))\n",
        "                yield assign(item, itemResult)\n",
        "        return result\n",
        "\n",
        "    if reducer == None:\n",
        "        return multipleResults\n",
        "    else:\n",
        "        return reducedResult"
      ],
      "execution_count": 0,
      "outputs": []
    },
    {
      "cell_type": "markdown",
      "metadata": {
        "id": "tirYAIgwbnk0",
        "colab_type": "text"
      },
      "source": [
        "### Convertor"
      ]
    },
    {
      "cell_type": "code",
      "metadata": {
        "id": "vsgceUFEZuQX",
        "colab_type": "code",
        "colab": {}
      },
      "source": [
        "from functools import wraps, reduce, partial\n"
      ],
      "execution_count": 0,
      "outputs": []
    },
    {
      "cell_type": "code",
      "metadata": {
        "id": "Z_akqLTxIbKH",
        "colab_type": "code",
        "colab": {}
      },
      "source": [
        "from functools import wraps, reduce, partial\n",
        "def convertToPipeFuncFull(func, with_yield = False, with_state = False, kwargs = {}):\n",
        "    @wraps(func)\n",
        "    def innerSelectSimple(generator):\n",
        "        for i in generator:\n",
        "            yield func(i, **kwargs)\n",
        "\n",
        "    if (not with_yield) & (not with_state):\n",
        "        return innerSelectSimple\n",
        "    \n",
        "    @wraps(func)\n",
        "    def innerSelectWithYield(generator):\n",
        "        for funcResult in innerSelectSimple(generator):\n",
        "            for j in funcResult:\n",
        "                yield j\n",
        "\n",
        "    @wraps(func)\n",
        "    def innerSelectWithYieldOld(generator):\n",
        "        for i in generator:\n",
        "            for j in func(i, **kwargs):\n",
        "                yield j\n",
        "\n",
        "\n",
        "    if (with_yield) & (not with_state):\n",
        "        return innerSelectWithYield\n",
        "\n",
        "    @wraps(func)\n",
        "    def innerSelectWithState(generator):\n",
        "        state = None\n",
        "        initState = True\n",
        "        for i in generator:\n",
        "            result = None\n",
        "            if (initState):\n",
        "                result, state = func(i, **kwargs)\n",
        "                initState = False\n",
        "            else:\n",
        "                result, state = func(i, state = state, **kwargs)\n",
        "            if result:\n",
        "              yield result\n",
        "\n",
        "    if (not with_yield) & with_state:\n",
        "        return innerSelectWithState\n",
        "\n",
        "    @wraps(func)\n",
        "    def innerSelectWithYieldWithState(generator):\n",
        "        for i in innerSelectWithState(generator):\n",
        "            yield i\n",
        "\n",
        "    def innerSelectWithYieldWithStateOld(generator):\n",
        "        state = None\n",
        "        initState = True\n",
        "        for i in generator:\n",
        "            result = None\n",
        "            if (initState):\n",
        "                for result, statel in func(i, **kwargs):\n",
        "                    state = statel\n",
        "                    if not result is None:\n",
        "                        yield result\n",
        "                initState = False\n",
        "            else:\n",
        "                for result, statel in func(i, state = state, **kwargs):\n",
        "                    state = statel\n",
        "                    if not result is None:\n",
        "                        yield result\n",
        "\n",
        "\n",
        "    return innerSelectWithYieldWithState"
      ],
      "execution_count": 0,
      "outputs": []
    },
    {
      "cell_type": "markdown",
      "metadata": {
        "id": "XctIlzEZbvQt",
        "colab_type": "text"
      },
      "source": [
        "### Convertor Decorator"
      ]
    },
    {
      "cell_type": "code",
      "metadata": {
        "id": "o_KBaPZNJ7A8",
        "colab_type": "code",
        "colab": {}
      },
      "source": [
        "def convertToPipeFunc(with_yield = False, with_state = False):\n",
        "    def pipeit(__func):\n",
        "        @wraps(__func)\n",
        "        def binder(**kwargs):\n",
        "            result = wraps(__func)(convertToPipeFuncFull(__func, with_yield, with_state, kwargs))\n",
        "            return result\n",
        "        return binder\n",
        "    return pipeit\n",
        "\n",
        "convertToPipeFunc2 = convertToPipeFunc "
      ],
      "execution_count": 0,
      "outputs": []
    },
    {
      "cell_type": "markdown",
      "metadata": {
        "id": "k6jU_b0zbSz6",
        "colab_type": "text"
      },
      "source": [
        "## Tests"
      ]
    },
    {
      "cell_type": "code",
      "metadata": {
        "id": "ZbJtvwuTdY5B",
        "colab_type": "code",
        "colab": {}
      },
      "source": [
        "import unittest\n",
        "\n",
        "class TestCase(unittest.TestCase):\n",
        "  def __call__(self, *args, **kwargs):\n",
        "    self.assertEqual(*args, **kwargs)\n",
        "    return True\n",
        "\n",
        "testerClass = TestCase()"
      ],
      "execution_count": 0,
      "outputs": []
    },
    {
      "cell_type": "markdown",
      "metadata": {
        "id": "elYEvOw-cM7G",
        "colab_type": "text"
      },
      "source": [
        "### Simple Function"
      ]
    },
    {
      "cell_type": "code",
      "metadata": {
        "id": "49HhLqujbQ6X",
        "colab_type": "code",
        "colab": {
          "base_uri": "https://localhost:8080/",
          "height": 72
        },
        "outputId": "1bc17b47-5128-4730-c902-0834852f2231"
      },
      "source": [
        "source = [{'value': 0}, {'value': 1}, {'value': 2}]\n",
        "@convertToPipeFunc()\n",
        "def add(item, amount):\n",
        "  return {**item, 'result': item['value'] + amount}\n",
        "\n",
        "expectedResult = [{'value': 0, 'result': 3}, {'value': 1, 'result': 4},\n",
        "  {'value': 2, 'result': 5}]\n",
        "\n",
        "pipe = createPipe(\n",
        "    add(amount = 2),\n",
        "    add(amount = 3),\n",
        "    list)\n",
        "\n",
        "result = pipe(source)\n",
        "print('Source:', source)\n",
        "print('Result:', result)\n",
        "print('Valid: ', testerClass(expectedResult, result)) "
      ],
      "execution_count": 32,
      "outputs": [
        {
          "output_type": "stream",
          "text": [
            "Source: [{'value': 0}, {'value': 1}, {'value': 2}]\n",
            "Result: [{'value': 0, 'result': 3}, {'value': 1, 'result': 4}, {'value': 2, 'result': 5}]\n",
            "Valid:  True\n"
          ],
          "name": "stdout"
        }
      ]
    },
    {
      "cell_type": "markdown",
      "metadata": {
        "id": "_z8IQtI3e9vX",
        "colab_type": "text"
      },
      "source": [
        "### Function with Yield"
      ]
    },
    {
      "cell_type": "code",
      "metadata": {
        "id": "JTWmOw-ZfBKa",
        "colab_type": "code",
        "colab": {
          "base_uri": "https://localhost:8080/",
          "height": 72
        },
        "outputId": "b02e456e-c529-413a-ca39-c0e26b05fa21"
      },
      "source": [
        "source = [{'value': ['A', 'B']}, {'value': ['A', 'C']}, {'value': ['D', 'E']}]\n",
        "\n",
        "@convertToPipeFunc(with_yield = True)\n",
        "def revealSubItem(item, itemName):\n",
        "    for _ in item[itemName]:\n",
        "        yield _\n",
        "\n",
        "expectedResult = ['A', 'B', 'A', 'C', 'D', 'E']\n",
        "\n",
        "pipe = createPipe(\n",
        "    revealSubItem(itemName = 'value'),\n",
        "    list)\n",
        "\n",
        "result = pipe(source)\n",
        "print('Source:', source)\n",
        "print('Result:', result)\n",
        "print('Valid: ', testerClass(expectedResult, result)) "
      ],
      "execution_count": 31,
      "outputs": [
        {
          "output_type": "stream",
          "text": [
            "Source: [{'value': ['A', 'B']}, {'value': ['A', 'C']}, {'value': ['D', 'E']}]\n",
            "Result: ['A', 'B', 'A', 'C', 'D', 'E']\n",
            "Valid:  True\n"
          ],
          "name": "stdout"
        }
      ]
    },
    {
      "cell_type": "markdown",
      "metadata": {
        "id": "EVdlUfGFgxXv",
        "colab_type": "text"
      },
      "source": [
        "## Function with State"
      ]
    },
    {
      "cell_type": "code",
      "metadata": {
        "id": "iGgK7Smdg5KJ",
        "colab_type": "code",
        "colab": {
          "base_uri": "https://localhost:8080/",
          "height": 72
        },
        "outputId": "871ac35e-cd86-45ee-b01b-feb8467d7358"
      },
      "source": [
        "source = [{'value': ['A', 'B']}, {'value': ['A', 'C']}, {'value': ['D', 'E']}]\n",
        "\n",
        "@convertToPipeFunc(with_state = True)\n",
        "def assignId(item, state = 0, idName = 'id'):\n",
        "    return {**item, idName: state}, state + 1\n",
        "\n",
        "expectedResult = [{'value': ['A', 'B'], 'ID': 0}, \n",
        "    {'value': ['A', 'C'], 'ID': 1}, {'value': ['D', 'E'], 'ID': 2}]\n",
        "\n",
        "pipe = createPipe(\n",
        "    assignId(idName = 'ID'),\n",
        "    list)\n",
        "\n",
        "result = pipe(source)\n",
        "print('Source:', source)\n",
        "print('Result:', result)\n",
        "print('Valid: ', testerClass(expectedResult, result)) "
      ],
      "execution_count": 30,
      "outputs": [
        {
          "output_type": "stream",
          "text": [
            "Source: [{'value': ['A', 'B']}, {'value': ['A', 'C']}, {'value': ['D', 'E']}]\n",
            "Result: [{'value': ['A', 'B'], 'ID': 0}, {'value': ['A', 'C'], 'ID': 1}, {'value': ['D', 'E'], 'ID': 2}]\n",
            "Valid:  True\n"
          ],
          "name": "stdout"
        }
      ]
    },
    {
      "cell_type": "markdown",
      "metadata": {
        "id": "gzcYFGsHiHJW",
        "colab_type": "text"
      },
      "source": [
        "### Function with Yield and with State"
      ]
    },
    {
      "cell_type": "code",
      "metadata": {
        "id": "w2CBgmkfiLPh",
        "colab_type": "code",
        "colab": {
          "base_uri": "https://localhost:8080/",
          "height": 398
        },
        "outputId": "94e96088-f687-4c71-abe8-1b4cd968c9b5"
      },
      "source": [
        "source = [{'value': ['A', 'B']}, {'value': ['A', 'C']}, {'value': ['D', 'E']}]\n",
        "\n",
        "@convertToPipeFunc(with_state = True, with_yield=True)\n",
        "def assignIdToSubItem(item, state = 0, itemName = ''):\n",
        "    for _ in item[itemName]:\n",
        "        yield {itemName: _, 'id': state}, state + 1\n",
        "\n",
        "pipe = createPipe(\n",
        "    assignIdToSubItem(itemName = 'value'),\n",
        "    list)\n",
        "\n",
        "result = pipe(source)\n",
        "print('Source:', source)\n",
        "print('Result:', result)\n",
        "print('Valid: ', testerClass(expectedResult, result)) "
      ],
      "execution_count": 36,
      "outputs": [
        {
          "output_type": "error",
          "ename": "TypeError",
          "evalue": "ignored",
          "traceback": [
            "\u001b[0;31m---------------------------------------------------------------------------\u001b[0m",
            "\u001b[0;31mTypeError\u001b[0m                                 Traceback (most recent call last)",
            "\u001b[0;32m<ipython-input-36-99722d21d94c>\u001b[0m in \u001b[0;36m<module>\u001b[0;34m()\u001b[0m\n\u001b[1;32m     10\u001b[0m     list)\n\u001b[1;32m     11\u001b[0m \u001b[0;34m\u001b[0m\u001b[0m\n\u001b[0;32m---> 12\u001b[0;31m \u001b[0mresult\u001b[0m \u001b[0;34m=\u001b[0m \u001b[0mpipe\u001b[0m\u001b[0;34m(\u001b[0m\u001b[0msource\u001b[0m\u001b[0;34m)\u001b[0m\u001b[0;34m\u001b[0m\u001b[0;34m\u001b[0m\u001b[0m\n\u001b[0m\u001b[1;32m     13\u001b[0m \u001b[0mprint\u001b[0m\u001b[0;34m(\u001b[0m\u001b[0;34m'Source:'\u001b[0m\u001b[0;34m,\u001b[0m \u001b[0msource\u001b[0m\u001b[0;34m)\u001b[0m\u001b[0;34m\u001b[0m\u001b[0;34m\u001b[0m\u001b[0m\n\u001b[1;32m     14\u001b[0m \u001b[0mprint\u001b[0m\u001b[0;34m(\u001b[0m\u001b[0;34m'Result:'\u001b[0m\u001b[0;34m,\u001b[0m \u001b[0mresult\u001b[0m\u001b[0;34m)\u001b[0m\u001b[0;34m\u001b[0m\u001b[0;34m\u001b[0m\u001b[0m\n",
            "\u001b[0;32m<ipython-input-1-a4437c69e4ba>\u001b[0m in \u001b[0;36mFdiamond\u001b[0;34m(sequence)\u001b[0m\n\u001b[1;32m      3\u001b[0m     \u001b[0mresult\u001b[0m \u001b[0;34m=\u001b[0m \u001b[0msequence\u001b[0m\u001b[0;34m\u001b[0m\u001b[0;34m\u001b[0m\u001b[0m\n\u001b[1;32m      4\u001b[0m     \u001b[0;32mfor\u001b[0m \u001b[0mFx\u001b[0m \u001b[0;32min\u001b[0m \u001b[0mF\u001b[0m\u001b[0;34m:\u001b[0m\u001b[0;34m\u001b[0m\u001b[0;34m\u001b[0m\u001b[0m\n\u001b[0;32m----> 5\u001b[0;31m       \u001b[0mresult\u001b[0m \u001b[0;34m=\u001b[0m \u001b[0mFx\u001b[0m\u001b[0;34m(\u001b[0m\u001b[0mresult\u001b[0m\u001b[0;34m)\u001b[0m\u001b[0;34m\u001b[0m\u001b[0;34m\u001b[0m\u001b[0m\n\u001b[0m\u001b[1;32m      6\u001b[0m     \u001b[0;32mreturn\u001b[0m \u001b[0mresult\u001b[0m\u001b[0;34m\u001b[0m\u001b[0;34m\u001b[0m\u001b[0m\n\u001b[1;32m      7\u001b[0m   \u001b[0;32mreturn\u001b[0m \u001b[0mFdiamond\u001b[0m\u001b[0;34m\u001b[0m\u001b[0;34m\u001b[0m\u001b[0m\n",
            "\u001b[0;32m<ipython-input-17-05588b90f982>\u001b[0m in \u001b[0;36minnerSelectWithYieldWithState\u001b[0;34m(generator)\u001b[0m\n\u001b[1;32m     44\u001b[0m     \u001b[0;34m@\u001b[0m\u001b[0mwraps\u001b[0m\u001b[0;34m(\u001b[0m\u001b[0mfunc\u001b[0m\u001b[0;34m)\u001b[0m\u001b[0;34m\u001b[0m\u001b[0;34m\u001b[0m\u001b[0m\n\u001b[1;32m     45\u001b[0m     \u001b[0;32mdef\u001b[0m \u001b[0minnerSelectWithYieldWithState\u001b[0m\u001b[0;34m(\u001b[0m\u001b[0mgenerator\u001b[0m\u001b[0;34m)\u001b[0m\u001b[0;34m:\u001b[0m\u001b[0;34m\u001b[0m\u001b[0;34m\u001b[0m\u001b[0m\n\u001b[0;32m---> 46\u001b[0;31m         \u001b[0;32mfor\u001b[0m \u001b[0mi\u001b[0m \u001b[0;32min\u001b[0m \u001b[0minnerSelectWithState\u001b[0m\u001b[0;34m(\u001b[0m\u001b[0mgenerator\u001b[0m\u001b[0;34m)\u001b[0m\u001b[0;34m:\u001b[0m\u001b[0;34m\u001b[0m\u001b[0;34m\u001b[0m\u001b[0m\n\u001b[0m\u001b[1;32m     47\u001b[0m             \u001b[0;32myield\u001b[0m \u001b[0mi\u001b[0m\u001b[0;34m\u001b[0m\u001b[0;34m\u001b[0m\u001b[0m\n\u001b[1;32m     48\u001b[0m \u001b[0;34m\u001b[0m\u001b[0m\n",
            "\u001b[0;32m<ipython-input-17-05588b90f982>\u001b[0m in \u001b[0;36minnerSelectWithState\u001b[0;34m(generator)\u001b[0m\n\u001b[1;32m     35\u001b[0m                 \u001b[0minitState\u001b[0m \u001b[0;34m=\u001b[0m \u001b[0;32mFalse\u001b[0m\u001b[0;34m\u001b[0m\u001b[0;34m\u001b[0m\u001b[0m\n\u001b[1;32m     36\u001b[0m             \u001b[0;32melse\u001b[0m\u001b[0;34m:\u001b[0m\u001b[0;34m\u001b[0m\u001b[0;34m\u001b[0m\u001b[0m\n\u001b[0;32m---> 37\u001b[0;31m                 \u001b[0mresult\u001b[0m\u001b[0;34m,\u001b[0m \u001b[0mstate\u001b[0m \u001b[0;34m=\u001b[0m \u001b[0mfunc\u001b[0m\u001b[0;34m(\u001b[0m\u001b[0mi\u001b[0m\u001b[0;34m,\u001b[0m \u001b[0mstate\u001b[0m \u001b[0;34m=\u001b[0m \u001b[0mstate\u001b[0m\u001b[0;34m,\u001b[0m \u001b[0;34m**\u001b[0m\u001b[0mkwargs\u001b[0m\u001b[0;34m)\u001b[0m\u001b[0;34m\u001b[0m\u001b[0;34m\u001b[0m\u001b[0m\n\u001b[0m\u001b[1;32m     38\u001b[0m             \u001b[0;32mif\u001b[0m \u001b[0mresult\u001b[0m\u001b[0;34m:\u001b[0m\u001b[0;34m\u001b[0m\u001b[0;34m\u001b[0m\u001b[0m\n\u001b[1;32m     39\u001b[0m               \u001b[0;32myield\u001b[0m \u001b[0mresult\u001b[0m\u001b[0;34m\u001b[0m\u001b[0;34m\u001b[0m\u001b[0m\n",
            "\u001b[0;32m<ipython-input-36-99722d21d94c>\u001b[0m in \u001b[0;36massignIdToSubItem\u001b[0;34m(item, state, itemName)\u001b[0m\n\u001b[1;32m      4\u001b[0m \u001b[0;32mdef\u001b[0m \u001b[0massignIdToSubItem\u001b[0m\u001b[0;34m(\u001b[0m\u001b[0mitem\u001b[0m\u001b[0;34m,\u001b[0m \u001b[0mstate\u001b[0m \u001b[0;34m=\u001b[0m \u001b[0;36m0\u001b[0m\u001b[0;34m,\u001b[0m \u001b[0mitemName\u001b[0m \u001b[0;34m=\u001b[0m \u001b[0;34m''\u001b[0m\u001b[0;34m)\u001b[0m\u001b[0;34m:\u001b[0m\u001b[0;34m\u001b[0m\u001b[0;34m\u001b[0m\u001b[0m\n\u001b[1;32m      5\u001b[0m     \u001b[0;32mfor\u001b[0m \u001b[0m_\u001b[0m \u001b[0;32min\u001b[0m \u001b[0mitem\u001b[0m\u001b[0;34m[\u001b[0m\u001b[0mitemName\u001b[0m\u001b[0;34m]\u001b[0m\u001b[0;34m:\u001b[0m\u001b[0;34m\u001b[0m\u001b[0;34m\u001b[0m\u001b[0m\n\u001b[0;32m----> 6\u001b[0;31m         \u001b[0;32myield\u001b[0m \u001b[0;34m{\u001b[0m\u001b[0mitemName\u001b[0m\u001b[0;34m:\u001b[0m \u001b[0m_\u001b[0m\u001b[0;34m,\u001b[0m \u001b[0;34m'id'\u001b[0m\u001b[0;34m:\u001b[0m \u001b[0mstate\u001b[0m\u001b[0;34m}\u001b[0m\u001b[0;34m,\u001b[0m \u001b[0mstate\u001b[0m \u001b[0;34m+\u001b[0m \u001b[0;36m1\u001b[0m\u001b[0;34m\u001b[0m\u001b[0;34m\u001b[0m\u001b[0m\n\u001b[0m\u001b[1;32m      7\u001b[0m \u001b[0;34m\u001b[0m\u001b[0m\n\u001b[1;32m      8\u001b[0m pipe = createPipe(\n",
            "\u001b[0;31mTypeError\u001b[0m: can only concatenate tuple (not \"int\") to tuple"
          ]
        }
      ]
    },
    {
      "cell_type": "code",
      "metadata": {
        "id": "FGAoUTAZalT2",
        "colab_type": "code",
        "outputId": "49b7d85a-7f1f-4b83-9364-149da45816f4",
        "colab": {
          "base_uri": "https://localhost:8080/",
          "height": 35
        }
      },
      "source": [
        "source = [{'value': 0}, {'value': 1}, {'value': 2}]\n",
        "@convertToPipeFunc()\n",
        "def add(item, amount):\n",
        "  return {**item, 'result': item['value'] + amount}\n",
        "\n",
        "@convertToPipeFunc()\n",
        "def calc(item, func, name):\n",
        "  result = {}\n",
        "  result[name] = func(item)\n",
        "  return result\n",
        "\n",
        "@convertToPipeFunc(with_yield = True)\n",
        "def extra(item, extradata):\n",
        "  for _ in extradata:\n",
        "    yield _\n",
        "\n",
        "def createReducer(accumulator = [], f = lambda item, accumulator: [*accumulator, item]):\n",
        "  def reducer(gen):\n",
        "    result = accumulator\n",
        "    for item in gen:\n",
        "      result = f(item, result)\n",
        "    return result\n",
        "  return reducer\n",
        "\n",
        "pipe_01 = createPipe(\n",
        "    add(amount = 2),\n",
        "    createSub(assign = lambda source, result: {**source, 'value2': result}, reducer = createReducer())(\n",
        "#    SUB(assign = lambda source, result: {**source, **result})(\n",
        "#    SUB(assign = lambda source, result: {**source, 'value2': result})(\n",
        "      calc(func = lambda item: 4, name = 'extraValue'),\n",
        "      extra(extradata = ['A', 'B', 'C'])\n",
        "    )\n",
        "    )\n",
        "result = list(pipe_01(source))\n",
        "print(result)\n"
      ],
      "execution_count": 0,
      "outputs": [
        {
          "output_type": "stream",
          "text": [
            "[{'value': 0, 'result': 2, 'value2': ['A', 'B', 'C']}, {'value': 1, 'result': 3, 'value2': ['A', 'B', 'C']}, {'value': 2, 'result': 4, 'value2': ['A', 'B', 'C']}]\n"
          ],
          "name": "stdout"
        }
      ]
    },
    {
      "cell_type": "code",
      "metadata": {
        "id": "HwYDENg-qphu",
        "colab_type": "code",
        "colab": {}
      },
      "source": [
        ""
      ],
      "execution_count": 0,
      "outputs": []
    },
    {
      "cell_type": "code",
      "metadata": {
        "id": "iqAQ6nHGm9E8",
        "colab_type": "code",
        "outputId": "f060398f-6333-4be0-fc66-d6d9d12ea863",
        "colab": {
          "base_uri": "https://localhost:8080/",
          "height": 1000
        }
      },
      "source": [
        "\n",
        "greatSource = [{'id': 'A'}, {'id': 'B'}, {'id': 'C'}]\n",
        "smallSource = [{'id': 'a'}, {'id': 'b'}, {'id': 'c'}]\n",
        "fromGreat2Small = {'A': 'a', 'B': 'b', 'C': 'c'}\n",
        "fromSmall2Great = {'a': 'A', 'b': 'B', 'c': 'C'}\n",
        "\n",
        "@convertToPipeFunc2()\n",
        "def greatToSmallRelation(greatItem):\n",
        "  print('G:', greatItem)\n",
        "  return {'idS': fromGreat2Small[greatItem['id']]}\n",
        "\n",
        "@convertToPipeFunc2()\n",
        "def smallToGreatRelation(smallItem):\n",
        "  #print('S:', smallItem)\n",
        "  return {'id': fromSmall2Great[smallItem['id']]}\n",
        "\n",
        "@convertToPipeFunc2(with_yield=True)\n",
        "def smallToGreatRelation2(smallItem):\n",
        "  #print('S:', smallItem)\n",
        "  for i in greatSource:\n",
        "    yield i\n",
        "  #return {'idG': fromSmall2Great[smallItem['id']]}\n",
        "\n",
        "@convertToPipeFunc2()\n",
        "def identityPipe(item, description):\n",
        "  return {**item, 'description': description}\n",
        "\n",
        "@convertToPipeFunc2(with_yield=True)\n",
        "def anyToNumbersRelation(item):\n",
        "  for i in range(1,3):\n",
        "    #yield {'value': i}\n",
        "    yield i\n",
        "\n",
        "@convertToPipeFunc2()\n",
        "def numberRecord(item):\n",
        "  return {'value': item}\n",
        "\n",
        "@convertToPipeFunc2()\n",
        "def printItem(item, description):\n",
        "  print(description, item)\n",
        "  return item\n",
        "\n",
        "gr = {\n",
        "    'nodes': {\n",
        "        'Great': identityPipe(description = 'Great item'), \n",
        "        'Small': identityPipe(description = 'Small item'),\n",
        "        'Numbers': numberRecord(),\n",
        "        },\n",
        "    'edges': [\n",
        "        {'from': 'Great', 'to': 'Small', 'relation': greatToSmallRelation(), 'itemname' : 'little'},\n",
        "        {'from': 'Small', 'to': 'Great', 'relation': smallToGreatRelation2(), 'itemname' : 'bigBC', 'filter': lambda item: item[id] > 'A'},\n",
        "        {'from': 'Small', 'to': 'Great', 'relation': smallToGreatRelation2(), 'itemname' : 'bigA', 'filter': lambda item: item[id] <= 'A'},\n",
        "        {'from': 'Small', 'to': 'Numbers', 'relation': anyToNumbersRelation(), 'itemname' : 'numbers'},\n",
        "        {'from': 'Great', 'to': 'Numbers', 'relation': anyToNumbersRelation(), 'itemname' : 'numbers',\n",
        "         'reducers' :[\n",
        "            {'name': 'count', \n",
        "             'selector': lambda item: item['value'], \n",
        "             'reducer': lambda data: reduce(lambda x, y: (x + 1), data, 0)}]},\n",
        "    ]\n",
        "    }\n",
        "\n",
        "def createArrayReducer(accumulator = [], f = lambda accumulator, item: [*accumulator, item]):\n",
        "  def reducer(gen):\n",
        "    result = accumulator\n",
        "    for item in gen:\n",
        "      result = f(result, item)\n",
        "    return result\n",
        "  return reducer\n",
        "\n",
        "def createArrayReducer2(accumulator = [], f = lambda accumulator, item: [*accumulator, item]):\n",
        "  result = lambda gen: reduce(f, gen, accumulator)\n",
        "  return result\n",
        "\n",
        "\n",
        "def builder(graph, currentnode):\n",
        "  availableNodes = []\n",
        "  for node in graph['nodes']:\n",
        "    availableNodes.append(node)\n",
        "  availableNodes.remove(currentnode)\n",
        "\n",
        "  def innerBuilder(graph, currentnode, filterq = lambda item: True):\n",
        "      descriptorPipe = graph['nodes'][currentnode]\n",
        "\n",
        "      def x(relation):\n",
        "        itemname = relation['to']\n",
        "        if ('itemname' in relation):\n",
        "            itemname = relation['itemname']\n",
        "        filterq = lambda item: True\n",
        "        if ('filter' in relation):\n",
        "            filterq = relation['filter']\n",
        "\n",
        "        innerPipe = innerBuilder(graph, relation['to'], filterq)\n",
        "\n",
        "        sub = createSub(assign = lambda item, result: {**item, itemname: result}, reducer = createArrayReducer())\n",
        "        return sub(relation['relation'], innerPipe)\n",
        "\n",
        "      result = [descriptorPipe]\n",
        "      nodesToRemove = []\n",
        "      for relation in filter(lambda item: item['from'] == currentnode, graph['edges']):\n",
        "          nodeName = relation['to']\n",
        "          nodesToRemove.append(nodeName)\n",
        "          if nodeName in availableNodes:\n",
        "            #result += [printItem(description = 'pre'), (x(relation)), printItem(description = 'pos')]\n",
        "            result += [x(relation)]\n",
        "          \n",
        "      for node in nodesToRemove:\n",
        "        if node in availableNodes:\n",
        "          availableNodes.remove(node)\n",
        "\n",
        "      return createPipe(*result)\n",
        "  return innerBuilder(graph, currentnode)\n",
        "\n",
        "import json\n",
        "graphPipe = builder(gr, 'Small')\n",
        "result = list(graphPipe(smallSource))\n",
        "print(json.dumps(result, indent=2))"
      ],
      "execution_count": 0,
      "outputs": [
        {
          "output_type": "stream",
          "text": [
            "[\n",
            "  {\n",
            "    \"id\": \"a\",\n",
            "    \"description\": \"Small item\",\n",
            "    \"bigBC\": [\n",
            "      {\n",
            "        \"id\": \"A\",\n",
            "        \"description\": \"Great item\",\n",
            "        \"numbers\": [\n",
            "          {\n",
            "            \"value\": 1\n",
            "          },\n",
            "          {\n",
            "            \"value\": 2\n",
            "          }\n",
            "        ]\n",
            "      },\n",
            "      {\n",
            "        \"id\": \"B\",\n",
            "        \"description\": \"Great item\",\n",
            "        \"numbers\": [\n",
            "          {\n",
            "            \"value\": 1\n",
            "          },\n",
            "          {\n",
            "            \"value\": 2\n",
            "          }\n",
            "        ]\n",
            "      },\n",
            "      {\n",
            "        \"id\": \"C\",\n",
            "        \"description\": \"Great item\",\n",
            "        \"numbers\": [\n",
            "          {\n",
            "            \"value\": 1\n",
            "          },\n",
            "          {\n",
            "            \"value\": 2\n",
            "          }\n",
            "        ]\n",
            "      }\n",
            "    ],\n",
            "    \"bigA\": [\n",
            "      {\n",
            "        \"id\": \"A\",\n",
            "        \"description\": \"Great item\"\n",
            "      },\n",
            "      {\n",
            "        \"id\": \"B\",\n",
            "        \"description\": \"Great item\"\n",
            "      },\n",
            "      {\n",
            "        \"id\": \"C\",\n",
            "        \"description\": \"Great item\"\n",
            "      }\n",
            "    ]\n",
            "  },\n",
            "  {\n",
            "    \"id\": \"b\",\n",
            "    \"description\": \"Small item\",\n",
            "    \"bigBC\": [\n",
            "      {\n",
            "        \"id\": \"A\",\n",
            "        \"description\": \"Great item\",\n",
            "        \"numbers\": [\n",
            "          {\n",
            "            \"value\": 1\n",
            "          },\n",
            "          {\n",
            "            \"value\": 2\n",
            "          }\n",
            "        ]\n",
            "      },\n",
            "      {\n",
            "        \"id\": \"B\",\n",
            "        \"description\": \"Great item\",\n",
            "        \"numbers\": [\n",
            "          {\n",
            "            \"value\": 1\n",
            "          },\n",
            "          {\n",
            "            \"value\": 2\n",
            "          }\n",
            "        ]\n",
            "      },\n",
            "      {\n",
            "        \"id\": \"C\",\n",
            "        \"description\": \"Great item\",\n",
            "        \"numbers\": [\n",
            "          {\n",
            "            \"value\": 1\n",
            "          },\n",
            "          {\n",
            "            \"value\": 2\n",
            "          }\n",
            "        ]\n",
            "      }\n",
            "    ],\n",
            "    \"bigA\": [\n",
            "      {\n",
            "        \"id\": \"A\",\n",
            "        \"description\": \"Great item\"\n",
            "      },\n",
            "      {\n",
            "        \"id\": \"B\",\n",
            "        \"description\": \"Great item\"\n",
            "      },\n",
            "      {\n",
            "        \"id\": \"C\",\n",
            "        \"description\": \"Great item\"\n",
            "      }\n",
            "    ]\n",
            "  },\n",
            "  {\n",
            "    \"id\": \"c\",\n",
            "    \"description\": \"Small item\",\n",
            "    \"bigBC\": [\n",
            "      {\n",
            "        \"id\": \"A\",\n",
            "        \"description\": \"Great item\",\n",
            "        \"numbers\": [\n",
            "          {\n",
            "            \"value\": 1\n",
            "          },\n",
            "          {\n",
            "            \"value\": 2\n",
            "          }\n",
            "        ]\n",
            "      },\n",
            "      {\n",
            "        \"id\": \"B\",\n",
            "        \"description\": \"Great item\",\n",
            "        \"numbers\": [\n",
            "          {\n",
            "            \"value\": 1\n",
            "          },\n",
            "          {\n",
            "            \"value\": 2\n",
            "          }\n",
            "        ]\n",
            "      },\n",
            "      {\n",
            "        \"id\": \"C\",\n",
            "        \"description\": \"Great item\",\n",
            "        \"numbers\": [\n",
            "          {\n",
            "            \"value\": 1\n",
            "          },\n",
            "          {\n",
            "            \"value\": 2\n",
            "          }\n",
            "        ]\n",
            "      }\n",
            "    ],\n",
            "    \"bigA\": [\n",
            "      {\n",
            "        \"id\": \"A\",\n",
            "        \"description\": \"Great item\"\n",
            "      },\n",
            "      {\n",
            "        \"id\": \"B\",\n",
            "        \"description\": \"Great item\"\n",
            "      },\n",
            "      {\n",
            "        \"id\": \"C\",\n",
            "        \"description\": \"Great item\"\n",
            "      }\n",
            "    ]\n",
            "  }\n",
            "]\n"
          ],
          "name": "stdout"
        }
      ]
    },
    {
      "cell_type": "code",
      "metadata": {
        "id": "1ohwetzF_yNl",
        "colab_type": "code",
        "outputId": "5fb61084-75c7-464b-b323-9561bac38761",
        "colab": {
          "base_uri": "https://localhost:8080/",
          "height": 237
        }
      },
      "source": [
        "@convertToPipeFunc2()\n",
        "def copy(item, description):\n",
        "    \"\"\"describes and converts item into dictionary.\"\"\"\n",
        "    return {'input': item, 'description': description}\n",
        "\n",
        "@convertToPipeFunc2(with_yield = True)\n",
        "def copyY(item, description):\n",
        "    \"\"\"describes and converts item into dictionary.\"\"\"\n",
        "    yield {'input': item, 'description': description}\n",
        "\n",
        "@convertToPipeFunc2(with_yield = False, with_state = True)\n",
        "def copyS(item, description, state = 0):\n",
        "    \"\"\"describes and converts item into dictionary.\"\"\"\n",
        "    return ({'input': item, 'description': description, 'state': state}, state+1)\n",
        "\n",
        "@convertToPipeFunc2(with_yield = True, with_state = True)\n",
        "def copyYS(item, description, state = 0):\n",
        "    \"\"\"describes and converts item into dictionary.\"\"\"\n",
        "    yield ({'input': item, 'description': description, 'state': state}, state+1)\n",
        "\n",
        "\n",
        "\n",
        "print(copy.__doc__)\n",
        "print(copyY.__doc__)\n",
        "print(newcopyY.__doc__)\n",
        "print(newcopyY2.__doc__)\n",
        "\n",
        "data = [1, 2, 3]\n",
        "#%%time\n",
        "print(list(newcopy(data)))\n",
        "print(list(newcopy2(data)))\n",
        "print(list(newcopyY(data)))\n",
        "print(list(newcopyY2(data)))\n",
        "print(list(copyS(description = 'desc')(data)))\n",
        "print(list(copyYS(description = 'desc')(data)))\n",
        "data = range(0, 100000)\n",
        "%timeit (list(newcopy(data)))\n",
        "%timeit (list(newcopy2(data)))\n"
      ],
      "execution_count": 0,
      "outputs": [
        {
          "output_type": "stream",
          "text": [
            "describes and converts item into dictionary.\n",
            "describes and converts item into dictionary.\n",
            "describes and converts item into dictionary.\n",
            "describes and converts item into dictionary.\n",
            "[{'input': 1, 'description': 'desc'}, {'input': 2, 'description': 'desc'}, {'input': 3, 'description': 'desc'}]\n",
            "[{'input': 1, 'description': 'desc'}, {'input': 2, 'description': 'desc'}, {'input': 3, 'description': 'desc'}]\n",
            "[{'input': 1, 'description': 'desc'}, {'input': 2, 'description': 'desc'}, {'input': 3, 'description': 'desc'}]\n",
            "[{'input': 1, 'description': 'desc'}, {'input': 2, 'description': 'desc'}, {'input': 3, 'description': 'desc'}]\n",
            "[{'input': 1, 'description': 'desc', 'state': 0}, {'input': 2, 'description': 'desc', 'state': 1}, {'input': 3, 'description': 'desc', 'state': 2}]\n",
            "[{'input': 1, 'description': 'desc', 'state': 0}, {'input': 2, 'description': 'desc', 'state': 1}, {'input': 3, 'description': 'desc', 'state': 2}]\n",
            "10 loops, best of 3: 43.1 ms per loop\n",
            "10 loops, best of 3: 43 ms per loop\n"
          ],
          "name": "stdout"
        }
      ]
    }
  ]
}