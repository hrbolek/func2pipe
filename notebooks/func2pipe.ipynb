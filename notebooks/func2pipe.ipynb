{
  "nbformat": 4,
  "nbformat_minor": 0,
  "metadata": {
    "colab": {
      "name": "func2pipe.ipynb",
      "provenance": [],
      "collapsed_sections": [],
      "toc_visible": true,
      "authorship_tag": "ABX9TyNWsLCjImsEZUVXPzR9hdaJ",
      "include_colab_link": true
    },
    "kernelspec": {
      "name": "python3",
      "display_name": "Python 3"
    }
  },
  "cells": [
    {
      "cell_type": "markdown",
      "metadata": {
        "id": "view-in-github",
        "colab_type": "text"
      },
      "source": [
        "<a href=\"https://colab.research.google.com/github/hrbolek/func2pipe/blob/master/notebooks/func2pipe.ipynb\" target=\"_parent\"><img src=\"https://colab.research.google.com/assets/colab-badge.svg\" alt=\"Open In Colab\"/></a>"
      ]
    },
    {
      "cell_type": "markdown",
      "metadata": {
        "id": "YGIE7FHnbWeo",
        "colab_type": "text"
      },
      "source": [
        "# Func to Pipe"
      ]
    },
    {
      "cell_type": "markdown",
      "metadata": {
        "id": "CCk69cOpbaoC",
        "colab_type": "text"
      },
      "source": [
        "## Source Code"
      ]
    },
    {
      "cell_type": "markdown",
      "metadata": {
        "id": "VO8HGoOmbfU7",
        "colab_type": "text"
      },
      "source": [
        "### Functions Reducer"
      ]
    },
    {
      "cell_type": "code",
      "metadata": {
        "id": "27ee0wKMX-8A",
        "colab_type": "code",
        "colab": {}
      },
      "source": [
        "def createPipe(*F):\n",
        "  def Fdiamond(sequence):\n",
        "    result = sequence\n",
        "    for Fx in F:\n",
        "      result = Fx(result)\n",
        "    return result\n",
        "  return Fdiamond"
      ],
      "execution_count": 83,
      "outputs": []
    },
    {
      "cell_type": "markdown",
      "metadata": {
        "id": "DQt9650FbiON",
        "colab_type": "text"
      },
      "source": [
        "### Subpipe"
      ]
    },
    {
      "cell_type": "code",
      "metadata": {
        "id": "83wnRF7HYmrN",
        "colab_type": "code",
        "colab": {}
      },
      "source": [
        "def createSub(assign = lambda source, result: {**source, **result}, reducer = None):\n",
        "    def multipleResults(*F):\n",
        "        buffer = {'data': None}\n",
        "        def pre(gen):\n",
        "            for item in gen:\n",
        "                buffer['data'] = item\n",
        "                yield item\n",
        "\n",
        "        def post(gen):\n",
        "            for item in gen:\n",
        "                yield assign(buffer['data'], item)\n",
        "\n",
        "        wholePipe = createPipe(pre, *F, post)\n",
        "        return wholePipe\n",
        "\n",
        "    def reducedResult(*F):\n",
        "        inner = createPipe(*F, reducer)\n",
        "        def result(gen):\n",
        "            for item in gen:\n",
        "                yield inner([item])\n",
        "\n",
        "        wholePipe = multipleResults(result)\n",
        "        return wholePipe\n",
        "\n",
        "    if reducer == None:\n",
        "        return multipleResults\n",
        "    else:\n",
        "        return reducedResult"
      ],
      "execution_count": 84,
      "outputs": []
    },
    {
      "cell_type": "markdown",
      "metadata": {
        "id": "tirYAIgwbnk0",
        "colab_type": "text"
      },
      "source": [
        "### Convertor"
      ]
    },
    {
      "cell_type": "code",
      "metadata": {
        "id": "vsgceUFEZuQX",
        "colab_type": "code",
        "colab": {}
      },
      "source": [
        "from functools import wraps, reduce, partial\n"
      ],
      "execution_count": 85,
      "outputs": []
    },
    {
      "cell_type": "code",
      "metadata": {
        "id": "Z_akqLTxIbKH",
        "colab_type": "code",
        "colab": {}
      },
      "source": [
        "from functools import wraps, reduce, partial\n",
        "def convertToPipeFuncFull(func, with_yield = False, with_state = False, kwargs = {}):\n",
        "    @wraps(func)\n",
        "    def innerSelectSimple(generator):\n",
        "        for i in generator:\n",
        "            yield func(i, **kwargs)\n",
        "\n",
        "    if (not with_yield) & (not with_state):\n",
        "        return innerSelectSimple\n",
        "    \n",
        "    @wraps(func)\n",
        "    def innerSelectWithYield(generator):\n",
        "        for i in generator:\n",
        "            for j in func(i, **kwargs):\n",
        "                yield j\n",
        "\n",
        "\n",
        "    if (with_yield) & (not with_state):\n",
        "        return innerSelectWithYield\n",
        "\n",
        "    @wraps(func)\n",
        "    def innerSelectWithState(generator):\n",
        "        state = None\n",
        "        for i in generator:\n",
        "            result = None\n",
        "            if (state):\n",
        "                result, state = func(i, state = state, **kwargs)\n",
        "            else:\n",
        "                result, state = func(i, **kwargs)\n",
        "            if result:\n",
        "                yield result\n",
        "\n",
        "    if (not with_yield) & with_state:\n",
        "        return innerSelectWithState\n",
        "\n",
        "    @wraps(func)\n",
        "    def innerSelectWithYieldWithState(generator):\n",
        "        state = None\n",
        "        initState = True\n",
        "        for i in generator:\n",
        "            result = None\n",
        "            if (initState):\n",
        "                for result, statel in func(i, **kwargs):\n",
        "                    state = statel\n",
        "                    if result:\n",
        "                        yield result\n",
        "                initState = False\n",
        "            else:\n",
        "                for result, statel in func(i, state = state, **kwargs):\n",
        "                    state = statel\n",
        "                    if result:\n",
        "                        yield result\n",
        "\n",
        "\n",
        "    return innerSelectWithYieldWithState"
      ],
      "execution_count": 86,
      "outputs": []
    },
    {
      "cell_type": "markdown",
      "metadata": {
        "id": "XctIlzEZbvQt",
        "colab_type": "text"
      },
      "source": [
        "### Convertor Decorator"
      ]
    },
    {
      "cell_type": "code",
      "metadata": {
        "id": "o_KBaPZNJ7A8",
        "colab_type": "code",
        "colab": {}
      },
      "source": [
        "def convertToPipeFunc(with_yield = False, with_state = False):\n",
        "    def pipeit(__func):\n",
        "        @wraps(__func)\n",
        "        def binder(**kwargs):\n",
        "            result = wraps(__func)(convertToPipeFuncFull(__func, with_yield, with_state, kwargs))\n",
        "            return result\n",
        "        return binder\n",
        "    return pipeit\n",
        "\n",
        "convertToPipeFunc2 = convertToPipeFunc \n",
        "\n",
        "def convertLambdaToPipeFunc(lambdaFunc, with_state = False, with_yield = False):\n",
        "  result = convertToPipeFunc(with_yield = with_yield, with_state = with_state)(lambdaFunc)\n",
        "  return result"
      ],
      "execution_count": 87,
      "outputs": []
    },
    {
      "cell_type": "markdown",
      "metadata": {
        "id": "k6jU_b0zbSz6",
        "colab_type": "text"
      },
      "source": [
        "## Tests"
      ]
    },
    {
      "cell_type": "code",
      "metadata": {
        "id": "ZbJtvwuTdY5B",
        "colab_type": "code",
        "colab": {}
      },
      "source": [
        "import unittest\n",
        "\n",
        "class TestCase(unittest.TestCase):\n",
        "  def __call__(self, *args, **kwargs):\n",
        "    self.assertEqual(*args, **kwargs)\n",
        "    return True\n",
        "\n",
        "testEquality = TestCase()"
      ],
      "execution_count": 88,
      "outputs": []
    },
    {
      "cell_type": "markdown",
      "metadata": {
        "id": "elYEvOw-cM7G",
        "colab_type": "text"
      },
      "source": [
        "### Simple Function"
      ]
    },
    {
      "cell_type": "code",
      "metadata": {
        "id": "49HhLqujbQ6X",
        "colab_type": "code",
        "colab": {
          "base_uri": "https://localhost:8080/",
          "height": 72
        },
        "outputId": "05a1eae5-08f9-4c74-aaf9-734d41b583c3"
      },
      "source": [
        "source = [{'value': 0}, {'value': 1}, {'value': 2}]\n",
        "@convertToPipeFunc()\n",
        "def add(item, amount):\n",
        "  return {**item, 'result': item['value'] + amount}\n",
        "\n",
        "expectedResult = [{'value': 0, 'result': 3}, {'value': 1, 'result': 4},\n",
        "  {'value': 2, 'result': 5}]\n",
        "\n",
        "pipe = createPipe(\n",
        "    add(amount = 2),\n",
        "    add(amount = 3),\n",
        "    list)\n",
        "\n",
        "result = pipe(source)\n",
        "print('Source:', source)\n",
        "print('Result:', result)\n",
        "print('Valid: ', testEquality(expectedResult, result)) "
      ],
      "execution_count": 89,
      "outputs": [
        {
          "output_type": "stream",
          "text": [
            "Source: [{'value': 0}, {'value': 1}, {'value': 2}]\n",
            "Result: [{'value': 0, 'result': 3}, {'value': 1, 'result': 4}, {'value': 2, 'result': 5}]\n",
            "Valid:  True\n"
          ],
          "name": "stdout"
        }
      ]
    },
    {
      "cell_type": "markdown",
      "metadata": {
        "id": "_z8IQtI3e9vX",
        "colab_type": "text"
      },
      "source": [
        "### Function with Yield"
      ]
    },
    {
      "cell_type": "code",
      "metadata": {
        "id": "JTWmOw-ZfBKa",
        "colab_type": "code",
        "colab": {
          "base_uri": "https://localhost:8080/",
          "height": 72
        },
        "outputId": "6cf1581c-a2fb-473c-fd54-f1646606d74d"
      },
      "source": [
        "source = [{'value': ['A', 'B']}, {'value': ['A', 'C']}, {'value': ['D', 'E']}]\n",
        "\n",
        "@convertToPipeFunc(with_yield = True)\n",
        "def revealSubItem(item, itemName):\n",
        "    for _ in item[itemName]:\n",
        "        yield _\n",
        "\n",
        "expectedResult = ['A', 'B', 'A', 'C', 'D', 'E']\n",
        "\n",
        "pipe = createPipe(\n",
        "    revealSubItem(itemName = 'value'),\n",
        "    list)\n",
        "\n",
        "result = pipe(source)\n",
        "print('Source:', source)\n",
        "print('Result:', result)\n",
        "print('Valid: ', testEquality(expectedResult, result)) "
      ],
      "execution_count": 90,
      "outputs": [
        {
          "output_type": "stream",
          "text": [
            "Source: [{'value': ['A', 'B']}, {'value': ['A', 'C']}, {'value': ['D', 'E']}]\n",
            "Result: ['A', 'B', 'A', 'C', 'D', 'E']\n",
            "Valid:  True\n"
          ],
          "name": "stdout"
        }
      ]
    },
    {
      "cell_type": "markdown",
      "metadata": {
        "id": "EVdlUfGFgxXv",
        "colab_type": "text"
      },
      "source": [
        "### Function with State"
      ]
    },
    {
      "cell_type": "code",
      "metadata": {
        "id": "iGgK7Smdg5KJ",
        "colab_type": "code",
        "colab": {
          "base_uri": "https://localhost:8080/",
          "height": 72
        },
        "outputId": "bfc8939a-0c38-4864-811c-54559d064ea3"
      },
      "source": [
        "source = [{'value': ['A', 'B']}, {'value': ['A', 'C']}, {'value': ['D', 'E']}]\n",
        "\n",
        "@convertToPipeFunc(with_state = True)\n",
        "def assignId(item, state = 0, idName = 'id'):\n",
        "    return {**item, idName: state}, state + 1\n",
        "\n",
        "expectedResult = [{'value': ['A', 'B'], 'ID': 0}, \n",
        "    {'value': ['A', 'C'], 'ID': 1}, {'value': ['D', 'E'], 'ID': 2}]\n",
        "\n",
        "pipe = createPipe(\n",
        "    assignId(idName = 'ID'),\n",
        "    list)\n",
        "\n",
        "result = pipe(source)\n",
        "print('Source:', source)\n",
        "print('Result:', result)\n",
        "print('Valid: ', testEquality(expectedResult, result)) "
      ],
      "execution_count": 91,
      "outputs": [
        {
          "output_type": "stream",
          "text": [
            "Source: [{'value': ['A', 'B']}, {'value': ['A', 'C']}, {'value': ['D', 'E']}]\n",
            "Result: [{'value': ['A', 'B'], 'ID': 0}, {'value': ['A', 'C'], 'ID': 1}, {'value': ['D', 'E'], 'ID': 2}]\n",
            "Valid:  True\n"
          ],
          "name": "stdout"
        }
      ]
    },
    {
      "cell_type": "markdown",
      "metadata": {
        "id": "gzcYFGsHiHJW",
        "colab_type": "text"
      },
      "source": [
        "### Function with Yield and with State"
      ]
    },
    {
      "cell_type": "code",
      "metadata": {
        "id": "w2CBgmkfiLPh",
        "colab_type": "code",
        "colab": {
          "base_uri": "https://localhost:8080/",
          "height": 72
        },
        "outputId": "f3bfd4a3-5045-4339-c50d-8d77203a7d58"
      },
      "source": [
        "source = [{'value': ['A', 'B']}, {'value': ['A', 'C']}, {'value': ['D', 'E']}]\n",
        "\n",
        "@convertToPipeFunc(with_yield = True, with_state = True)\n",
        "def assignIdToSubItem(item, state = -1, itemName = ''):\n",
        "    for _ in item[itemName]:\n",
        "        state = state + 1\n",
        "        yield {itemName: _, 'id': state}, state\n",
        "\n",
        "expectedResult = [{'value': 'A', 'id': 0}, {'value': 'B', 'id': 1}, \n",
        "  {'value': 'A', 'id': 2}, {'value': 'C', 'id': 3}, \n",
        "  {'value': 'D', 'id': 4}, {'value': 'E', 'id': 5}\n",
        "  ]\n",
        "\n",
        "pipe = createPipe(\n",
        "    assignIdToSubItem(itemName = 'value'),\n",
        "    list)\n",
        "\n",
        "result = pipe(source)\n",
        "print('Source:', source)\n",
        "print('Result:', result)\n",
        "print('Valid: ', testEquality(expectedResult, result)) "
      ],
      "execution_count": 92,
      "outputs": [
        {
          "output_type": "stream",
          "text": [
            "Source: [{'value': ['A', 'B']}, {'value': ['A', 'C']}, {'value': ['D', 'E']}]\n",
            "Result: [{'value': 'A', 'id': 0}, {'value': 'B', 'id': 1}, {'value': 'A', 'id': 2}, {'value': 'C', 'id': 3}, {'value': 'D', 'id': 4}, {'value': 'E', 'id': 5}]\n",
            "Valid:  True\n"
          ],
          "name": "stdout"
        }
      ]
    },
    {
      "cell_type": "markdown",
      "metadata": {
        "id": "DgoFRd_IxhY4",
        "colab_type": "text"
      },
      "source": [
        "### Subpipe"
      ]
    },
    {
      "cell_type": "code",
      "metadata": {
        "id": "w9wfeDquxkMY",
        "colab_type": "code",
        "colab": {
          "base_uri": "https://localhost:8080/",
          "height": 72
        },
        "outputId": "1ccd18b4-b2ef-4b97-f5a9-5aaedd16fda0"
      },
      "source": [
        "source = [{'value': 0}, {'value': 1}, {'value': 2}]\n",
        "@convertToPipeFunc()\n",
        "def plus(item, amount):\n",
        "  return item + amount\n",
        "\n",
        "@convertToPipeFunc()\n",
        "def selectIt(item, f):\n",
        "  return f(item)\n",
        "\n",
        "expectedResult = [\n",
        "  {'value': 0, 'newvalue': 2}, \n",
        "  {'value': 1, 'newvalue': 3}, \n",
        "  {'value': 2, 'newvalue': 4}\n",
        "  ]\n",
        "\n",
        "pipe = createPipe(\n",
        "    createSub(assign = lambda source, result: {**source, 'newvalue': result})(\n",
        "      selectIt(f = lambda item: item['value']),\n",
        "      plus(amount = 2),\n",
        "    ),\n",
        "    list)\n",
        "\n",
        "result = pipe(source)\n",
        "print('Source:', source)\n",
        "print('Result:', result)\n",
        "print('Valid: ', testEquality(expectedResult, result)) "
      ],
      "execution_count": 93,
      "outputs": [
        {
          "output_type": "stream",
          "text": [
            "Source: [{'value': 0}, {'value': 1}, {'value': 2}]\n",
            "Result: [{'value': 0, 'newvalue': 2}, {'value': 1, 'newvalue': 3}, {'value': 2, 'newvalue': 4}]\n",
            "Valid:  True\n"
          ],
          "name": "stdout"
        }
      ]
    },
    {
      "cell_type": "markdown",
      "metadata": {
        "id": "_3BWpvqY4PiN",
        "colab_type": "text"
      },
      "source": [
        "### Subpipe II"
      ]
    },
    {
      "cell_type": "code",
      "metadata": {
        "id": "z5CDfjg84RXG",
        "colab_type": "code",
        "colab": {
          "base_uri": "https://localhost:8080/",
          "height": 72
        },
        "outputId": "07b6e925-62df-45ff-e0fe-7f958b8ce63d"
      },
      "source": [
        "source = [{'values': [0, 1]}, {'values': [2, 1]}, {'values': [5, 2]}]\n",
        "@convertToPipeFunc()\n",
        "def plus(item, amount):\n",
        "    return item + amount\n",
        "\n",
        "@convertToPipeFunc(with_yield=True)\n",
        "def selectItAndEnum(item, f):\n",
        "    for _ in f(item):\n",
        "      yield _\n",
        "\n",
        "def createReducer():\n",
        "    def reducer(source):\n",
        "        total = 0\n",
        "        for item in source:\n",
        "          total = total + item\n",
        "        return total \n",
        "    return reducer\n",
        "\n",
        "expectedResult = [\n",
        "  {'values': [0, 1], 'sum': 1}, \n",
        "  {'values': [2, 1], 'sum': 3}, \n",
        "  {'values': [5, 2], 'sum': 7}\n",
        "  ]\n",
        "\n",
        "pipe = createPipe(\n",
        "    createSub(assign = lambda source, result: {**source, 'sum': result},\n",
        "      reducer = createReducer())(\n",
        "      selectItAndEnum(f = lambda item: item['values']),\n",
        "    ),\n",
        "    list)\n",
        "\n",
        "result = pipe(source)\n",
        "print('Source:', source)\n",
        "print('Result:', result)\n",
        "print('Valid: ', testEquality(expectedResult, result)) "
      ],
      "execution_count": 94,
      "outputs": [
        {
          "output_type": "stream",
          "text": [
            "Source: [{'values': [0, 1]}, {'values': [2, 1]}, {'values': [5, 2]}]\n",
            "Result: [{'values': [0, 1], 'sum': 1}, {'values': [2, 1], 'sum': 3}, {'values': [5, 2], 'sum': 7}]\n",
            "Valid:  True\n"
          ],
          "name": "stdout"
        }
      ]
    },
    {
      "cell_type": "code",
      "metadata": {
        "id": "FGAoUTAZalT2",
        "colab_type": "code",
        "colab": {
          "base_uri": "https://localhost:8080/",
          "height": 35
        },
        "outputId": "38a96e5b-7673-4f1c-85d5-4590c24ef9a6"
      },
      "source": [
        "source = [{'value': 0}, {'value': 1}, {'value': 2}]\n",
        "@convertToPipeFunc()\n",
        "def add(item, amount):\n",
        "  return {**item, 'result': item['value'] + amount}\n",
        "\n",
        "@convertToPipeFunc()\n",
        "def calc(item, func, name):\n",
        "  result = {}\n",
        "  result[name] = func(item)\n",
        "  return result\n",
        "\n",
        "@convertToPipeFunc(with_yield = True)\n",
        "def extra(item, extradata):\n",
        "  for _ in extradata:\n",
        "    yield _\n",
        "\n",
        "def createReducer(accumulator = [], f = lambda item, accumulator: [*accumulator, item]):\n",
        "  def reducer(gen):\n",
        "    result = accumulator\n",
        "    for item in gen:\n",
        "      result = f(item, result)\n",
        "    return result\n",
        "  return reducer\n",
        "\n",
        "pipe_01 = createPipe(\n",
        "    add(amount = 2),\n",
        "    createSub(assign = lambda source, result: {**source, 'value2': result}, reducer = createReducer())(\n",
        "#    SUB(assign = lambda source, result: {**source, **result})(\n",
        "#    SUB(assign = lambda source, result: {**source, 'value2': result})(\n",
        "      calc(func = lambda item: 4, name = 'extraValue'),\n",
        "      extra(extradata = ['A', 'B', 'C'])\n",
        "    )\n",
        "    )\n",
        "result = list(pipe_01(source))\n",
        "print(result)\n"
      ],
      "execution_count": 95,
      "outputs": [
        {
          "output_type": "stream",
          "text": [
            "[{'value': 0, 'result': 2, 'value2': ['A', 'B', 'C']}, {'value': 1, 'result': 3, 'value2': ['A', 'B', 'C']}, {'value': 2, 'result': 4, 'value2': ['A', 'B', 'C']}]\n"
          ],
          "name": "stdout"
        }
      ]
    },
    {
      "cell_type": "code",
      "metadata": {
        "id": "HwYDENg-qphu",
        "colab_type": "code",
        "colab": {}
      },
      "source": [
        ""
      ],
      "execution_count": 95,
      "outputs": []
    },
    {
      "cell_type": "markdown",
      "metadata": {
        "id": "ZiM5xQBK46f8",
        "colab_type": "text"
      },
      "source": [
        "## Pipe Described by Graph "
      ]
    },
    {
      "cell_type": "code",
      "metadata": {
        "id": "gdV-dNgw5IF-",
        "colab_type": "code",
        "colab": {}
      },
      "source": [
        "def createNumericAggregator(startValue = 0, aggFunc = lambda x, y: x + y):\n",
        "  def inner(gen):\n",
        "    result = startValue\n",
        "    for item in gen:\n",
        "      result = aggFunc(result, item)\n",
        "    return result\n",
        "  return inner\n",
        "\n",
        "def createArrayReducer(accumulator = [], f = lambda accumulator, item: [*accumulator, item]):\n",
        "  def reducer(gen):\n",
        "    return reduce(f, gen, accumulator)\n",
        "  return reducer\n",
        "\n",
        "@convertToPipeFunc(with_yield=True)\n",
        "def stopIfNotFound(item):\n",
        "  if item:\n",
        "    yield item\n",
        "\n",
        "@convertToPipeFunc(with_yield=True)\n",
        "def filterIt(item, filterFunc):\n",
        "  if filterFunc(item):\n",
        "    yield item\n",
        "\n",
        "def graphToPipe(graph, currentnode):\n",
        "  availableNodes = []\n",
        "  for node in graph['nodes']:\n",
        "    availableNodes.append(node)\n",
        "\n",
        "  def createAssignLambda(itemName):\n",
        "    return lambda item, result: {**item, itemName: result}\n",
        "\n",
        "  def reducersIntoPipes(reducers):\n",
        "    result = []\n",
        "    for reduction in reducers:\n",
        "      reSub = createSub(\n",
        "          assign = createAssignLambda(reduction['name']),\n",
        "          reducer = reduction['reduce'])\n",
        "      result.append(reSub(reduction['map']))\n",
        "    return result\n",
        "\n",
        "  def innerBuilder(graph, currentnode, filterq = None):\n",
        "      availableNodes.remove(currentnode)\n",
        "      descriptorPipe = graph['nodes'][currentnode]\n",
        "\n",
        "      def buildRelation(relation):\n",
        "        itemname = relation['itemname'] if 'itemname' in relation else relation['to']\n",
        "        filterq = relation['filter'] if 'filter' in relation else lambda item: True\n",
        "\n",
        "        sub = createSub(assign = createAssignLambda(itemname), reducer = createArrayReducer())\n",
        "        subPipe = innerBuilder(graph, relation['to'], filterq)\n",
        "        result = [sub(relation['relation'], *subPipe)]\n",
        "        if 'reducers' in relation:\n",
        "          pipes = reducersIntoPipes(relation['reducers'])\n",
        "          result.extend(pipes)\n",
        "\n",
        "        return result\n",
        "\n",
        "      result = [descriptorPipe, stopIfNotFound()]\n",
        "      if filterq:\n",
        "        result.append(filterIt(filterFunc = filterq))\n",
        "      \n",
        "      nodesToRemove = []\n",
        "      for relation in filter(lambda item: item['from'] == currentnode, graph['edges']):\n",
        "          nodeName = relation['to']\n",
        "          nodesToRemove.append(nodeName)\n",
        "          savedAvaliableNodes = availableNodes[:] #copy state\n",
        "          if nodeName in savedAvaliableNodes:\n",
        "            result += [*buildRelation(relation)]\n",
        "          availableNodes.clear() #restore state\n",
        "          availableNodes.extend(savedAvaliableNodes)  #restore state II\n",
        "          \n",
        "      for node in nodesToRemove:\n",
        "        if node in availableNodes:\n",
        "          availableNodes.remove(node)\n",
        "\n",
        "      return result\n",
        "  result = innerBuilder(graph, currentnode)\n",
        "  return createPipe(*result)"
      ],
      "execution_count": 96,
      "outputs": []
    },
    {
      "cell_type": "markdown",
      "metadata": {
        "id": "QStyb9VaGT5i",
        "colab_type": "text"
      },
      "source": [
        "### Database Model"
      ]
    },
    {
      "cell_type": "code",
      "metadata": {
        "id": "5YduKWeX6ESy",
        "colab_type": "code",
        "colab": {}
      },
      "source": [
        "studentTable = [\n",
        "    {'id': 258, 'name': 'George Burden'},\n",
        "    {'id': 263, 'name': 'Julia Seven'},\n",
        "    {'id': 396, 'name': 'Anthony Previous'},\n",
        "]\n",
        "\n",
        "subjectTable = [\n",
        "    {'id': 1024, 'name': 'Mathematics'},\n",
        "    {'id': 1144, 'name': 'English'},\n",
        "    {'id': 1194, 'name': 'History'},\n",
        "    {'id': 1086, 'name': 'Physics'},\n",
        "]\n",
        "\n",
        "student2SubjectTable = [\n",
        "    {'id': 1, 'studentId': 258, 'subjectId': 1024},\n",
        "    {'id': 2, 'studentId': 258, 'subjectId': 1086},\n",
        "    {'id': 3, 'studentId': 263, 'subjectId': 1144},\n",
        "    {'id': 4, 'studentId': 263, 'subjectId': 1198},\n",
        "    {'id': 5, 'studentId': 396, 'subjectId': 1024},\n",
        "    {'id': 6, 'studentId': 396, 'subjectId': 1144},\n",
        "]\n",
        "\n",
        "teacherTable = [\n",
        "    {'id': 2573, 'name': 'Paul Coleman'},\n",
        "    {'id': 3168, 'name': 'Igor Mashevic'},\n",
        "    {'id': 1934, 'name': 'Alex Moon'},\n",
        "    {'id': 2379, 'name': 'Julia Newman'},\n",
        "]\n",
        "\n",
        "subject2Teacher = [\n",
        "    {'id': 1, 'teacherId': 2573, 'subjectId': 1024},\n",
        "    {'id': 2, 'teacherId': 2573, 'subjectId': 1086},\n",
        "    {'id': 3, 'teacherId': 3168, 'subjectId': 1144},\n",
        "    {'id': 4, 'teacherId': 3168, 'subjectId': 1194},\n",
        "    {'id': 5, 'teacherId': 1934, 'subjectId': 1144},\n",
        "    {'id': 6, 'teacherId': 2379, 'subjectId': 1086},\n",
        "]\n",
        "\n",
        "def SelectCommand(fromTable, whereLambda):\n",
        "    for item in filter(whereLambda, fromTable):\n",
        "        yield item\n",
        "\n",
        "def SelectWhereId(fromTable, idValue):\n",
        "  for item in SelectCommand(fromTable, lambda item: item['id'] == idValue):\n",
        "      return item\n",
        "  return None"
      ],
      "execution_count": 97,
      "outputs": []
    },
    {
      "cell_type": "markdown",
      "metadata": {
        "id": "DgpEKo8ZGXZ4",
        "colab_type": "text"
      },
      "source": [
        "### Database Descriptions as Graph"
      ]
    },
    {
      "cell_type": "code",
      "metadata": {
        "id": "xNXk2Z5qGdeO",
        "colab_type": "code",
        "colab": {}
      },
      "source": [
        "@convertToPipeFunc()\n",
        "def getStudentRecord(id):\n",
        "    return SelectWhereId(fromTable=studentTable, idValue=id)\n",
        "\n",
        "@convertToPipeFunc()\n",
        "def getTeacherRecord(id):\n",
        "    return SelectWhereId(fromTable=teacherTable, idValue=id)\n",
        "\n",
        "@convertToPipeFunc()\n",
        "def getSubjectRecord(id):\n",
        "    return SelectWhereId(fromTable=subjectTable, idValue=id)\n",
        "\n",
        "@convertToPipeFunc(with_yield = True)\n",
        "def StudentToSubject(item):\n",
        "  #if item:\n",
        "    id = item['id']\n",
        "    for _ in SelectCommand(student2SubjectTable, lambda record: record['studentId'] == id):\n",
        "        yield _['subjectId']\n",
        "\n",
        "@convertToPipeFunc(with_yield = True)\n",
        "def SubjectToStudent(item):\n",
        "  #if item:\n",
        "    id = item['id']\n",
        "    for _ in SelectCommand(student2SubjectTable, lambda record: record['subjectId'] == id):\n",
        "        yield _['studentId']\n",
        "\n",
        "@convertToPipeFunc(with_yield = True)\n",
        "def SubjectToTeacher(item):\n",
        "  #if item:\n",
        "    id = item['id']\n",
        "    for _ in SelectCommand(subject2Teacher, lambda record: record['subjectId'] == id):\n",
        "        yield _['teacherId']\n",
        "\n",
        "@convertToPipeFunc(with_yield = True)\n",
        "def TeacherToSubject(item):\n",
        "  #if item:\n",
        "    id = item['id']\n",
        "    for _ in SelectCommand(subject2Teacher, lambda record: record['teacherId'] == id):\n",
        "        yield _['subjectId']\n"
      ],
      "execution_count": 98,
      "outputs": []
    },
    {
      "cell_type": "markdown",
      "metadata": {
        "id": "HaEFedPemJpw",
        "colab_type": "text"
      },
      "source": [
        "### Usage"
      ]
    },
    {
      "cell_type": "code",
      "metadata": {
        "id": "NRN7poZOGS4D",
        "colab_type": "code",
        "colab": {
          "base_uri": "https://localhost:8080/",
          "height": 605
        },
        "outputId": "ab9036eb-7b38-4122-e02f-47a18dad48a9"
      },
      "source": [
        "import json\n",
        "\n",
        "grDefinition = {\n",
        "    'nodes': {\n",
        "        'Students': getStudentRecord(),\n",
        "        'Teachers': getTeacherRecord(),\n",
        "        'Subjects': getSubjectRecord(),\n",
        "        },\n",
        "    'edges': [\n",
        "        {'from': 'Students', 'to': 'Subjects', 'relation': StudentToSubject()},\n",
        "        {'from': 'Subjects', 'to': 'Students', 'relation': SubjectToStudent()},\n",
        "\n",
        "        {'from': 'Teachers', 'to': 'Subjects', 'relation': TeacherToSubject()},\n",
        "        {'from': 'Subjects', 'to': 'Teachers', 'relation': SubjectToTeacher()},\n",
        "    ]\n",
        "}\n",
        "\n",
        "queryStudents = graphToPipe(grDefinition, 'Students')\n",
        "queryTeachers = graphToPipe(grDefinition, 'Teachers')\n",
        "querySubjects = graphToPipe(grDefinition, 'Subjects')\n",
        "\n",
        "studentsIds = [259, 258]\n",
        "queryStudentsResult = list(queryStudents(studentsIds))\n",
        "print(json.dumps(queryStudentsResult, indent=2))"
      ],
      "execution_count": 99,
      "outputs": [
        {
          "output_type": "stream",
          "text": [
            "[\n",
            "  {\n",
            "    \"id\": 258,\n",
            "    \"name\": \"George Burden\",\n",
            "    \"Subjects\": [\n",
            "      {\n",
            "        \"id\": 1024,\n",
            "        \"name\": \"Mathematics\",\n",
            "        \"Teachers\": [\n",
            "          {\n",
            "            \"id\": 2573,\n",
            "            \"name\": \"Paul Coleman\"\n",
            "          }\n",
            "        ]\n",
            "      },\n",
            "      {\n",
            "        \"id\": 1086,\n",
            "        \"name\": \"Physics\",\n",
            "        \"Teachers\": [\n",
            "          {\n",
            "            \"id\": 2573,\n",
            "            \"name\": \"Paul Coleman\"\n",
            "          },\n",
            "          {\n",
            "            \"id\": 2379,\n",
            "            \"name\": \"Julia Newman\"\n",
            "          }\n",
            "        ]\n",
            "      }\n",
            "    ]\n",
            "  }\n",
            "]\n"
          ],
          "name": "stdout"
        }
      ]
    },
    {
      "cell_type": "markdown",
      "metadata": {
        "id": "W3BCeHi8mO5f",
        "colab_type": "text"
      },
      "source": [
        "### Usage II"
      ]
    },
    {
      "cell_type": "code",
      "metadata": {
        "id": "P1ACoBdOmVH-",
        "colab_type": "code",
        "colab": {
          "base_uri": "https://localhost:8080/",
          "height": 1000
        },
        "outputId": "45db65e9-8ce9-483b-8cad-f0b58d90b951"
      },
      "source": [
        "studentsIds = [258, 396]\n",
        "queryStudentsResult = list(queryStudents(studentsIds))\n",
        "print(json.dumps(queryStudentsResult, indent=2))"
      ],
      "execution_count": 100,
      "outputs": [
        {
          "output_type": "stream",
          "text": [
            "[\n",
            "  {\n",
            "    \"id\": 258,\n",
            "    \"name\": \"George Burden\",\n",
            "    \"Subjects\": [\n",
            "      {\n",
            "        \"id\": 1024,\n",
            "        \"name\": \"Mathematics\",\n",
            "        \"Teachers\": [\n",
            "          {\n",
            "            \"id\": 2573,\n",
            "            \"name\": \"Paul Coleman\"\n",
            "          }\n",
            "        ]\n",
            "      },\n",
            "      {\n",
            "        \"id\": 1086,\n",
            "        \"name\": \"Physics\",\n",
            "        \"Teachers\": [\n",
            "          {\n",
            "            \"id\": 2573,\n",
            "            \"name\": \"Paul Coleman\"\n",
            "          },\n",
            "          {\n",
            "            \"id\": 2379,\n",
            "            \"name\": \"Julia Newman\"\n",
            "          }\n",
            "        ]\n",
            "      }\n",
            "    ]\n",
            "  },\n",
            "  {\n",
            "    \"id\": 396,\n",
            "    \"name\": \"Anthony Previous\",\n",
            "    \"Subjects\": [\n",
            "      {\n",
            "        \"id\": 1024,\n",
            "        \"name\": \"Mathematics\",\n",
            "        \"Teachers\": [\n",
            "          {\n",
            "            \"id\": 2573,\n",
            "            \"name\": \"Paul Coleman\"\n",
            "          }\n",
            "        ]\n",
            "      },\n",
            "      {\n",
            "        \"id\": 1144,\n",
            "        \"name\": \"English\",\n",
            "        \"Teachers\": [\n",
            "          {\n",
            "            \"id\": 3168,\n",
            "            \"name\": \"Igor Mashevic\"\n",
            "          },\n",
            "          {\n",
            "            \"id\": 1934,\n",
            "            \"name\": \"Alex Moon\"\n",
            "          }\n",
            "        ]\n",
            "      }\n",
            "    ]\n",
            "  }\n",
            "]\n"
          ],
          "name": "stdout"
        }
      ]
    },
    {
      "cell_type": "markdown",
      "metadata": {
        "id": "ydIb6fpBmdmT",
        "colab_type": "text"
      },
      "source": [
        "### Usage III (Teachers)"
      ]
    },
    {
      "cell_type": "code",
      "metadata": {
        "id": "PrMgFLCpmj-Q",
        "colab_type": "code",
        "colab": {
          "base_uri": "https://localhost:8080/",
          "height": 605
        },
        "outputId": "8d15d7b9-a734-42cf-97e8-54a0b37b46f4"
      },
      "source": [
        "teachersIds = [2573]\n",
        "queryTeachersResult = list(queryTeachers(teachersIds))\n",
        "print(json.dumps(queryTeachersResult, indent=2))"
      ],
      "execution_count": 101,
      "outputs": [
        {
          "output_type": "stream",
          "text": [
            "[\n",
            "  {\n",
            "    \"id\": 2573,\n",
            "    \"name\": \"Paul Coleman\",\n",
            "    \"Subjects\": [\n",
            "      {\n",
            "        \"id\": 1024,\n",
            "        \"name\": \"Mathematics\",\n",
            "        \"Students\": [\n",
            "          {\n",
            "            \"id\": 258,\n",
            "            \"name\": \"George Burden\"\n",
            "          },\n",
            "          {\n",
            "            \"id\": 396,\n",
            "            \"name\": \"Anthony Previous\"\n",
            "          }\n",
            "        ]\n",
            "      },\n",
            "      {\n",
            "        \"id\": 1086,\n",
            "        \"name\": \"Physics\",\n",
            "        \"Students\": [\n",
            "          {\n",
            "            \"id\": 258,\n",
            "            \"name\": \"George Burden\"\n",
            "          }\n",
            "        ]\n",
            "      }\n",
            "    ]\n",
            "  }\n",
            "]\n"
          ],
          "name": "stdout"
        }
      ]
    },
    {
      "cell_type": "markdown",
      "metadata": {
        "id": "PI5pDF9yqGsa",
        "colab_type": "text"
      },
      "source": [
        "### Usage IV (Subjects)"
      ]
    },
    {
      "cell_type": "code",
      "metadata": {
        "id": "um84hfGPrKUi",
        "colab_type": "code",
        "colab": {
          "base_uri": "https://localhost:8080/",
          "height": 862
        },
        "outputId": "ffac82a8-669a-40c8-877c-ef1901cf388a"
      },
      "source": [
        "subjectsIds = [1144, 1024]\n",
        "querySubjectsResult = list(querySubjects(subjectsIds))\n",
        "print(json.dumps(querySubjectsResult, indent=2))"
      ],
      "execution_count": 102,
      "outputs": [
        {
          "output_type": "stream",
          "text": [
            "[\n",
            "  {\n",
            "    \"id\": 1144,\n",
            "    \"name\": \"English\",\n",
            "    \"Students\": [\n",
            "      {\n",
            "        \"id\": 263,\n",
            "        \"name\": \"Julia Seven\"\n",
            "      },\n",
            "      {\n",
            "        \"id\": 396,\n",
            "        \"name\": \"Anthony Previous\"\n",
            "      }\n",
            "    ],\n",
            "    \"Teachers\": [\n",
            "      {\n",
            "        \"id\": 3168,\n",
            "        \"name\": \"Igor Mashevic\"\n",
            "      },\n",
            "      {\n",
            "        \"id\": 1934,\n",
            "        \"name\": \"Alex Moon\"\n",
            "      }\n",
            "    ]\n",
            "  },\n",
            "  {\n",
            "    \"id\": 1024,\n",
            "    \"name\": \"Mathematics\",\n",
            "    \"Students\": [\n",
            "      {\n",
            "        \"id\": 258,\n",
            "        \"name\": \"George Burden\"\n",
            "      },\n",
            "      {\n",
            "        \"id\": 396,\n",
            "        \"name\": \"Anthony Previous\"\n",
            "      }\n",
            "    ],\n",
            "    \"Teachers\": [\n",
            "      {\n",
            "        \"id\": 2573,\n",
            "        \"name\": \"Paul Coleman\"\n",
            "      }\n",
            "    ]\n",
            "  }\n",
            "]\n"
          ],
          "name": "stdout"
        }
      ]
    },
    {
      "cell_type": "markdown",
      "metadata": {
        "id": "LSk1JgP98kBn",
        "colab_type": "text"
      },
      "source": [
        "### Artificial Experiment"
      ]
    },
    {
      "cell_type": "code",
      "metadata": {
        "id": "iqAQ6nHGm9E8",
        "colab_type": "code",
        "colab": {
          "base_uri": "https://localhost:8080/",
          "height": 1000
        },
        "outputId": "742808c4-a787-4bd9-9d82-6ff069aa412d"
      },
      "source": [
        "\n",
        "greatSource = [{'id': 'A'}, {'id': 'B'}, {'id': 'C'}]\n",
        "smallSource = [{'id': 'a'}, {'id': 'b'}, {'id': 'c'}]\n",
        "fromGreat2Small = {'A': 'a', 'B': 'b', 'C': 'c'}\n",
        "fromSmall2Great = {'a': 'A', 'b': 'B', 'c': 'C'}\n",
        "\n",
        "@convertToPipeFunc2()\n",
        "def greatToSmallRelation(greatItem):\n",
        "  print('G:', greatItem)\n",
        "  return {'idS': fromGreat2Small[greatItem['id']]}\n",
        "\n",
        "@convertToPipeFunc2()\n",
        "def smallToGreatRelation(smallItem):\n",
        "  #print('S:', smallItem)\n",
        "  return {'id': fromSmall2Great[smallItem['id']]}\n",
        "\n",
        "@convertToPipeFunc2(with_yield=True)\n",
        "def smallToGreatRelation2(smallItem):\n",
        "  #print('S:', smallItem)\n",
        "  for i in greatSource:\n",
        "    yield i\n",
        "  #return {'idG': fromSmall2Great[smallItem['id']]}\n",
        "\n",
        "@convertToPipeFunc2()\n",
        "def identityPipe(item, description):\n",
        "  return {**item, 'description': description}\n",
        "\n",
        "@convertToPipeFunc2(with_yield=True)\n",
        "def anyToNumbersRelation(item):\n",
        "  for i in range(1,3):\n",
        "    #yield {'value': i}\n",
        "    yield i\n",
        "\n",
        "@convertToPipeFunc2()\n",
        "def numberRecord(item):\n",
        "  return {'value': item}\n",
        "\n",
        "@convertToPipeFunc2()\n",
        "def printItem(item, description):\n",
        "  print(description, item)\n",
        "  return item\n",
        "\n",
        "def getNumbers(gen):\n",
        "  for item in gen:\n",
        "    for _ in item['numbers']:\n",
        "      yield _['value']\n",
        "\n",
        "gr = {\n",
        "    'nodes': {\n",
        "        'Great': identityPipe(description = 'Great item'), \n",
        "        'Small': identityPipe(description = 'Small item'),\n",
        "        'Numbers': numberRecord(),\n",
        "        },\n",
        "    'edges': [\n",
        "        {'from': 'Great', 'to': 'Small', \n",
        "         'relation': greatToSmallRelation(), 'itemname' : 'little'},\n",
        "        {'from': 'Small', 'to': 'Great', \n",
        "         'relation': smallToGreatRelation2(), 'itemname' : 'bigA', \n",
        "         'filter': lambda item: item['id'] <= 'A'},\n",
        "        {'from': 'Small', 'to': 'Great', \n",
        "         'relation': smallToGreatRelation2(), 'itemname' : 'bigBC', \n",
        "         'filter': lambda item: item['id'] > 'A'},\n",
        "        {'from': 'Small', 'to': 'Numbers', \n",
        "         'relation': anyToNumbersRelation(), 'itemname' : 'numbers'},\n",
        "        {'from': 'Great', 'to': 'Numbers', \n",
        "         'relation': anyToNumbersRelation(), 'itemname' : 'numbers',\n",
        "         'reducers' :[\n",
        "            {'name': 'count', \n",
        "             'map': getNumbers, \n",
        "             'reduce': createNumericAggregator(startValue = 0, aggFunc = lambda x, y: (x + 1))\n",
        "             },\n",
        "            {'name': 'sum', \n",
        "             'map': getNumbers, \n",
        "             'reduce': createNumericAggregator(startValue = 0, aggFunc = lambda x, y: (x + y))\n",
        "             },\n",
        "          ]},\n",
        "    ]\n",
        "}\n",
        "\n",
        "import json\n",
        "graphPipe = graphToPipe(gr, 'Small')\n",
        "result = list(graphPipe(smallSource))\n",
        "print(json.dumps(result, indent=2))"
      ],
      "execution_count": 103,
      "outputs": [
        {
          "output_type": "stream",
          "text": [
            "[\n",
            "  {\n",
            "    \"id\": \"a\",\n",
            "    \"description\": \"Small item\",\n",
            "    \"bigA\": [\n",
            "      {\n",
            "        \"id\": \"A\",\n",
            "        \"description\": \"Great item\",\n",
            "        \"numbers\": [\n",
            "          {\n",
            "            \"value\": 1\n",
            "          },\n",
            "          {\n",
            "            \"value\": 2\n",
            "          }\n",
            "        ],\n",
            "        \"count\": 2,\n",
            "        \"sum\": 3\n",
            "      }\n",
            "    ],\n",
            "    \"bigBC\": [\n",
            "      {\n",
            "        \"id\": \"B\",\n",
            "        \"description\": \"Great item\",\n",
            "        \"numbers\": [\n",
            "          {\n",
            "            \"value\": 1\n",
            "          },\n",
            "          {\n",
            "            \"value\": 2\n",
            "          }\n",
            "        ],\n",
            "        \"count\": 2,\n",
            "        \"sum\": 3\n",
            "      },\n",
            "      {\n",
            "        \"id\": \"C\",\n",
            "        \"description\": \"Great item\",\n",
            "        \"numbers\": [\n",
            "          {\n",
            "            \"value\": 1\n",
            "          },\n",
            "          {\n",
            "            \"value\": 2\n",
            "          }\n",
            "        ],\n",
            "        \"count\": 2,\n",
            "        \"sum\": 3\n",
            "      }\n",
            "    ],\n",
            "    \"numbers\": [\n",
            "      {\n",
            "        \"value\": 1\n",
            "      },\n",
            "      {\n",
            "        \"value\": 2\n",
            "      }\n",
            "    ]\n",
            "  },\n",
            "  {\n",
            "    \"id\": \"b\",\n",
            "    \"description\": \"Small item\",\n",
            "    \"bigA\": [\n",
            "      {\n",
            "        \"id\": \"A\",\n",
            "        \"description\": \"Great item\",\n",
            "        \"numbers\": [\n",
            "          {\n",
            "            \"value\": 1\n",
            "          },\n",
            "          {\n",
            "            \"value\": 2\n",
            "          }\n",
            "        ],\n",
            "        \"count\": 2,\n",
            "        \"sum\": 3\n",
            "      }\n",
            "    ],\n",
            "    \"bigBC\": [\n",
            "      {\n",
            "        \"id\": \"B\",\n",
            "        \"description\": \"Great item\",\n",
            "        \"numbers\": [\n",
            "          {\n",
            "            \"value\": 1\n",
            "          },\n",
            "          {\n",
            "            \"value\": 2\n",
            "          }\n",
            "        ],\n",
            "        \"count\": 2,\n",
            "        \"sum\": 3\n",
            "      },\n",
            "      {\n",
            "        \"id\": \"C\",\n",
            "        \"description\": \"Great item\",\n",
            "        \"numbers\": [\n",
            "          {\n",
            "            \"value\": 1\n",
            "          },\n",
            "          {\n",
            "            \"value\": 2\n",
            "          }\n",
            "        ],\n",
            "        \"count\": 2,\n",
            "        \"sum\": 3\n",
            "      }\n",
            "    ],\n",
            "    \"numbers\": [\n",
            "      {\n",
            "        \"value\": 1\n",
            "      },\n",
            "      {\n",
            "        \"value\": 2\n",
            "      }\n",
            "    ]\n",
            "  },\n",
            "  {\n",
            "    \"id\": \"c\",\n",
            "    \"description\": \"Small item\",\n",
            "    \"bigA\": [\n",
            "      {\n",
            "        \"id\": \"A\",\n",
            "        \"description\": \"Great item\",\n",
            "        \"numbers\": [\n",
            "          {\n",
            "            \"value\": 1\n",
            "          },\n",
            "          {\n",
            "            \"value\": 2\n",
            "          }\n",
            "        ],\n",
            "        \"count\": 2,\n",
            "        \"sum\": 3\n",
            "      }\n",
            "    ],\n",
            "    \"bigBC\": [\n",
            "      {\n",
            "        \"id\": \"B\",\n",
            "        \"description\": \"Great item\",\n",
            "        \"numbers\": [\n",
            "          {\n",
            "            \"value\": 1\n",
            "          },\n",
            "          {\n",
            "            \"value\": 2\n",
            "          }\n",
            "        ],\n",
            "        \"count\": 2,\n",
            "        \"sum\": 3\n",
            "      },\n",
            "      {\n",
            "        \"id\": \"C\",\n",
            "        \"description\": \"Great item\",\n",
            "        \"numbers\": [\n",
            "          {\n",
            "            \"value\": 1\n",
            "          },\n",
            "          {\n",
            "            \"value\": 2\n",
            "          }\n",
            "        ],\n",
            "        \"count\": 2,\n",
            "        \"sum\": 3\n",
            "      }\n",
            "    ],\n",
            "    \"numbers\": [\n",
            "      {\n",
            "        \"value\": 1\n",
            "      },\n",
            "      {\n",
            "        \"value\": 2\n",
            "      }\n",
            "    ]\n",
            "  }\n",
            "]\n"
          ],
          "name": "stdout"
        }
      ]
    },
    {
      "cell_type": "markdown",
      "metadata": {
        "id": "PkSjy7hxzgWh",
        "colab_type": "text"
      },
      "source": [
        "## Timeit - Duration measurement"
      ]
    },
    {
      "cell_type": "code",
      "metadata": {
        "id": "1ohwetzF_yNl",
        "colab_type": "code",
        "colab": {
          "base_uri": "https://localhost:8080/",
          "height": 311
        },
        "outputId": "368bab39-06f3-40b5-85af-b8c2d3003d90"
      },
      "source": [
        "@convertToPipeFunc2()\n",
        "def copy(item, description):\n",
        "    \"\"\"describes and converts item into dictionary.\"\"\"\n",
        "    return {'input': item, 'description': description}\n",
        "\n",
        "@convertToPipeFunc2(with_yield = True)\n",
        "def copyY(item, description):\n",
        "    \"\"\"describes and converts item into dictionary.\"\"\"\n",
        "    yield {'input': item, 'description': description}\n",
        "\n",
        "@convertToPipeFunc2(with_yield = False, with_state = True)\n",
        "def copyS(item, description, state = 0):\n",
        "    \"\"\"describes and converts item into dictionary.\"\"\"\n",
        "    return ({'input': item, 'description': description, 'state': state}, state+1)\n",
        "\n",
        "@convertToPipeFunc2(with_yield = True, with_state = True)\n",
        "def copyYS(item, description, state = 0):\n",
        "    \"\"\"describes and converts item into dictionary.\"\"\"\n",
        "    yield ({'input': item, 'description': description, 'state': state}, state+1)\n",
        "\n",
        "def newcopyY(gen):\n",
        "  for item in gen:\n",
        "    yield {'input': item, 'description': 'desc'}\n",
        "\n",
        "def newcopyYS(gen):\n",
        "  state = 0\n",
        "  for item in gen:\n",
        "    yield {'input': item, 'description': 'desc', 'state': state}\n",
        "    state = state + 1\n",
        "\n",
        "print(copy.__doc__)\n",
        "print(copyY.__doc__)\n",
        "\n",
        "data = [1, 2, 3]\n",
        "#%%time\n",
        "print(list(copyS(description = 'desc')(data)))\n",
        "print(list(copyYS(description = 'desc')(data)))\n",
        "data = list(range(0, 100000))\n",
        "print('normal')\n",
        "%timeit (list(copy(description = 'desc')(data)))\n",
        "print('normal + State')\n",
        "%timeit (list(copyS(description = 'desc')(data)))\n",
        "\n",
        "print('Yield')\n",
        "%timeit (list(copyY(description = 'desc')(data)))\n",
        "print('Yield + State')\n",
        "%timeit (list(copyYS(description = 'desc')(data)))\n",
        "\n",
        "print('hardcoded normal')\n",
        "%timeit (list(newcopyY(data)))\n",
        "print('hardcoded normal + State')\n",
        "%timeit (list(newcopyYS(data)))\n"
      ],
      "execution_count": 104,
      "outputs": [
        {
          "output_type": "stream",
          "text": [
            "describes and converts item into dictionary.\n",
            "describes and converts item into dictionary.\n",
            "[{'input': 1, 'description': 'desc', 'state': 0}, {'input': 2, 'description': 'desc', 'state': 1}, {'input': 3, 'description': 'desc', 'state': 2}]\n",
            "[{'input': 1, 'description': 'desc', 'state': 0}, {'input': 2, 'description': 'desc', 'state': 1}, {'input': 3, 'description': 'desc', 'state': 2}]\n",
            "normal\n",
            "10 loops, best of 3: 43.6 ms per loop\n",
            "normal + State\n",
            "10 loops, best of 3: 75.8 ms per loop\n",
            "Yield\n",
            "10 loops, best of 3: 55.8 ms per loop\n",
            "Yield + State\n",
            "10 loops, best of 3: 89.8 ms per loop\n",
            "hardcoded normal\n",
            "10 loops, best of 3: 29 ms per loop\n",
            "hardcoded normal + State\n",
            "10 loops, best of 3: 38.2 ms per loop\n"
          ],
          "name": "stdout"
        }
      ]
    },
    {
      "cell_type": "code",
      "metadata": {
        "id": "9DgA4dh_WEb3",
        "colab_type": "code",
        "colab": {
          "base_uri": "https://localhost:8080/",
          "height": 35
        },
        "outputId": "20359896-95db-4379-a544-af0af3ab67c5"
      },
      "source": [
        ""
      ],
      "execution_count": 105,
      "outputs": [
        {
          "output_type": "stream",
          "text": [
            "[0, 1, 2]\n"
          ],
          "name": "stdout"
        }
      ]
    }
  ]
}