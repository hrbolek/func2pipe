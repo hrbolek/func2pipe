{
  "nbformat": 4,
  "nbformat_minor": 0,
  "metadata": {
    "colab": {
      "name": "func2pipe.ipynb",
      "provenance": [],
      "collapsed_sections": [],
      "toc_visible": true,
      "authorship_tag": "ABX9TyNwHoDkEvgZieF0Fv3/Pwcu",
      "include_colab_link": true
    },
    "kernelspec": {
      "name": "python3",
      "display_name": "Python 3"
    }
  },
  "cells": [
    {
      "cell_type": "markdown",
      "metadata": {
        "id": "view-in-github",
        "colab_type": "text"
      },
      "source": [
        "<a href=\"https://colab.research.google.com/github/hrbolek/func2pipe/blob/master/notebooks/func2pipe.ipynb\" target=\"_parent\"><img src=\"https://colab.research.google.com/assets/colab-badge.svg\" alt=\"Open In Colab\"/></a>"
      ]
    },
    {
      "cell_type": "markdown",
      "metadata": {
        "id": "YGIE7FHnbWeo",
        "colab_type": "text"
      },
      "source": [
        "# Func to Pipe"
      ]
    },
    {
      "cell_type": "markdown",
      "metadata": {
        "id": "CCk69cOpbaoC",
        "colab_type": "text"
      },
      "source": [
        "## Source Code"
      ]
    },
    {
      "cell_type": "markdown",
      "metadata": {
        "id": "VO8HGoOmbfU7",
        "colab_type": "text"
      },
      "source": [
        "### Functions Reducer"
      ]
    },
    {
      "cell_type": "code",
      "metadata": {
        "id": "27ee0wKMX-8A",
        "colab_type": "code",
        "colab": {}
      },
      "source": [
        "def createPipe(*F):\n",
        "  \"\"\"Create composition of array of functions.\n",
        "\n",
        "  Args:\n",
        "    F: array of functions to be composed\n",
        "\n",
        "  Returns:\n",
        "    function which parameter is an iterator and which is the composition of F\n",
        "  \"\"\"  \n",
        "  def Fdiamond(sequence):\n",
        "    result = sequence\n",
        "    for Fx in F:\n",
        "      result = Fx(result)\n",
        "    return result\n",
        "  return Fdiamond"
      ],
      "execution_count": 166,
      "outputs": []
    },
    {
      "cell_type": "markdown",
      "metadata": {
        "id": "DQt9650FbiON",
        "colab_type": "text"
      },
      "source": [
        "### Subpipe"
      ]
    },
    {
      "cell_type": "code",
      "metadata": {
        "id": "83wnRF7HYmrN",
        "colab_type": "code",
        "colab": {}
      },
      "source": [
        "def arrayReducer(sequence):\n",
        "  \"\"\"Reduces sequence into array\n",
        "\n",
        "  Args:\n",
        "    sequence (Iterator[any]): iterator to be processed\n",
        "\n",
        "  Returns:\n",
        "    Array[any]: array which contains all elements from given iterator\n",
        "  \"\"\"\n",
        "  accumulator = []\n",
        "  f = lambda accumulator, item: [*accumulator, item]\n",
        "  return reduce(f, sequence, accumulator)\n",
        "\n",
        "def createSub(assign = lambda source, result: {**source, **result}, reducer = None):\n",
        "  \"\"\"Creates function which compose functions handling iterator. \n",
        "  \n",
        "  Args:\n",
        "    assign : defines how the item on input is combined with its result(s). \n",
        "      By default, it combines them as they are dictionaries.\n",
        "    reducer : if any it packs all results from one item on input into single value. \n",
        "\n",
        "  Returns:\n",
        "    Function which compose given functions to produce compound function operating on iterators.\n",
        "  \"\"\"\n",
        "  def multipleResults(*F):\n",
        "      buffer = {'data': None}\n",
        "      def pre(gen):\n",
        "          for item in gen:\n",
        "              buffer['data'] = item\n",
        "              yield item\n",
        "\n",
        "      def post(gen):\n",
        "          for item in gen:\n",
        "              yield assign(buffer['data'], item)\n",
        "\n",
        "      wholePipe = createPipe(pre, *F, post)\n",
        "      return wholePipe\n",
        "\n",
        "  def reducedResult(*F):\n",
        "      inner = createPipe(*F, reducer)\n",
        "      def result(gen):\n",
        "          for item in gen:\n",
        "              yield inner([item])\n",
        "\n",
        "      wholePipe = multipleResults(result)\n",
        "      return wholePipe\n",
        "\n",
        "  if reducer == None:\n",
        "      return multipleResults\n",
        "  else:\n",
        "      return reducedResult"
      ],
      "execution_count": 167,
      "outputs": []
    },
    {
      "cell_type": "markdown",
      "metadata": {
        "id": "tirYAIgwbnk0",
        "colab_type": "text"
      },
      "source": [
        "### Convertor"
      ]
    },
    {
      "cell_type": "code",
      "metadata": {
        "id": "vsgceUFEZuQX",
        "colab_type": "code",
        "colab": {}
      },
      "source": [
        "from functools import wraps, reduce, partial\n"
      ],
      "execution_count": 168,
      "outputs": []
    },
    {
      "cell_type": "code",
      "metadata": {
        "id": "Z_akqLTxIbKH",
        "colab_type": "code",
        "colab": {}
      },
      "source": [
        "from functools import wraps, reduce, partial\n",
        "def convertToPipeFuncFull(func, with_yield = False, with_state = False, kwargs = {}):\n",
        "  \"\"\"Allows converting a function in function which operates on iterators.\n",
        "\n",
        "  Args:\n",
        "    func: function to be converted.\n",
        "    with_yield (bool): True if func is generator, otherwise False. \n",
        "    with_state (bool): True if func has arg named state and which acts as a state value, otherwise False\n",
        "    kwargs: defines other values given to func\n",
        "\n",
        "  Returns:\n",
        "    Function which operates on iterators.\n",
        "  \"\"\"\n",
        "  @wraps(func)\n",
        "  def innerSelectSimple(generator):\n",
        "      for i in generator:\n",
        "          yield func(i, **kwargs)\n",
        "\n",
        "  if (not with_yield) & (not with_state):\n",
        "      return innerSelectSimple\n",
        "  \n",
        "  @wraps(func)\n",
        "  def innerSelectWithYield(generator):\n",
        "      for i in generator:\n",
        "          for j in func(i, **kwargs):\n",
        "              yield j\n",
        "\n",
        "\n",
        "  if (with_yield) & (not with_state):\n",
        "      return innerSelectWithYield\n",
        "\n",
        "  @wraps(func)\n",
        "  def innerSelectWithState(generator):\n",
        "      state = None\n",
        "      for i in generator:\n",
        "          result = None\n",
        "          if (state):\n",
        "              result, state = func(i, state = state, **kwargs)\n",
        "          else:\n",
        "              result, state = func(i, **kwargs)\n",
        "          if result:\n",
        "              yield result\n",
        "\n",
        "  if (not with_yield) & with_state:\n",
        "      return innerSelectWithState\n",
        "\n",
        "  @wraps(func)\n",
        "  def innerSelectWithYieldWithState(generator):\n",
        "      state = None\n",
        "      initState = True\n",
        "      for i in generator:\n",
        "          result = None\n",
        "          if (initState):\n",
        "              for result, statel in func(i, **kwargs):\n",
        "                  state = statel\n",
        "                  if result:\n",
        "                      yield result\n",
        "              initState = False\n",
        "          else:\n",
        "              for result, statel in func(i, state = state, **kwargs):\n",
        "                  state = statel\n",
        "                  if result:\n",
        "                      yield result\n",
        "\n",
        "\n",
        "  return innerSelectWithYieldWithState"
      ],
      "execution_count": 169,
      "outputs": []
    },
    {
      "cell_type": "markdown",
      "metadata": {
        "id": "XctIlzEZbvQt",
        "colab_type": "text"
      },
      "source": [
        "### Convertor Decorator"
      ]
    },
    {
      "cell_type": "code",
      "metadata": {
        "id": "o_KBaPZNJ7A8",
        "colab_type": "code",
        "colab": {}
      },
      "source": [
        "def convertToPipeFunc(with_yield = False, with_state = False):\n",
        "  \"\"\"It is decorator which use functionality of convertToPipeFuncFull function.\n",
        "\n",
        "  Args:\n",
        "    with_yield (bool): True if the decorated function is generator, otherwise False. \n",
        "    with_state (bool): True if the decorated function has arg named state and which acts as a state value, otherwise False\n",
        "  \"\"\"\n",
        "\n",
        "  def pipeit(__func):\n",
        "      @wraps(__func)\n",
        "      def binder(**kwargs):\n",
        "          result = wraps(__func)(convertToPipeFuncFull(__func, with_yield, with_state, kwargs))\n",
        "          return result\n",
        "      return binder\n",
        "  return pipeit\n",
        "\n",
        "convertToPipeFunc2 = convertToPipeFunc \n",
        "\n",
        "def convertLambdaToPipeFunc(lambdaFunc, with_state = False, with_yield = False):\n",
        "  \"\"\"It \"decorate\" lambda function in same way as convertToPipeFunc function\n",
        "\n",
        "  Args:\n",
        "    lambdaFunc : function to be decorated\n",
        "    with_yield (bool): True if the decorated function is generator, otherwise False. \n",
        "    with_state (bool): True if the decorated function has arg named state and which acts as a state value, otherwise False\n",
        "  \"\"\"\n",
        "  result = convertToPipeFunc(with_yield = with_yield, with_state = with_state)(lambdaFunc)\n",
        "  return result"
      ],
      "execution_count": 170,
      "outputs": []
    },
    {
      "cell_type": "markdown",
      "metadata": {
        "id": "k6jU_b0zbSz6",
        "colab_type": "text"
      },
      "source": [
        "## Tests"
      ]
    },
    {
      "cell_type": "code",
      "metadata": {
        "id": "ZbJtvwuTdY5B",
        "colab_type": "code",
        "colab": {}
      },
      "source": [
        "import unittest\n",
        "\n",
        "class TestCase(unittest.TestCase):\n",
        "  def __call__(self, *args, **kwargs):\n",
        "    self.assertEqual(*args, **kwargs)\n",
        "    return True\n",
        "\n",
        "testEquality = TestCase()"
      ],
      "execution_count": 171,
      "outputs": []
    },
    {
      "cell_type": "markdown",
      "metadata": {
        "id": "elYEvOw-cM7G",
        "colab_type": "text"
      },
      "source": [
        "### Simple Function"
      ]
    },
    {
      "cell_type": "code",
      "metadata": {
        "id": "49HhLqujbQ6X",
        "colab_type": "code",
        "colab": {}
      },
      "source": [
        "def test_simpleFunction(printEnabled = False):\n",
        "  source = [{'value': 0}, {'value': 1}, {'value': 2}]\n",
        "  @convertToPipeFunc()\n",
        "  def add(item, amount):\n",
        "    return {**item, 'result': item['value'] + amount}\n",
        "\n",
        "  expectedResult = [{'value': 0, 'result': 3}, {'value': 1, 'result': 4},\n",
        "    {'value': 2, 'result': 5}]\n",
        "\n",
        "  pipe = createPipe(\n",
        "      add(amount = 2),\n",
        "      add(amount = 3),\n",
        "      list)\n",
        "\n",
        "  result = pipe(source)\n",
        "  equality = testEquality(expectedResult, result)\n",
        "  if printEnabled:\n",
        "    print('Source:', source)\n",
        "    print('Result:', result)\n",
        "    print('Valid: ', equality) \n",
        "\n",
        "test_simpleFunction()    "
      ],
      "execution_count": 172,
      "outputs": []
    },
    {
      "cell_type": "markdown",
      "metadata": {
        "id": "_z8IQtI3e9vX",
        "colab_type": "text"
      },
      "source": [
        "### Function with Yield"
      ]
    },
    {
      "cell_type": "code",
      "metadata": {
        "id": "JTWmOw-ZfBKa",
        "colab_type": "code",
        "colab": {}
      },
      "source": [
        "def test_functionWithYield(printEnabled = False):\n",
        "  source = [{'value': ['A', 'B']}, {'value': ['A', 'C']}, {'value': ['D', 'E']}]\n",
        "\n",
        "  @convertToPipeFunc(with_yield = True)\n",
        "  def revealSubItem(item, itemName):\n",
        "      for _ in item[itemName]:\n",
        "          yield _\n",
        "\n",
        "  expectedResult = ['A', 'B', 'A', 'C', 'D', 'E']\n",
        "\n",
        "  pipe = createPipe(\n",
        "      revealSubItem(itemName = 'value'),\n",
        "      list)\n",
        "\n",
        "  result = pipe(source)\n",
        "  equality = testEquality(expectedResult, result)\n",
        "  if printEnabled:\n",
        "    print('Source:', source)\n",
        "    print('Result:', result)\n",
        "    print('Valid: ', equality) \n",
        "\n",
        "test_functionWithYield()  "
      ],
      "execution_count": 173,
      "outputs": []
    },
    {
      "cell_type": "markdown",
      "metadata": {
        "id": "EVdlUfGFgxXv",
        "colab_type": "text"
      },
      "source": [
        "### Function with State"
      ]
    },
    {
      "cell_type": "code",
      "metadata": {
        "id": "iGgK7Smdg5KJ",
        "colab_type": "code",
        "colab": {}
      },
      "source": [
        "def test_functionWithState(printEnabled = False):\n",
        "  source = [{'value': ['A', 'B']}, {'value': ['A', 'C']}, {'value': ['D', 'E']}]\n",
        "\n",
        "  @convertToPipeFunc(with_state = True)\n",
        "  def assignId(item, state = 0, idName = 'id'):\n",
        "      return {**item, idName: state}, state + 1\n",
        "\n",
        "  expectedResult = [{'value': ['A', 'B'], 'ID': 0}, \n",
        "      {'value': ['A', 'C'], 'ID': 1}, {'value': ['D', 'E'], 'ID': 2}]\n",
        "\n",
        "  pipe = createPipe(\n",
        "      assignId(idName = 'ID'),\n",
        "      list)\n",
        "\n",
        "  result = pipe(source)\n",
        "  equality = testEquality(expectedResult, result)\n",
        "  if printEnabled:\n",
        "    print('Source:', source)\n",
        "    print('Result:', result)\n",
        "    print('Valid: ', equality) \n",
        "\n",
        "test_functionWithState()"
      ],
      "execution_count": 174,
      "outputs": []
    },
    {
      "cell_type": "markdown",
      "metadata": {
        "id": "gzcYFGsHiHJW",
        "colab_type": "text"
      },
      "source": [
        "### Function with Yield and with State"
      ]
    },
    {
      "cell_type": "code",
      "metadata": {
        "id": "w2CBgmkfiLPh",
        "colab_type": "code",
        "colab": {}
      },
      "source": [
        "def test_functionWithBoth(printEnabled = False):\n",
        "  source = [{'value': ['A', 'B']}, {'value': ['A', 'C']}, {'value': ['D', 'E']}]\n",
        "\n",
        "  @convertToPipeFunc(with_yield = True, with_state = True)\n",
        "  def assignIdToSubItem(item, state = -1, itemName = ''):\n",
        "      for _ in item[itemName]:\n",
        "          state = state + 1\n",
        "          yield {itemName: _, 'id': state}, state\n",
        "\n",
        "  expectedResult = [{'value': 'A', 'id': 0}, {'value': 'B', 'id': 1}, \n",
        "    {'value': 'A', 'id': 2}, {'value': 'C', 'id': 3}, \n",
        "    {'value': 'D', 'id': 4}, {'value': 'E', 'id': 5}\n",
        "    ]\n",
        "\n",
        "  pipe = createPipe(\n",
        "      assignIdToSubItem(itemName = 'value'),\n",
        "      list)\n",
        "\n",
        "  result = pipe(source)\n",
        "  equality = testEquality(expectedResult, result)\n",
        "  if printEnabled:\n",
        "    print('Source:', source)\n",
        "    print('Result:', result)\n",
        "    print('Valid: ', equality) \n",
        "\n",
        "test_functionWithBoth()"
      ],
      "execution_count": 175,
      "outputs": []
    },
    {
      "cell_type": "markdown",
      "metadata": {
        "id": "DgoFRd_IxhY4",
        "colab_type": "text"
      },
      "source": [
        "### Subpipe"
      ]
    },
    {
      "cell_type": "code",
      "metadata": {
        "id": "w9wfeDquxkMY",
        "colab_type": "code",
        "colab": {}
      },
      "source": [
        "def test_functionSubPipe(printEnabled = False):\n",
        "  source = [{'value': 0}, {'value': 1}, {'value': 2}]\n",
        "  @convertToPipeFunc()\n",
        "  def plus(item, amount):\n",
        "    return item + amount\n",
        "\n",
        "  @convertToPipeFunc()\n",
        "  def selectIt(item, f):\n",
        "    return f(item)\n",
        "\n",
        "  expectedResult = [\n",
        "    {'value': 0, 'newvalue': 2}, \n",
        "    {'value': 1, 'newvalue': 3}, \n",
        "    {'value': 2, 'newvalue': 4}\n",
        "    ]\n",
        "\n",
        "  pipe = createPipe(\n",
        "      createSub(assign = lambda source, result: {**source, 'newvalue': result})(\n",
        "        selectIt(f = lambda item: item['value']),\n",
        "        plus(amount = 2),\n",
        "      ),\n",
        "      list)\n",
        "\n",
        "  result = pipe(source)\n",
        "  equality = testEquality(expectedResult, result)\n",
        "  if printEnabled:\n",
        "    print('Source:', source)\n",
        "    print('Result:', result)\n",
        "    print('Valid: ', equality) \n",
        "\n",
        "test_functionSubPipe()"
      ],
      "execution_count": 176,
      "outputs": []
    },
    {
      "cell_type": "markdown",
      "metadata": {
        "id": "_3BWpvqY4PiN",
        "colab_type": "text"
      },
      "source": [
        "### Subpipe II"
      ]
    },
    {
      "cell_type": "code",
      "metadata": {
        "id": "z5CDfjg84RXG",
        "colab_type": "code",
        "colab": {}
      },
      "source": [
        "def test_functionSubPipeII(printEnabled = False):\n",
        "  source = [{'values': [0, 1]}, {'values': [2, 1]}, {'values': [5, 2]}]\n",
        "  @convertToPipeFunc()\n",
        "  def plus(item, amount):\n",
        "      return item + amount\n",
        "\n",
        "  @convertToPipeFunc(with_yield=True)\n",
        "  def selectItAndEnum(item, f):\n",
        "      for _ in f(item):\n",
        "        yield _\n",
        "\n",
        "  def createReducer():\n",
        "      def reducer(source):\n",
        "          total = 0\n",
        "          for item in source:\n",
        "            total = total + item\n",
        "          return total \n",
        "      return reducer\n",
        "\n",
        "  expectedResult = [\n",
        "    {'values': [0, 1], 'sum': 1}, \n",
        "    {'values': [2, 1], 'sum': 3}, \n",
        "    {'values': [5, 2], 'sum': 7}\n",
        "    ]\n",
        "\n",
        "  pipe = createPipe(\n",
        "      createSub(assign = lambda source, result: {**source, 'sum': result},\n",
        "        reducer = createReducer())(\n",
        "        selectItAndEnum(f = lambda item: item['values']),\n",
        "      ),\n",
        "      list)\n",
        "\n",
        "  result = pipe(source)\n",
        "  equality = testEquality(expectedResult, result)\n",
        "  if printEnabled:\n",
        "    print('Source:', source)\n",
        "    print('Result:', result)\n",
        "    print('Valid: ', equality) \n",
        "\n",
        "test_functionSubPipeII()  "
      ],
      "execution_count": 177,
      "outputs": []
    },
    {
      "cell_type": "code",
      "metadata": {
        "id": "FGAoUTAZalT2",
        "colab_type": "code",
        "colab": {
          "base_uri": "https://localhost:8080/",
          "height": 35
        },
        "outputId": "94ca7ff6-2d36-4308-872d-aeaaafcec7d8"
      },
      "source": [
        "source = [{'value': 0}, {'value': 1}, {'value': 2}]\n",
        "@convertToPipeFunc()\n",
        "def add(item, amount):\n",
        "  return {**item, 'result': item['value'] + amount}\n",
        "\n",
        "@convertToPipeFunc()\n",
        "def calc(item, func, name):\n",
        "  result = {}\n",
        "  result[name] = func(item)\n",
        "  return result\n",
        "\n",
        "@convertToPipeFunc(with_yield = True)\n",
        "def extra(item, extradata):\n",
        "  for _ in extradata:\n",
        "    yield _\n",
        "\n",
        "def createReducer(accumulator = [], f = lambda item, accumulator: [*accumulator, item]):\n",
        "  def reducer(gen):\n",
        "    result = accumulator\n",
        "    for item in gen:\n",
        "      result = f(item, result)\n",
        "    return result\n",
        "  return reducer\n",
        "\n",
        "pipe_01 = createPipe(\n",
        "    add(amount = 2),\n",
        "    createSub(assign = lambda source, result: {**source, 'value2': result}, reducer = createReducer())(\n",
        "#    SUB(assign = lambda source, result: {**source, **result})(\n",
        "#    SUB(assign = lambda source, result: {**source, 'value2': result})(\n",
        "      calc(func = lambda item: 4, name = 'extraValue'),\n",
        "      extra(extradata = ['A', 'B', 'C'])\n",
        "    )\n",
        "    )\n",
        "result = list(pipe_01(source))\n",
        "print(result)\n"
      ],
      "execution_count": 178,
      "outputs": [
        {
          "output_type": "stream",
          "text": [
            "[{'value': 0, 'result': 2, 'value2': ['A', 'B', 'C']}, {'value': 1, 'result': 3, 'value2': ['A', 'B', 'C']}, {'value': 2, 'result': 4, 'value2': ['A', 'B', 'C']}]\n"
          ],
          "name": "stdout"
        }
      ]
    },
    {
      "cell_type": "code",
      "metadata": {
        "id": "HwYDENg-qphu",
        "colab_type": "code",
        "colab": {}
      },
      "source": [
        ""
      ],
      "execution_count": 178,
      "outputs": []
    },
    {
      "cell_type": "markdown",
      "metadata": {
        "id": "ZiM5xQBK46f8",
        "colab_type": "text"
      },
      "source": [
        "## Pipe Described by Graph "
      ]
    },
    {
      "cell_type": "code",
      "metadata": {
        "id": "gdV-dNgw5IF-",
        "colab_type": "code",
        "colab": {}
      },
      "source": [
        "def createNumericAggregator(startValue = 0, aggFunc = lambda x, y: x + y):\n",
        "  \"\"\"creates functions which operates on iterator and which returns reduced value.\n",
        "\n",
        "  Args:\n",
        "    startValue: initial value of accumulator\n",
        "    aggFunc: function which reduce accumulator value and value from iterator\n",
        "\n",
        "  Returns:\n",
        "    function operating on iterator\n",
        "  \"\"\"\n",
        "  def inner(gen):\n",
        "    result = startValue\n",
        "    for item in gen:\n",
        "      result = aggFunc(result, item)\n",
        "    return result\n",
        "  return inner\n",
        "\n",
        "def createArrayReducer(accumulator = [], f = lambda accumulator, item: [*accumulator, item]):\n",
        "  def reducer(gen):\n",
        "    return reduce(f, gen, accumulator)\n",
        "  return reducer\n",
        "\n",
        "@convertToPipeFunc(with_yield=True)\n",
        "def stopIfNotFound(item):\n",
        "  if not item is None:\n",
        "    yield item\n",
        "\n",
        "@convertToPipeFunc(with_yield=True)\n",
        "def filterIt(item, filterFunc):\n",
        "  if filterFunc(item):\n",
        "    yield item\n",
        "\n",
        "@convertToPipeFunc(with_yield=True)\n",
        "def selectSubItems(item, selectFunc):\n",
        "  result = selectFunc(item)\n",
        "  if not result is None:\n",
        "    for item in result:\n",
        "      yield item\n",
        "\n",
        "def graphToPipe(graph, currentnode):\n",
        "  \"\"\"returns function operating on iterator defined by graph description\n",
        "\n",
        "  Args:\n",
        "    graph: data structure describing data sources (nodes), how to reach them (functions) and relations between them (edges) and how to derive them (functions)\n",
        "    currentnode: node which determines main data source\n",
        "\n",
        "  Returns:\n",
        "    function operating on iterator and returning complex dictionary containing extended data\n",
        "  \"\"\"\n",
        "  availableNodes = []\n",
        "  for node in graph['nodes']:\n",
        "    availableNodes.append(node)\n",
        "\n",
        "  def createAssignLambda(itemName):\n",
        "    return lambda item, result: {**item, itemName: result}\n",
        "\n",
        "  def reducersIntoPipes(relation):\n",
        "    result = []\n",
        "    for reduction in relation['reducers']:\n",
        "      reSub = createSub(\n",
        "          assign = createAssignLambda(reduction['name']),\n",
        "          reducer = reduction['reduce'])\n",
        "      result.append(reSub(\n",
        "          selectSubItems(selectFunc = lambda item: item[relation['to']]),\n",
        "          reduction['map']))\n",
        "    return result\n",
        "\n",
        "  def innerBuilder(graph, currentnode, filterq = None):\n",
        "      availableNodes.remove(currentnode)\n",
        "      descriptorPipe = graph['nodes'][currentnode]\n",
        "\n",
        "      def buildRelation(relation):\n",
        "        itemname = relation['itemname'] if 'itemname' in relation else relation['to']\n",
        "        filterq = relation['filter'] if 'filter' in relation else lambda item: True\n",
        "\n",
        "        sub = createSub(assign = createAssignLambda(itemname), reducer = createArrayReducer())\n",
        "        subPipe = innerBuilder(graph, relation['to'], filterq)\n",
        "        result = [sub(relation['relation'], *subPipe)]\n",
        "        if 'reducers' in relation:\n",
        "          pipes = reducersIntoPipes(relation)\n",
        "          result.extend(pipes)\n",
        "\n",
        "        return result\n",
        "\n",
        "      result = [descriptorPipe, stopIfNotFound()]\n",
        "      if filterq:\n",
        "        result.append(filterIt(filterFunc = filterq))\n",
        "      \n",
        "      nodesToRemove = []\n",
        "      for relation in filter(lambda item: item['from'] == currentnode, graph['edges']):\n",
        "          nodeName = relation['to']\n",
        "          nodesToRemove.append(nodeName)\n",
        "          savedAvaliableNodes = availableNodes[:] #copy state\n",
        "          if nodeName in savedAvaliableNodes:\n",
        "            result += [*buildRelation(relation)]\n",
        "          availableNodes.clear() #restore state\n",
        "          availableNodes.extend(savedAvaliableNodes)  #restore state II\n",
        "          \n",
        "      for node in nodesToRemove:\n",
        "        if node in availableNodes:\n",
        "          availableNodes.remove(node)\n",
        "\n",
        "      return result\n",
        "  result = innerBuilder(graph, currentnode)\n",
        "  return createPipe(*result)"
      ],
      "execution_count": 179,
      "outputs": []
    },
    {
      "cell_type": "markdown",
      "metadata": {
        "id": "QStyb9VaGT5i",
        "colab_type": "text"
      },
      "source": [
        "### Database Model"
      ]
    },
    {
      "cell_type": "code",
      "metadata": {
        "id": "5YduKWeX6ESy",
        "colab_type": "code",
        "colab": {}
      },
      "source": [
        "studentTable = [\n",
        "    {'id': 258, 'name': 'George Burden'},\n",
        "    {'id': 263, 'name': 'Julia Seven'},\n",
        "    {'id': 396, 'name': 'Anthony Previous'},\n",
        "]\n",
        "\n",
        "subjectTable = [\n",
        "    {'id': 1024, 'name': 'Mathematics', 'lessons': 60},\n",
        "    {'id': 1144, 'name': 'English', 'lessons': 30},\n",
        "    {'id': 1194, 'name': 'History', 'lessons': 75},\n",
        "    {'id': 1086, 'name': 'Physics', 'lessons': 45},\n",
        "]\n",
        "\n",
        "student2SubjectTable = [\n",
        "    {'id': 1, 'studentId': 258, 'subjectId': 1024},\n",
        "    {'id': 2, 'studentId': 258, 'subjectId': 1086},\n",
        "    {'id': 3, 'studentId': 263, 'subjectId': 1144},\n",
        "    {'id': 4, 'studentId': 263, 'subjectId': 1198},\n",
        "    {'id': 5, 'studentId': 396, 'subjectId': 1024},\n",
        "    {'id': 6, 'studentId': 396, 'subjectId': 1144},\n",
        "]\n",
        "\n",
        "teacherTable = [\n",
        "    {'id': 2573, 'name': 'Paul Coleman'},\n",
        "    {'id': 3168, 'name': 'Igor Mashevic'},\n",
        "    {'id': 1934, 'name': 'Alex Moon'},\n",
        "    {'id': 2379, 'name': 'Julia Newman'},\n",
        "]\n",
        "\n",
        "subject2Teacher = [\n",
        "    {'id': 1, 'teacherId': 2573, 'subjectId': 1024},\n",
        "    {'id': 2, 'teacherId': 2573, 'subjectId': 1086},\n",
        "    {'id': 3, 'teacherId': 3168, 'subjectId': 1144},\n",
        "    {'id': 4, 'teacherId': 3168, 'subjectId': 1194},\n",
        "    {'id': 5, 'teacherId': 1934, 'subjectId': 1144},\n",
        "    {'id': 6, 'teacherId': 2379, 'subjectId': 1086},\n",
        "]\n",
        "\n",
        "def SelectCommand(fromTable, whereLambda):\n",
        "    for item in filter(whereLambda, fromTable):\n",
        "        yield item\n",
        "\n",
        "def SelectWhereId(fromTable, idValue):\n",
        "  for item in SelectCommand(fromTable, lambda item: item['id'] == idValue):\n",
        "      return item\n",
        "  return None"
      ],
      "execution_count": 180,
      "outputs": []
    },
    {
      "cell_type": "markdown",
      "metadata": {
        "id": "DgpEKo8ZGXZ4",
        "colab_type": "text"
      },
      "source": [
        "### Database Descriptions as Graph"
      ]
    },
    {
      "cell_type": "code",
      "metadata": {
        "id": "xNXk2Z5qGdeO",
        "colab_type": "code",
        "colab": {}
      },
      "source": [
        "@convertToPipeFunc()\n",
        "def getStudentRecord(id):\n",
        "    return SelectWhereId(fromTable=studentTable, idValue=id)\n",
        "\n",
        "@convertToPipeFunc()\n",
        "def getTeacherRecord(id):\n",
        "    return SelectWhereId(fromTable=teacherTable, idValue=id)\n",
        "\n",
        "@convertToPipeFunc()\n",
        "def getSubjectRecord(id):\n",
        "    return SelectWhereId(fromTable=subjectTable, idValue=id)\n",
        "\n",
        "@convertToPipeFunc(with_yield = True)\n",
        "def StudentToSubject(item):\n",
        "  #if item:\n",
        "    id = item['id']\n",
        "    for _ in SelectCommand(student2SubjectTable, lambda record: record['studentId'] == id):\n",
        "        yield _['subjectId']\n",
        "\n",
        "@convertToPipeFunc(with_yield = True)\n",
        "def SubjectToStudent(item):\n",
        "  #if item:\n",
        "    id = item['id']\n",
        "    for _ in SelectCommand(student2SubjectTable, lambda record: record['subjectId'] == id):\n",
        "        yield _['studentId']\n",
        "\n",
        "@convertToPipeFunc(with_yield = True)\n",
        "def SubjectToTeacher(item):\n",
        "  #if item:\n",
        "    id = item['id']\n",
        "    for _ in SelectCommand(subject2Teacher, lambda record: record['subjectId'] == id):\n",
        "        yield _['teacherId']\n",
        "\n",
        "@convertToPipeFunc(with_yield = True)\n",
        "def TeacherToSubject(item):\n",
        "  #if item:\n",
        "    id = item['id']\n",
        "    for _ in SelectCommand(subject2Teacher, lambda record: record['teacherId'] == id):\n",
        "        yield _['subjectId']\n",
        "\n",
        "@convertToPipeFunc()\n",
        "def getLessons(item):\n",
        "  return item['lessons']\n"
      ],
      "execution_count": 181,
      "outputs": []
    },
    {
      "cell_type": "markdown",
      "metadata": {
        "id": "HaEFedPemJpw",
        "colab_type": "text"
      },
      "source": [
        "### Usage"
      ]
    },
    {
      "cell_type": "code",
      "metadata": {
        "id": "NRN7poZOGS4D",
        "colab_type": "code",
        "colab": {
          "base_uri": "https://localhost:8080/",
          "height": 697
        },
        "outputId": "4ef216e6-d4ef-414d-cc00-94bda972b07c"
      },
      "source": [
        "import json\n",
        "\n",
        "grDefinition = {\n",
        "    'nodes': {\n",
        "        'Students': getStudentRecord(),\n",
        "        'Teachers': getTeacherRecord(),\n",
        "        'Subjects': getSubjectRecord(),\n",
        "        },\n",
        "    'edges': [\n",
        "        {'from': 'Students', 'to': 'Subjects', 'relation': StudentToSubject()},\n",
        "        {'from': 'Subjects', 'to': 'Students', 'relation': SubjectToStudent()},\n",
        "\n",
        "        {'from': 'Teachers', 'to': 'Subjects', 'relation': TeacherToSubject()},\n",
        "        {'from': 'Subjects', 'to': 'Teachers', 'relation': SubjectToTeacher()},\n",
        "    ]\n",
        "}\n",
        "\n",
        "grDefinition = {\n",
        "    'nodes': {\n",
        "        'Students': getStudentRecord(),\n",
        "        'Teachers': getTeacherRecord(),\n",
        "        'Subjects': getSubjectRecord(),\n",
        "        },\n",
        "    'edges': [\n",
        "        {'from': 'Students', 'to': 'Subjects', 'relation': StudentToSubject(),\n",
        "         'reducers' :[\n",
        "            {'name': 'lessons', \n",
        "             'map': getLessons(), \n",
        "             'reduce': createNumericAggregator(startValue = 0, aggFunc = lambda x, y: (x + y))\n",
        "             },\n",
        "          ]\n",
        "        },\n",
        "        {'from': 'Subjects', 'to': 'Students', 'relation': SubjectToStudent()},\n",
        "\n",
        "        {'from': 'Teachers', 'to': 'Subjects', 'relation': TeacherToSubject()},\n",
        "        {'from': 'Subjects', 'to': 'Teachers', 'relation': SubjectToTeacher()},\n",
        "    ]\n",
        "}\n",
        "\n",
        "\n",
        "queryStudents = graphToPipe(grDefinition, 'Students')\n",
        "queryTeachers = graphToPipe(grDefinition, 'Teachers')\n",
        "querySubjects = graphToPipe(grDefinition, 'Subjects')\n",
        "\n",
        "studentsIds = [259, 258]\n",
        "queryStudentsResult = list(queryStudents(studentsIds))\n",
        "print(json.dumps(queryStudentsResult, indent=2))"
      ],
      "execution_count": 182,
      "outputs": [
        {
          "output_type": "stream",
          "text": [
            "getLessons {'id': 1024, 'name': 'Mathematics', 'lessons': 60, 'Teachers': [{'id': 2573, 'name': 'Paul Coleman'}]}\n",
            "getLessons {'id': 1086, 'name': 'Physics', 'lessons': 45, 'Teachers': [{'id': 2573, 'name': 'Paul Coleman'}, {'id': 2379, 'name': 'Julia Newman'}]}\n",
            "[\n",
            "  {\n",
            "    \"id\": 258,\n",
            "    \"name\": \"George Burden\",\n",
            "    \"Subjects\": [\n",
            "      {\n",
            "        \"id\": 1024,\n",
            "        \"name\": \"Mathematics\",\n",
            "        \"lessons\": 60,\n",
            "        \"Teachers\": [\n",
            "          {\n",
            "            \"id\": 2573,\n",
            "            \"name\": \"Paul Coleman\"\n",
            "          }\n",
            "        ]\n",
            "      },\n",
            "      {\n",
            "        \"id\": 1086,\n",
            "        \"name\": \"Physics\",\n",
            "        \"lessons\": 45,\n",
            "        \"Teachers\": [\n",
            "          {\n",
            "            \"id\": 2573,\n",
            "            \"name\": \"Paul Coleman\"\n",
            "          },\n",
            "          {\n",
            "            \"id\": 2379,\n",
            "            \"name\": \"Julia Newman\"\n",
            "          }\n",
            "        ]\n",
            "      }\n",
            "    ],\n",
            "    \"lessons\": 105\n",
            "  }\n",
            "]\n"
          ],
          "name": "stdout"
        }
      ]
    },
    {
      "cell_type": "markdown",
      "metadata": {
        "id": "W3BCeHi8mO5f",
        "colab_type": "text"
      },
      "source": [
        "### Usage II"
      ]
    },
    {
      "cell_type": "code",
      "metadata": {
        "id": "P1ACoBdOmVH-",
        "colab_type": "code",
        "colab": {
          "base_uri": "https://localhost:8080/",
          "height": 1000
        },
        "outputId": "4c3eff0d-2c17-47d0-c015-a0c395aeb637"
      },
      "source": [
        "studentsIds = [258, 396]\n",
        "queryStudentsResult = list(queryStudents(studentsIds))\n",
        "print(json.dumps(queryStudentsResult, indent=2))"
      ],
      "execution_count": 183,
      "outputs": [
        {
          "output_type": "stream",
          "text": [
            "getLessons {'id': 1024, 'name': 'Mathematics', 'lessons': 60, 'Teachers': [{'id': 2573, 'name': 'Paul Coleman'}]}\n",
            "getLessons {'id': 1086, 'name': 'Physics', 'lessons': 45, 'Teachers': [{'id': 2573, 'name': 'Paul Coleman'}, {'id': 2379, 'name': 'Julia Newman'}]}\n",
            "getLessons {'id': 1024, 'name': 'Mathematics', 'lessons': 60, 'Teachers': [{'id': 2573, 'name': 'Paul Coleman'}]}\n",
            "getLessons {'id': 1144, 'name': 'English', 'lessons': 30, 'Teachers': [{'id': 3168, 'name': 'Igor Mashevic'}, {'id': 1934, 'name': 'Alex Moon'}]}\n",
            "[\n",
            "  {\n",
            "    \"id\": 258,\n",
            "    \"name\": \"George Burden\",\n",
            "    \"Subjects\": [\n",
            "      {\n",
            "        \"id\": 1024,\n",
            "        \"name\": \"Mathematics\",\n",
            "        \"lessons\": 60,\n",
            "        \"Teachers\": [\n",
            "          {\n",
            "            \"id\": 2573,\n",
            "            \"name\": \"Paul Coleman\"\n",
            "          }\n",
            "        ]\n",
            "      },\n",
            "      {\n",
            "        \"id\": 1086,\n",
            "        \"name\": \"Physics\",\n",
            "        \"lessons\": 45,\n",
            "        \"Teachers\": [\n",
            "          {\n",
            "            \"id\": 2573,\n",
            "            \"name\": \"Paul Coleman\"\n",
            "          },\n",
            "          {\n",
            "            \"id\": 2379,\n",
            "            \"name\": \"Julia Newman\"\n",
            "          }\n",
            "        ]\n",
            "      }\n",
            "    ],\n",
            "    \"lessons\": 105\n",
            "  },\n",
            "  {\n",
            "    \"id\": 396,\n",
            "    \"name\": \"Anthony Previous\",\n",
            "    \"Subjects\": [\n",
            "      {\n",
            "        \"id\": 1024,\n",
            "        \"name\": \"Mathematics\",\n",
            "        \"lessons\": 60,\n",
            "        \"Teachers\": [\n",
            "          {\n",
            "            \"id\": 2573,\n",
            "            \"name\": \"Paul Coleman\"\n",
            "          }\n",
            "        ]\n",
            "      },\n",
            "      {\n",
            "        \"id\": 1144,\n",
            "        \"name\": \"English\",\n",
            "        \"lessons\": 30,\n",
            "        \"Teachers\": [\n",
            "          {\n",
            "            \"id\": 3168,\n",
            "            \"name\": \"Igor Mashevic\"\n",
            "          },\n",
            "          {\n",
            "            \"id\": 1934,\n",
            "            \"name\": \"Alex Moon\"\n",
            "          }\n",
            "        ]\n",
            "      }\n",
            "    ],\n",
            "    \"lessons\": 90\n",
            "  }\n",
            "]\n"
          ],
          "name": "stdout"
        }
      ]
    },
    {
      "cell_type": "markdown",
      "metadata": {
        "id": "ydIb6fpBmdmT",
        "colab_type": "text"
      },
      "source": [
        "### Usage III (Teachers)"
      ]
    },
    {
      "cell_type": "code",
      "metadata": {
        "id": "PrMgFLCpmj-Q",
        "colab_type": "code",
        "colab": {
          "base_uri": "https://localhost:8080/",
          "height": 641
        },
        "outputId": "d543112d-382e-4bea-857b-b36156c2bbe0"
      },
      "source": [
        "teachersIds = [2573]\n",
        "queryTeachersResult = list(queryTeachers(teachersIds))\n",
        "print(json.dumps(queryTeachersResult, indent=2))"
      ],
      "execution_count": 184,
      "outputs": [
        {
          "output_type": "stream",
          "text": [
            "[\n",
            "  {\n",
            "    \"id\": 2573,\n",
            "    \"name\": \"Paul Coleman\",\n",
            "    \"Subjects\": [\n",
            "      {\n",
            "        \"id\": 1024,\n",
            "        \"name\": \"Mathematics\",\n",
            "        \"lessons\": 60,\n",
            "        \"Students\": [\n",
            "          {\n",
            "            \"id\": 258,\n",
            "            \"name\": \"George Burden\"\n",
            "          },\n",
            "          {\n",
            "            \"id\": 396,\n",
            "            \"name\": \"Anthony Previous\"\n",
            "          }\n",
            "        ]\n",
            "      },\n",
            "      {\n",
            "        \"id\": 1086,\n",
            "        \"name\": \"Physics\",\n",
            "        \"lessons\": 45,\n",
            "        \"Students\": [\n",
            "          {\n",
            "            \"id\": 258,\n",
            "            \"name\": \"George Burden\"\n",
            "          }\n",
            "        ]\n",
            "      }\n",
            "    ]\n",
            "  }\n",
            "]\n"
          ],
          "name": "stdout"
        }
      ]
    },
    {
      "cell_type": "markdown",
      "metadata": {
        "id": "PI5pDF9yqGsa",
        "colab_type": "text"
      },
      "source": [
        "### Usage IV (Subjects)"
      ]
    },
    {
      "cell_type": "code",
      "metadata": {
        "id": "um84hfGPrKUi",
        "colab_type": "code",
        "colab": {
          "base_uri": "https://localhost:8080/",
          "height": 899
        },
        "outputId": "73f4b44b-b730-4b8d-d273-08966b0c7306"
      },
      "source": [
        "subjectsIds = [1144, 1024]\n",
        "querySubjectsResult = list(querySubjects(subjectsIds))\n",
        "print(json.dumps(querySubjectsResult, indent=2))"
      ],
      "execution_count": 185,
      "outputs": [
        {
          "output_type": "stream",
          "text": [
            "[\n",
            "  {\n",
            "    \"id\": 1144,\n",
            "    \"name\": \"English\",\n",
            "    \"lessons\": 30,\n",
            "    \"Students\": [\n",
            "      {\n",
            "        \"id\": 263,\n",
            "        \"name\": \"Julia Seven\"\n",
            "      },\n",
            "      {\n",
            "        \"id\": 396,\n",
            "        \"name\": \"Anthony Previous\"\n",
            "      }\n",
            "    ],\n",
            "    \"Teachers\": [\n",
            "      {\n",
            "        \"id\": 3168,\n",
            "        \"name\": \"Igor Mashevic\"\n",
            "      },\n",
            "      {\n",
            "        \"id\": 1934,\n",
            "        \"name\": \"Alex Moon\"\n",
            "      }\n",
            "    ]\n",
            "  },\n",
            "  {\n",
            "    \"id\": 1024,\n",
            "    \"name\": \"Mathematics\",\n",
            "    \"lessons\": 60,\n",
            "    \"Students\": [\n",
            "      {\n",
            "        \"id\": 258,\n",
            "        \"name\": \"George Burden\"\n",
            "      },\n",
            "      {\n",
            "        \"id\": 396,\n",
            "        \"name\": \"Anthony Previous\"\n",
            "      }\n",
            "    ],\n",
            "    \"Teachers\": [\n",
            "      {\n",
            "        \"id\": 2573,\n",
            "        \"name\": \"Paul Coleman\"\n",
            "      }\n",
            "    ]\n",
            "  }\n",
            "]\n"
          ],
          "name": "stdout"
        }
      ]
    },
    {
      "cell_type": "markdown",
      "metadata": {
        "id": "LSk1JgP98kBn",
        "colab_type": "text"
      },
      "source": [
        "### Artificial Experiment"
      ]
    },
    {
      "cell_type": "code",
      "metadata": {
        "id": "iqAQ6nHGm9E8",
        "colab_type": "code",
        "colab": {
          "base_uri": "https://localhost:8080/",
          "height": 380
        },
        "outputId": "04872194-f1a1-4c26-ae8b-f1950dcb7d00"
      },
      "source": [
        "\n",
        "greatSource = [{'id': 'A'}, {'id': 'B'}, {'id': 'C'}]\n",
        "smallSource = [{'id': 'a'}, {'id': 'b'}, {'id': 'c'}]\n",
        "fromGreat2Small = {'A': 'a', 'B': 'b', 'C': 'c'}\n",
        "fromSmall2Great = {'a': 'A', 'b': 'B', 'c': 'C'}\n",
        "\n",
        "@convertToPipeFunc2()\n",
        "def greatToSmallRelation(greatItem):\n",
        "  print('G:', greatItem)\n",
        "  return {'idS': fromGreat2Small[greatItem['id']]}\n",
        "\n",
        "@convertToPipeFunc2()\n",
        "def smallToGreatRelation(smallItem):\n",
        "  #print('S:', smallItem)\n",
        "  return {'id': fromSmall2Great[smallItem['id']]}\n",
        "\n",
        "@convertToPipeFunc2(with_yield=True)\n",
        "def smallToGreatRelation2(smallItem):\n",
        "  #print('S:', smallItem)\n",
        "  for i in greatSource:\n",
        "    yield i\n",
        "  #return {'idG': fromSmall2Great[smallItem['id']]}\n",
        "\n",
        "@convertToPipeFunc2()\n",
        "def identityPipe(item, description):\n",
        "  return {**item, 'description': description}\n",
        "\n",
        "@convertToPipeFunc2(with_yield=True)\n",
        "def anyToNumbersRelation(item):\n",
        "  for i in range(1,3):\n",
        "    #yield {'value': i}\n",
        "    yield i\n",
        "\n",
        "@convertToPipeFunc2()\n",
        "def numberRecord(item):\n",
        "  return {'value': item}\n",
        "\n",
        "@convertToPipeFunc2()\n",
        "def printItem(item, description):\n",
        "  print(description, item)\n",
        "  return item\n",
        "\n",
        "def getNumbers(gen):\n",
        "  for item in gen:\n",
        "    for _ in item['numbers']:\n",
        "      yield _['value']\n",
        "\n",
        "gr = {\n",
        "    'nodes': {\n",
        "        'Great': identityPipe(description = 'Great item'), \n",
        "        'Small': identityPipe(description = 'Small item'),\n",
        "        'Numbers': numberRecord(),\n",
        "        },\n",
        "    'edges': [\n",
        "        {'from': 'Great', 'to': 'Small', \n",
        "         'relation': greatToSmallRelation(), 'itemname' : 'little'},\n",
        "        {'from': 'Small', 'to': 'Great', \n",
        "         'relation': smallToGreatRelation2(), 'itemname' : 'bigA', \n",
        "         'filter': lambda item: item['id'] <= 'A'},\n",
        "        {'from': 'Small', 'to': 'Great', \n",
        "         'relation': smallToGreatRelation2(), 'itemname' : 'bigBC', \n",
        "         'filter': lambda item: item['id'] > 'A'},\n",
        "        {'from': 'Small', 'to': 'Numbers', \n",
        "         'relation': anyToNumbersRelation(), 'itemname' : 'numbers'},\n",
        "        {'from': 'Great', 'to': 'Numbers', \n",
        "         'relation': anyToNumbersRelation(), 'itemname' : 'numbers',\n",
        "         'reducers' :[\n",
        "            {'name': 'count', \n",
        "             'map': getNumbers, \n",
        "             'reduce': createNumericAggregator(startValue = 0, aggFunc = lambda x, y: (x + 1))\n",
        "             },\n",
        "            {'name': 'sum', \n",
        "             'map': getNumbers, \n",
        "             'reduce': createNumericAggregator(startValue = 0, aggFunc = lambda x, y: (x + y))\n",
        "             },\n",
        "          ]},\n",
        "    ]\n",
        "}\n",
        "\n",
        "import json\n",
        "graphPipe = graphToPipe(gr, 'Small')\n",
        "result = list(graphPipe(smallSource))\n",
        "print(json.dumps(result, indent=2))"
      ],
      "execution_count": 186,
      "outputs": [
        {
          "output_type": "error",
          "ename": "KeyError",
          "evalue": "ignored",
          "traceback": [
            "\u001b[0;31m---------------------------------------------------------------------------\u001b[0m",
            "\u001b[0;31mKeyError\u001b[0m                                  Traceback (most recent call last)",
            "\u001b[0;32m<ipython-input-186-d59a00adc0f9>\u001b[0m in \u001b[0;36m<module>\u001b[0;34m()\u001b[0m\n\u001b[1;32m     80\u001b[0m \u001b[0;32mimport\u001b[0m \u001b[0mjson\u001b[0m\u001b[0;34m\u001b[0m\u001b[0;34m\u001b[0m\u001b[0m\n\u001b[1;32m     81\u001b[0m \u001b[0mgraphPipe\u001b[0m \u001b[0;34m=\u001b[0m \u001b[0mgraphToPipe\u001b[0m\u001b[0;34m(\u001b[0m\u001b[0mgr\u001b[0m\u001b[0;34m,\u001b[0m \u001b[0;34m'Small'\u001b[0m\u001b[0;34m)\u001b[0m\u001b[0;34m\u001b[0m\u001b[0;34m\u001b[0m\u001b[0m\n\u001b[0;32m---> 82\u001b[0;31m \u001b[0mresult\u001b[0m \u001b[0;34m=\u001b[0m \u001b[0mlist\u001b[0m\u001b[0;34m(\u001b[0m\u001b[0mgraphPipe\u001b[0m\u001b[0;34m(\u001b[0m\u001b[0msmallSource\u001b[0m\u001b[0;34m)\u001b[0m\u001b[0;34m)\u001b[0m\u001b[0;34m\u001b[0m\u001b[0;34m\u001b[0m\u001b[0m\n\u001b[0m\u001b[1;32m     83\u001b[0m \u001b[0mprint\u001b[0m\u001b[0;34m(\u001b[0m\u001b[0mjson\u001b[0m\u001b[0;34m.\u001b[0m\u001b[0mdumps\u001b[0m\u001b[0;34m(\u001b[0m\u001b[0mresult\u001b[0m\u001b[0;34m,\u001b[0m \u001b[0mindent\u001b[0m\u001b[0;34m=\u001b[0m\u001b[0;36m2\u001b[0m\u001b[0;34m)\u001b[0m\u001b[0;34m)\u001b[0m\u001b[0;34m\u001b[0m\u001b[0;34m\u001b[0m\u001b[0m\n",
            "\u001b[0;32m<ipython-input-167-bc66e7e3828d>\u001b[0m in \u001b[0;36mpost\u001b[0;34m(gen)\u001b[0m\n\u001b[1;32m     31\u001b[0m \u001b[0;34m\u001b[0m\u001b[0m\n\u001b[1;32m     32\u001b[0m       \u001b[0;32mdef\u001b[0m \u001b[0mpost\u001b[0m\u001b[0;34m(\u001b[0m\u001b[0mgen\u001b[0m\u001b[0;34m)\u001b[0m\u001b[0;34m:\u001b[0m\u001b[0;34m\u001b[0m\u001b[0;34m\u001b[0m\u001b[0m\n\u001b[0;32m---> 33\u001b[0;31m           \u001b[0;32mfor\u001b[0m \u001b[0mitem\u001b[0m \u001b[0;32min\u001b[0m \u001b[0mgen\u001b[0m\u001b[0;34m:\u001b[0m\u001b[0;34m\u001b[0m\u001b[0;34m\u001b[0m\u001b[0m\n\u001b[0m\u001b[1;32m     34\u001b[0m               \u001b[0;32myield\u001b[0m \u001b[0massign\u001b[0m\u001b[0;34m(\u001b[0m\u001b[0mbuffer\u001b[0m\u001b[0;34m[\u001b[0m\u001b[0;34m'data'\u001b[0m\u001b[0;34m]\u001b[0m\u001b[0;34m,\u001b[0m \u001b[0mitem\u001b[0m\u001b[0;34m)\u001b[0m\u001b[0;34m\u001b[0m\u001b[0;34m\u001b[0m\u001b[0m\n\u001b[1;32m     35\u001b[0m \u001b[0;34m\u001b[0m\u001b[0m\n",
            "\u001b[0;32m<ipython-input-167-bc66e7e3828d>\u001b[0m in \u001b[0;36mresult\u001b[0;34m(gen)\u001b[0m\n\u001b[1;32m     40\u001b[0m       \u001b[0minner\u001b[0m \u001b[0;34m=\u001b[0m \u001b[0mcreatePipe\u001b[0m\u001b[0;34m(\u001b[0m\u001b[0;34m*\u001b[0m\u001b[0mF\u001b[0m\u001b[0;34m,\u001b[0m \u001b[0mreducer\u001b[0m\u001b[0;34m)\u001b[0m\u001b[0;34m\u001b[0m\u001b[0;34m\u001b[0m\u001b[0m\n\u001b[1;32m     41\u001b[0m       \u001b[0;32mdef\u001b[0m \u001b[0mresult\u001b[0m\u001b[0;34m(\u001b[0m\u001b[0mgen\u001b[0m\u001b[0;34m)\u001b[0m\u001b[0;34m:\u001b[0m\u001b[0;34m\u001b[0m\u001b[0;34m\u001b[0m\u001b[0m\n\u001b[0;32m---> 42\u001b[0;31m           \u001b[0;32mfor\u001b[0m \u001b[0mitem\u001b[0m \u001b[0;32min\u001b[0m \u001b[0mgen\u001b[0m\u001b[0;34m:\u001b[0m\u001b[0;34m\u001b[0m\u001b[0;34m\u001b[0m\u001b[0m\n\u001b[0m\u001b[1;32m     43\u001b[0m               \u001b[0;32myield\u001b[0m \u001b[0minner\u001b[0m\u001b[0;34m(\u001b[0m\u001b[0;34m[\u001b[0m\u001b[0mitem\u001b[0m\u001b[0;34m]\u001b[0m\u001b[0;34m)\u001b[0m\u001b[0;34m\u001b[0m\u001b[0;34m\u001b[0m\u001b[0m\n\u001b[1;32m     44\u001b[0m \u001b[0;34m\u001b[0m\u001b[0m\n",
            "\u001b[0;32m<ipython-input-167-bc66e7e3828d>\u001b[0m in \u001b[0;36mpre\u001b[0;34m(gen)\u001b[0m\n\u001b[1;32m     26\u001b[0m       \u001b[0mbuffer\u001b[0m \u001b[0;34m=\u001b[0m \u001b[0;34m{\u001b[0m\u001b[0;34m'data'\u001b[0m\u001b[0;34m:\u001b[0m \u001b[0;32mNone\u001b[0m\u001b[0;34m}\u001b[0m\u001b[0;34m\u001b[0m\u001b[0;34m\u001b[0m\u001b[0m\n\u001b[1;32m     27\u001b[0m       \u001b[0;32mdef\u001b[0m \u001b[0mpre\u001b[0m\u001b[0;34m(\u001b[0m\u001b[0mgen\u001b[0m\u001b[0;34m)\u001b[0m\u001b[0;34m:\u001b[0m\u001b[0;34m\u001b[0m\u001b[0;34m\u001b[0m\u001b[0m\n\u001b[0;32m---> 28\u001b[0;31m           \u001b[0;32mfor\u001b[0m \u001b[0mitem\u001b[0m \u001b[0;32min\u001b[0m \u001b[0mgen\u001b[0m\u001b[0;34m:\u001b[0m\u001b[0;34m\u001b[0m\u001b[0;34m\u001b[0m\u001b[0m\n\u001b[0m\u001b[1;32m     29\u001b[0m               \u001b[0mbuffer\u001b[0m\u001b[0;34m[\u001b[0m\u001b[0;34m'data'\u001b[0m\u001b[0;34m]\u001b[0m \u001b[0;34m=\u001b[0m \u001b[0mitem\u001b[0m\u001b[0;34m\u001b[0m\u001b[0;34m\u001b[0m\u001b[0m\n\u001b[1;32m     30\u001b[0m               \u001b[0;32myield\u001b[0m \u001b[0mitem\u001b[0m\u001b[0;34m\u001b[0m\u001b[0;34m\u001b[0m\u001b[0m\n",
            "\u001b[0;32m<ipython-input-167-bc66e7e3828d>\u001b[0m in \u001b[0;36mpost\u001b[0;34m(gen)\u001b[0m\n\u001b[1;32m     31\u001b[0m \u001b[0;34m\u001b[0m\u001b[0m\n\u001b[1;32m     32\u001b[0m       \u001b[0;32mdef\u001b[0m \u001b[0mpost\u001b[0m\u001b[0;34m(\u001b[0m\u001b[0mgen\u001b[0m\u001b[0;34m)\u001b[0m\u001b[0;34m:\u001b[0m\u001b[0;34m\u001b[0m\u001b[0;34m\u001b[0m\u001b[0m\n\u001b[0;32m---> 33\u001b[0;31m           \u001b[0;32mfor\u001b[0m \u001b[0mitem\u001b[0m \u001b[0;32min\u001b[0m \u001b[0mgen\u001b[0m\u001b[0;34m:\u001b[0m\u001b[0;34m\u001b[0m\u001b[0;34m\u001b[0m\u001b[0m\n\u001b[0m\u001b[1;32m     34\u001b[0m               \u001b[0;32myield\u001b[0m \u001b[0massign\u001b[0m\u001b[0;34m(\u001b[0m\u001b[0mbuffer\u001b[0m\u001b[0;34m[\u001b[0m\u001b[0;34m'data'\u001b[0m\u001b[0;34m]\u001b[0m\u001b[0;34m,\u001b[0m \u001b[0mitem\u001b[0m\u001b[0;34m)\u001b[0m\u001b[0;34m\u001b[0m\u001b[0;34m\u001b[0m\u001b[0m\n\u001b[1;32m     35\u001b[0m \u001b[0;34m\u001b[0m\u001b[0m\n",
            "\u001b[0;32m<ipython-input-167-bc66e7e3828d>\u001b[0m in \u001b[0;36mresult\u001b[0;34m(gen)\u001b[0m\n\u001b[1;32m     40\u001b[0m       \u001b[0minner\u001b[0m \u001b[0;34m=\u001b[0m \u001b[0mcreatePipe\u001b[0m\u001b[0;34m(\u001b[0m\u001b[0;34m*\u001b[0m\u001b[0mF\u001b[0m\u001b[0;34m,\u001b[0m \u001b[0mreducer\u001b[0m\u001b[0;34m)\u001b[0m\u001b[0;34m\u001b[0m\u001b[0;34m\u001b[0m\u001b[0m\n\u001b[1;32m     41\u001b[0m       \u001b[0;32mdef\u001b[0m \u001b[0mresult\u001b[0m\u001b[0;34m(\u001b[0m\u001b[0mgen\u001b[0m\u001b[0;34m)\u001b[0m\u001b[0;34m:\u001b[0m\u001b[0;34m\u001b[0m\u001b[0;34m\u001b[0m\u001b[0m\n\u001b[0;32m---> 42\u001b[0;31m           \u001b[0;32mfor\u001b[0m \u001b[0mitem\u001b[0m \u001b[0;32min\u001b[0m \u001b[0mgen\u001b[0m\u001b[0;34m:\u001b[0m\u001b[0;34m\u001b[0m\u001b[0;34m\u001b[0m\u001b[0m\n\u001b[0m\u001b[1;32m     43\u001b[0m               \u001b[0;32myield\u001b[0m \u001b[0minner\u001b[0m\u001b[0;34m(\u001b[0m\u001b[0;34m[\u001b[0m\u001b[0mitem\u001b[0m\u001b[0;34m]\u001b[0m\u001b[0;34m)\u001b[0m\u001b[0;34m\u001b[0m\u001b[0;34m\u001b[0m\u001b[0m\n\u001b[1;32m     44\u001b[0m \u001b[0;34m\u001b[0m\u001b[0m\n",
            "\u001b[0;32m<ipython-input-167-bc66e7e3828d>\u001b[0m in \u001b[0;36mpre\u001b[0;34m(gen)\u001b[0m\n\u001b[1;32m     26\u001b[0m       \u001b[0mbuffer\u001b[0m \u001b[0;34m=\u001b[0m \u001b[0;34m{\u001b[0m\u001b[0;34m'data'\u001b[0m\u001b[0;34m:\u001b[0m \u001b[0;32mNone\u001b[0m\u001b[0;34m}\u001b[0m\u001b[0;34m\u001b[0m\u001b[0;34m\u001b[0m\u001b[0m\n\u001b[1;32m     27\u001b[0m       \u001b[0;32mdef\u001b[0m \u001b[0mpre\u001b[0m\u001b[0;34m(\u001b[0m\u001b[0mgen\u001b[0m\u001b[0;34m)\u001b[0m\u001b[0;34m:\u001b[0m\u001b[0;34m\u001b[0m\u001b[0;34m\u001b[0m\u001b[0m\n\u001b[0;32m---> 28\u001b[0;31m           \u001b[0;32mfor\u001b[0m \u001b[0mitem\u001b[0m \u001b[0;32min\u001b[0m \u001b[0mgen\u001b[0m\u001b[0;34m:\u001b[0m\u001b[0;34m\u001b[0m\u001b[0;34m\u001b[0m\u001b[0m\n\u001b[0m\u001b[1;32m     29\u001b[0m               \u001b[0mbuffer\u001b[0m\u001b[0;34m[\u001b[0m\u001b[0;34m'data'\u001b[0m\u001b[0;34m]\u001b[0m \u001b[0;34m=\u001b[0m \u001b[0mitem\u001b[0m\u001b[0;34m\u001b[0m\u001b[0;34m\u001b[0m\u001b[0m\n\u001b[1;32m     30\u001b[0m               \u001b[0;32myield\u001b[0m \u001b[0mitem\u001b[0m\u001b[0;34m\u001b[0m\u001b[0;34m\u001b[0m\u001b[0m\n",
            "\u001b[0;32m<ipython-input-167-bc66e7e3828d>\u001b[0m in \u001b[0;36mpost\u001b[0;34m(gen)\u001b[0m\n\u001b[1;32m     31\u001b[0m \u001b[0;34m\u001b[0m\u001b[0m\n\u001b[1;32m     32\u001b[0m       \u001b[0;32mdef\u001b[0m \u001b[0mpost\u001b[0m\u001b[0;34m(\u001b[0m\u001b[0mgen\u001b[0m\u001b[0;34m)\u001b[0m\u001b[0;34m:\u001b[0m\u001b[0;34m\u001b[0m\u001b[0;34m\u001b[0m\u001b[0m\n\u001b[0;32m---> 33\u001b[0;31m           \u001b[0;32mfor\u001b[0m \u001b[0mitem\u001b[0m \u001b[0;32min\u001b[0m \u001b[0mgen\u001b[0m\u001b[0;34m:\u001b[0m\u001b[0;34m\u001b[0m\u001b[0;34m\u001b[0m\u001b[0m\n\u001b[0m\u001b[1;32m     34\u001b[0m               \u001b[0;32myield\u001b[0m \u001b[0massign\u001b[0m\u001b[0;34m(\u001b[0m\u001b[0mbuffer\u001b[0m\u001b[0;34m[\u001b[0m\u001b[0;34m'data'\u001b[0m\u001b[0;34m]\u001b[0m\u001b[0;34m,\u001b[0m \u001b[0mitem\u001b[0m\u001b[0;34m)\u001b[0m\u001b[0;34m\u001b[0m\u001b[0;34m\u001b[0m\u001b[0m\n\u001b[1;32m     35\u001b[0m \u001b[0;34m\u001b[0m\u001b[0m\n",
            "\u001b[0;32m<ipython-input-167-bc66e7e3828d>\u001b[0m in \u001b[0;36mresult\u001b[0;34m(gen)\u001b[0m\n\u001b[1;32m     41\u001b[0m       \u001b[0;32mdef\u001b[0m \u001b[0mresult\u001b[0m\u001b[0;34m(\u001b[0m\u001b[0mgen\u001b[0m\u001b[0;34m)\u001b[0m\u001b[0;34m:\u001b[0m\u001b[0;34m\u001b[0m\u001b[0;34m\u001b[0m\u001b[0m\n\u001b[1;32m     42\u001b[0m           \u001b[0;32mfor\u001b[0m \u001b[0mitem\u001b[0m \u001b[0;32min\u001b[0m \u001b[0mgen\u001b[0m\u001b[0;34m:\u001b[0m\u001b[0;34m\u001b[0m\u001b[0;34m\u001b[0m\u001b[0m\n\u001b[0;32m---> 43\u001b[0;31m               \u001b[0;32myield\u001b[0m \u001b[0minner\u001b[0m\u001b[0;34m(\u001b[0m\u001b[0;34m[\u001b[0m\u001b[0mitem\u001b[0m\u001b[0;34m]\u001b[0m\u001b[0;34m)\u001b[0m\u001b[0;34m\u001b[0m\u001b[0;34m\u001b[0m\u001b[0m\n\u001b[0m\u001b[1;32m     44\u001b[0m \u001b[0;34m\u001b[0m\u001b[0m\n\u001b[1;32m     45\u001b[0m       \u001b[0mwholePipe\u001b[0m \u001b[0;34m=\u001b[0m \u001b[0mmultipleResults\u001b[0m\u001b[0;34m(\u001b[0m\u001b[0mresult\u001b[0m\u001b[0;34m)\u001b[0m\u001b[0;34m\u001b[0m\u001b[0;34m\u001b[0m\u001b[0m\n",
            "\u001b[0;32m<ipython-input-166-a7f41c16762f>\u001b[0m in \u001b[0;36mFdiamond\u001b[0;34m(sequence)\u001b[0m\n\u001b[1;32m     11\u001b[0m     \u001b[0mresult\u001b[0m \u001b[0;34m=\u001b[0m \u001b[0msequence\u001b[0m\u001b[0;34m\u001b[0m\u001b[0;34m\u001b[0m\u001b[0m\n\u001b[1;32m     12\u001b[0m     \u001b[0;32mfor\u001b[0m \u001b[0mFx\u001b[0m \u001b[0;32min\u001b[0m \u001b[0mF\u001b[0m\u001b[0;34m:\u001b[0m\u001b[0;34m\u001b[0m\u001b[0;34m\u001b[0m\u001b[0m\n\u001b[0;32m---> 13\u001b[0;31m       \u001b[0mresult\u001b[0m \u001b[0;34m=\u001b[0m \u001b[0mFx\u001b[0m\u001b[0;34m(\u001b[0m\u001b[0mresult\u001b[0m\u001b[0;34m)\u001b[0m\u001b[0;34m\u001b[0m\u001b[0;34m\u001b[0m\u001b[0m\n\u001b[0m\u001b[1;32m     14\u001b[0m     \u001b[0;32mreturn\u001b[0m \u001b[0mresult\u001b[0m\u001b[0;34m\u001b[0m\u001b[0;34m\u001b[0m\u001b[0m\n\u001b[1;32m     15\u001b[0m   \u001b[0;32mreturn\u001b[0m \u001b[0mFdiamond\u001b[0m\u001b[0;34m\u001b[0m\u001b[0;34m\u001b[0m\u001b[0m\n",
            "\u001b[0;32m<ipython-input-179-f37e7c2a120a>\u001b[0m in \u001b[0;36mreducer\u001b[0;34m(gen)\u001b[0m\n\u001b[1;32m     18\u001b[0m \u001b[0;32mdef\u001b[0m \u001b[0mcreateArrayReducer\u001b[0m\u001b[0;34m(\u001b[0m\u001b[0maccumulator\u001b[0m \u001b[0;34m=\u001b[0m \u001b[0;34m[\u001b[0m\u001b[0;34m]\u001b[0m\u001b[0;34m,\u001b[0m \u001b[0mf\u001b[0m \u001b[0;34m=\u001b[0m \u001b[0;32mlambda\u001b[0m \u001b[0maccumulator\u001b[0m\u001b[0;34m,\u001b[0m \u001b[0mitem\u001b[0m\u001b[0;34m:\u001b[0m \u001b[0;34m[\u001b[0m\u001b[0;34m*\u001b[0m\u001b[0maccumulator\u001b[0m\u001b[0;34m,\u001b[0m \u001b[0mitem\u001b[0m\u001b[0;34m]\u001b[0m\u001b[0;34m)\u001b[0m\u001b[0;34m:\u001b[0m\u001b[0;34m\u001b[0m\u001b[0;34m\u001b[0m\u001b[0m\n\u001b[1;32m     19\u001b[0m   \u001b[0;32mdef\u001b[0m \u001b[0mreducer\u001b[0m\u001b[0;34m(\u001b[0m\u001b[0mgen\u001b[0m\u001b[0;34m)\u001b[0m\u001b[0;34m:\u001b[0m\u001b[0;34m\u001b[0m\u001b[0;34m\u001b[0m\u001b[0m\n\u001b[0;32m---> 20\u001b[0;31m     \u001b[0;32mreturn\u001b[0m \u001b[0mreduce\u001b[0m\u001b[0;34m(\u001b[0m\u001b[0mf\u001b[0m\u001b[0;34m,\u001b[0m \u001b[0mgen\u001b[0m\u001b[0;34m,\u001b[0m \u001b[0maccumulator\u001b[0m\u001b[0;34m)\u001b[0m\u001b[0;34m\u001b[0m\u001b[0;34m\u001b[0m\u001b[0m\n\u001b[0m\u001b[1;32m     21\u001b[0m   \u001b[0;32mreturn\u001b[0m \u001b[0mreducer\u001b[0m\u001b[0;34m\u001b[0m\u001b[0;34m\u001b[0m\u001b[0m\n\u001b[1;32m     22\u001b[0m \u001b[0;34m\u001b[0m\u001b[0m\n",
            "\u001b[0;32m<ipython-input-167-bc66e7e3828d>\u001b[0m in \u001b[0;36mpost\u001b[0;34m(gen)\u001b[0m\n\u001b[1;32m     31\u001b[0m \u001b[0;34m\u001b[0m\u001b[0m\n\u001b[1;32m     32\u001b[0m       \u001b[0;32mdef\u001b[0m \u001b[0mpost\u001b[0m\u001b[0;34m(\u001b[0m\u001b[0mgen\u001b[0m\u001b[0;34m)\u001b[0m\u001b[0;34m:\u001b[0m\u001b[0;34m\u001b[0m\u001b[0;34m\u001b[0m\u001b[0m\n\u001b[0;32m---> 33\u001b[0;31m           \u001b[0;32mfor\u001b[0m \u001b[0mitem\u001b[0m \u001b[0;32min\u001b[0m \u001b[0mgen\u001b[0m\u001b[0;34m:\u001b[0m\u001b[0;34m\u001b[0m\u001b[0;34m\u001b[0m\u001b[0m\n\u001b[0m\u001b[1;32m     34\u001b[0m               \u001b[0;32myield\u001b[0m \u001b[0massign\u001b[0m\u001b[0;34m(\u001b[0m\u001b[0mbuffer\u001b[0m\u001b[0;34m[\u001b[0m\u001b[0;34m'data'\u001b[0m\u001b[0;34m]\u001b[0m\u001b[0;34m,\u001b[0m \u001b[0mitem\u001b[0m\u001b[0;34m)\u001b[0m\u001b[0;34m\u001b[0m\u001b[0;34m\u001b[0m\u001b[0m\n\u001b[1;32m     35\u001b[0m \u001b[0;34m\u001b[0m\u001b[0m\n",
            "\u001b[0;32m<ipython-input-167-bc66e7e3828d>\u001b[0m in \u001b[0;36mresult\u001b[0;34m(gen)\u001b[0m\n\u001b[1;32m     40\u001b[0m       \u001b[0minner\u001b[0m \u001b[0;34m=\u001b[0m \u001b[0mcreatePipe\u001b[0m\u001b[0;34m(\u001b[0m\u001b[0;34m*\u001b[0m\u001b[0mF\u001b[0m\u001b[0;34m,\u001b[0m \u001b[0mreducer\u001b[0m\u001b[0;34m)\u001b[0m\u001b[0;34m\u001b[0m\u001b[0;34m\u001b[0m\u001b[0m\n\u001b[1;32m     41\u001b[0m       \u001b[0;32mdef\u001b[0m \u001b[0mresult\u001b[0m\u001b[0;34m(\u001b[0m\u001b[0mgen\u001b[0m\u001b[0;34m)\u001b[0m\u001b[0;34m:\u001b[0m\u001b[0;34m\u001b[0m\u001b[0;34m\u001b[0m\u001b[0m\n\u001b[0;32m---> 42\u001b[0;31m           \u001b[0;32mfor\u001b[0m \u001b[0mitem\u001b[0m \u001b[0;32min\u001b[0m \u001b[0mgen\u001b[0m\u001b[0;34m:\u001b[0m\u001b[0;34m\u001b[0m\u001b[0;34m\u001b[0m\u001b[0m\n\u001b[0m\u001b[1;32m     43\u001b[0m               \u001b[0;32myield\u001b[0m \u001b[0minner\u001b[0m\u001b[0;34m(\u001b[0m\u001b[0;34m[\u001b[0m\u001b[0mitem\u001b[0m\u001b[0;34m]\u001b[0m\u001b[0;34m)\u001b[0m\u001b[0;34m\u001b[0m\u001b[0;34m\u001b[0m\u001b[0m\n\u001b[1;32m     44\u001b[0m \u001b[0;34m\u001b[0m\u001b[0m\n",
            "\u001b[0;32m<ipython-input-167-bc66e7e3828d>\u001b[0m in \u001b[0;36mpre\u001b[0;34m(gen)\u001b[0m\n\u001b[1;32m     26\u001b[0m       \u001b[0mbuffer\u001b[0m \u001b[0;34m=\u001b[0m \u001b[0;34m{\u001b[0m\u001b[0;34m'data'\u001b[0m\u001b[0;34m:\u001b[0m \u001b[0;32mNone\u001b[0m\u001b[0;34m}\u001b[0m\u001b[0;34m\u001b[0m\u001b[0;34m\u001b[0m\u001b[0m\n\u001b[1;32m     27\u001b[0m       \u001b[0;32mdef\u001b[0m \u001b[0mpre\u001b[0m\u001b[0;34m(\u001b[0m\u001b[0mgen\u001b[0m\u001b[0;34m)\u001b[0m\u001b[0;34m:\u001b[0m\u001b[0;34m\u001b[0m\u001b[0;34m\u001b[0m\u001b[0m\n\u001b[0;32m---> 28\u001b[0;31m           \u001b[0;32mfor\u001b[0m \u001b[0mitem\u001b[0m \u001b[0;32min\u001b[0m \u001b[0mgen\u001b[0m\u001b[0;34m:\u001b[0m\u001b[0;34m\u001b[0m\u001b[0;34m\u001b[0m\u001b[0m\n\u001b[0m\u001b[1;32m     29\u001b[0m               \u001b[0mbuffer\u001b[0m\u001b[0;34m[\u001b[0m\u001b[0;34m'data'\u001b[0m\u001b[0;34m]\u001b[0m \u001b[0;34m=\u001b[0m \u001b[0mitem\u001b[0m\u001b[0;34m\u001b[0m\u001b[0;34m\u001b[0m\u001b[0m\n\u001b[1;32m     30\u001b[0m               \u001b[0;32myield\u001b[0m \u001b[0mitem\u001b[0m\u001b[0;34m\u001b[0m\u001b[0;34m\u001b[0m\u001b[0m\n",
            "\u001b[0;32m<ipython-input-167-bc66e7e3828d>\u001b[0m in \u001b[0;36mpost\u001b[0;34m(gen)\u001b[0m\n\u001b[1;32m     31\u001b[0m \u001b[0;34m\u001b[0m\u001b[0m\n\u001b[1;32m     32\u001b[0m       \u001b[0;32mdef\u001b[0m \u001b[0mpost\u001b[0m\u001b[0;34m(\u001b[0m\u001b[0mgen\u001b[0m\u001b[0;34m)\u001b[0m\u001b[0;34m:\u001b[0m\u001b[0;34m\u001b[0m\u001b[0;34m\u001b[0m\u001b[0m\n\u001b[0;32m---> 33\u001b[0;31m           \u001b[0;32mfor\u001b[0m \u001b[0mitem\u001b[0m \u001b[0;32min\u001b[0m \u001b[0mgen\u001b[0m\u001b[0;34m:\u001b[0m\u001b[0;34m\u001b[0m\u001b[0;34m\u001b[0m\u001b[0m\n\u001b[0m\u001b[1;32m     34\u001b[0m               \u001b[0;32myield\u001b[0m \u001b[0massign\u001b[0m\u001b[0;34m(\u001b[0m\u001b[0mbuffer\u001b[0m\u001b[0;34m[\u001b[0m\u001b[0;34m'data'\u001b[0m\u001b[0;34m]\u001b[0m\u001b[0;34m,\u001b[0m \u001b[0mitem\u001b[0m\u001b[0;34m)\u001b[0m\u001b[0;34m\u001b[0m\u001b[0;34m\u001b[0m\u001b[0m\n\u001b[1;32m     35\u001b[0m \u001b[0;34m\u001b[0m\u001b[0m\n",
            "\u001b[0;32m<ipython-input-167-bc66e7e3828d>\u001b[0m in \u001b[0;36mresult\u001b[0;34m(gen)\u001b[0m\n\u001b[1;32m     41\u001b[0m       \u001b[0;32mdef\u001b[0m \u001b[0mresult\u001b[0m\u001b[0;34m(\u001b[0m\u001b[0mgen\u001b[0m\u001b[0;34m)\u001b[0m\u001b[0;34m:\u001b[0m\u001b[0;34m\u001b[0m\u001b[0;34m\u001b[0m\u001b[0m\n\u001b[1;32m     42\u001b[0m           \u001b[0;32mfor\u001b[0m \u001b[0mitem\u001b[0m \u001b[0;32min\u001b[0m \u001b[0mgen\u001b[0m\u001b[0;34m:\u001b[0m\u001b[0;34m\u001b[0m\u001b[0;34m\u001b[0m\u001b[0m\n\u001b[0;32m---> 43\u001b[0;31m               \u001b[0;32myield\u001b[0m \u001b[0minner\u001b[0m\u001b[0;34m(\u001b[0m\u001b[0;34m[\u001b[0m\u001b[0mitem\u001b[0m\u001b[0;34m]\u001b[0m\u001b[0;34m)\u001b[0m\u001b[0;34m\u001b[0m\u001b[0;34m\u001b[0m\u001b[0m\n\u001b[0m\u001b[1;32m     44\u001b[0m \u001b[0;34m\u001b[0m\u001b[0m\n\u001b[1;32m     45\u001b[0m       \u001b[0mwholePipe\u001b[0m \u001b[0;34m=\u001b[0m \u001b[0mmultipleResults\u001b[0m\u001b[0;34m(\u001b[0m\u001b[0mresult\u001b[0m\u001b[0;34m)\u001b[0m\u001b[0;34m\u001b[0m\u001b[0;34m\u001b[0m\u001b[0m\n",
            "\u001b[0;32m<ipython-input-166-a7f41c16762f>\u001b[0m in \u001b[0;36mFdiamond\u001b[0;34m(sequence)\u001b[0m\n\u001b[1;32m     11\u001b[0m     \u001b[0mresult\u001b[0m \u001b[0;34m=\u001b[0m \u001b[0msequence\u001b[0m\u001b[0;34m\u001b[0m\u001b[0;34m\u001b[0m\u001b[0m\n\u001b[1;32m     12\u001b[0m     \u001b[0;32mfor\u001b[0m \u001b[0mFx\u001b[0m \u001b[0;32min\u001b[0m \u001b[0mF\u001b[0m\u001b[0;34m:\u001b[0m\u001b[0;34m\u001b[0m\u001b[0;34m\u001b[0m\u001b[0m\n\u001b[0;32m---> 13\u001b[0;31m       \u001b[0mresult\u001b[0m \u001b[0;34m=\u001b[0m \u001b[0mFx\u001b[0m\u001b[0;34m(\u001b[0m\u001b[0mresult\u001b[0m\u001b[0;34m)\u001b[0m\u001b[0;34m\u001b[0m\u001b[0;34m\u001b[0m\u001b[0m\n\u001b[0m\u001b[1;32m     14\u001b[0m     \u001b[0;32mreturn\u001b[0m \u001b[0mresult\u001b[0m\u001b[0;34m\u001b[0m\u001b[0;34m\u001b[0m\u001b[0m\n\u001b[1;32m     15\u001b[0m   \u001b[0;32mreturn\u001b[0m \u001b[0mFdiamond\u001b[0m\u001b[0;34m\u001b[0m\u001b[0;34m\u001b[0m\u001b[0m\n",
            "\u001b[0;32m<ipython-input-179-f37e7c2a120a>\u001b[0m in \u001b[0;36minner\u001b[0;34m(gen)\u001b[0m\n\u001b[1;32m     11\u001b[0m   \u001b[0;32mdef\u001b[0m \u001b[0minner\u001b[0m\u001b[0;34m(\u001b[0m\u001b[0mgen\u001b[0m\u001b[0;34m)\u001b[0m\u001b[0;34m:\u001b[0m\u001b[0;34m\u001b[0m\u001b[0;34m\u001b[0m\u001b[0m\n\u001b[1;32m     12\u001b[0m     \u001b[0mresult\u001b[0m \u001b[0;34m=\u001b[0m \u001b[0mstartValue\u001b[0m\u001b[0;34m\u001b[0m\u001b[0;34m\u001b[0m\u001b[0m\n\u001b[0;32m---> 13\u001b[0;31m     \u001b[0;32mfor\u001b[0m \u001b[0mitem\u001b[0m \u001b[0;32min\u001b[0m \u001b[0mgen\u001b[0m\u001b[0;34m:\u001b[0m\u001b[0;34m\u001b[0m\u001b[0;34m\u001b[0m\u001b[0m\n\u001b[0m\u001b[1;32m     14\u001b[0m       \u001b[0mresult\u001b[0m \u001b[0;34m=\u001b[0m \u001b[0maggFunc\u001b[0m\u001b[0;34m(\u001b[0m\u001b[0mresult\u001b[0m\u001b[0;34m,\u001b[0m \u001b[0mitem\u001b[0m\u001b[0;34m)\u001b[0m\u001b[0;34m\u001b[0m\u001b[0;34m\u001b[0m\u001b[0m\n\u001b[1;32m     15\u001b[0m     \u001b[0;32mreturn\u001b[0m \u001b[0mresult\u001b[0m\u001b[0;34m\u001b[0m\u001b[0;34m\u001b[0m\u001b[0m\n",
            "\u001b[0;32m<ipython-input-186-d59a00adc0f9>\u001b[0m in \u001b[0;36mgetNumbers\u001b[0;34m(gen)\u001b[0m\n\u001b[1;32m     42\u001b[0m \u001b[0;34m\u001b[0m\u001b[0m\n\u001b[1;32m     43\u001b[0m \u001b[0;32mdef\u001b[0m \u001b[0mgetNumbers\u001b[0m\u001b[0;34m(\u001b[0m\u001b[0mgen\u001b[0m\u001b[0;34m)\u001b[0m\u001b[0;34m:\u001b[0m\u001b[0;34m\u001b[0m\u001b[0;34m\u001b[0m\u001b[0m\n\u001b[0;32m---> 44\u001b[0;31m   \u001b[0;32mfor\u001b[0m \u001b[0mitem\u001b[0m \u001b[0;32min\u001b[0m \u001b[0mgen\u001b[0m\u001b[0;34m:\u001b[0m\u001b[0;34m\u001b[0m\u001b[0;34m\u001b[0m\u001b[0m\n\u001b[0m\u001b[1;32m     45\u001b[0m     \u001b[0;32mfor\u001b[0m \u001b[0m_\u001b[0m \u001b[0;32min\u001b[0m \u001b[0mitem\u001b[0m\u001b[0;34m[\u001b[0m\u001b[0;34m'numbers'\u001b[0m\u001b[0;34m]\u001b[0m\u001b[0;34m:\u001b[0m\u001b[0;34m\u001b[0m\u001b[0;34m\u001b[0m\u001b[0m\n\u001b[1;32m     46\u001b[0m       \u001b[0;32myield\u001b[0m \u001b[0m_\u001b[0m\u001b[0;34m[\u001b[0m\u001b[0;34m'value'\u001b[0m\u001b[0;34m]\u001b[0m\u001b[0;34m\u001b[0m\u001b[0;34m\u001b[0m\u001b[0m\n",
            "\u001b[0;32m<ipython-input-169-c816b229f146>\u001b[0m in \u001b[0;36minnerSelectWithYield\u001b[0;34m(generator)\u001b[0m\n\u001b[1;32m     23\u001b[0m   \u001b[0;32mdef\u001b[0m \u001b[0minnerSelectWithYield\u001b[0m\u001b[0;34m(\u001b[0m\u001b[0mgenerator\u001b[0m\u001b[0;34m)\u001b[0m\u001b[0;34m:\u001b[0m\u001b[0;34m\u001b[0m\u001b[0;34m\u001b[0m\u001b[0m\n\u001b[1;32m     24\u001b[0m       \u001b[0;32mfor\u001b[0m \u001b[0mi\u001b[0m \u001b[0;32min\u001b[0m \u001b[0mgenerator\u001b[0m\u001b[0;34m:\u001b[0m\u001b[0;34m\u001b[0m\u001b[0;34m\u001b[0m\u001b[0m\n\u001b[0;32m---> 25\u001b[0;31m           \u001b[0;32mfor\u001b[0m \u001b[0mj\u001b[0m \u001b[0;32min\u001b[0m \u001b[0mfunc\u001b[0m\u001b[0;34m(\u001b[0m\u001b[0mi\u001b[0m\u001b[0;34m,\u001b[0m \u001b[0;34m**\u001b[0m\u001b[0mkwargs\u001b[0m\u001b[0;34m)\u001b[0m\u001b[0;34m:\u001b[0m\u001b[0;34m\u001b[0m\u001b[0;34m\u001b[0m\u001b[0m\n\u001b[0m\u001b[1;32m     26\u001b[0m               \u001b[0;32myield\u001b[0m \u001b[0mj\u001b[0m\u001b[0;34m\u001b[0m\u001b[0;34m\u001b[0m\u001b[0m\n\u001b[1;32m     27\u001b[0m \u001b[0;34m\u001b[0m\u001b[0m\n",
            "\u001b[0;32m<ipython-input-179-f37e7c2a120a>\u001b[0m in \u001b[0;36mselectSubItems\u001b[0;34m(item, selectFunc)\u001b[0m\n\u001b[1;32m     33\u001b[0m \u001b[0;34m@\u001b[0m\u001b[0mconvertToPipeFunc\u001b[0m\u001b[0;34m(\u001b[0m\u001b[0mwith_yield\u001b[0m\u001b[0;34m=\u001b[0m\u001b[0;32mTrue\u001b[0m\u001b[0;34m)\u001b[0m\u001b[0;34m\u001b[0m\u001b[0;34m\u001b[0m\u001b[0m\n\u001b[1;32m     34\u001b[0m \u001b[0;32mdef\u001b[0m \u001b[0mselectSubItems\u001b[0m\u001b[0;34m(\u001b[0m\u001b[0mitem\u001b[0m\u001b[0;34m,\u001b[0m \u001b[0mselectFunc\u001b[0m\u001b[0;34m)\u001b[0m\u001b[0;34m:\u001b[0m\u001b[0;34m\u001b[0m\u001b[0;34m\u001b[0m\u001b[0m\n\u001b[0;32m---> 35\u001b[0;31m   \u001b[0mresult\u001b[0m \u001b[0;34m=\u001b[0m \u001b[0mselectFunc\u001b[0m\u001b[0;34m(\u001b[0m\u001b[0mitem\u001b[0m\u001b[0;34m)\u001b[0m\u001b[0;34m\u001b[0m\u001b[0;34m\u001b[0m\u001b[0m\n\u001b[0m\u001b[1;32m     36\u001b[0m   \u001b[0;32mif\u001b[0m \u001b[0;32mnot\u001b[0m \u001b[0mresult\u001b[0m \u001b[0;32mis\u001b[0m \u001b[0;32mNone\u001b[0m\u001b[0;34m:\u001b[0m\u001b[0;34m\u001b[0m\u001b[0;34m\u001b[0m\u001b[0m\n\u001b[1;32m     37\u001b[0m     \u001b[0;32mfor\u001b[0m \u001b[0mitem\u001b[0m \u001b[0;32min\u001b[0m \u001b[0mresult\u001b[0m\u001b[0;34m:\u001b[0m\u001b[0;34m\u001b[0m\u001b[0;34m\u001b[0m\u001b[0m\n",
            "\u001b[0;32m<ipython-input-179-f37e7c2a120a>\u001b[0m in \u001b[0;36m<lambda>\u001b[0;34m(item)\u001b[0m\n\u001b[1;32m     62\u001b[0m           reducer = reduction['reduce'])\n\u001b[1;32m     63\u001b[0m       result.append(reSub(\n\u001b[0;32m---> 64\u001b[0;31m           \u001b[0mselectSubItems\u001b[0m\u001b[0;34m(\u001b[0m\u001b[0mselectFunc\u001b[0m \u001b[0;34m=\u001b[0m \u001b[0;32mlambda\u001b[0m \u001b[0mitem\u001b[0m\u001b[0;34m:\u001b[0m \u001b[0mitem\u001b[0m\u001b[0;34m[\u001b[0m\u001b[0mrelation\u001b[0m\u001b[0;34m[\u001b[0m\u001b[0;34m'to'\u001b[0m\u001b[0;34m]\u001b[0m\u001b[0;34m]\u001b[0m\u001b[0;34m)\u001b[0m\u001b[0;34m,\u001b[0m\u001b[0;34m\u001b[0m\u001b[0;34m\u001b[0m\u001b[0m\n\u001b[0m\u001b[1;32m     65\u001b[0m           reduction['map']))\n\u001b[1;32m     66\u001b[0m     \u001b[0;32mreturn\u001b[0m \u001b[0mresult\u001b[0m\u001b[0;34m\u001b[0m\u001b[0;34m\u001b[0m\u001b[0m\n",
            "\u001b[0;31mKeyError\u001b[0m: 'Numbers'"
          ]
        }
      ]
    },
    {
      "cell_type": "markdown",
      "metadata": {
        "id": "PkSjy7hxzgWh",
        "colab_type": "text"
      },
      "source": [
        "## Timeit - Duration measurement"
      ]
    },
    {
      "cell_type": "code",
      "metadata": {
        "id": "1ohwetzF_yNl",
        "colab_type": "code",
        "colab": {}
      },
      "source": [
        "@convertToPipeFunc2()\n",
        "def copy(item, description):\n",
        "    \"\"\"describes and converts item into dictionary.\"\"\"\n",
        "    return {'input': item, 'description': description}\n",
        "\n",
        "@convertToPipeFunc2(with_yield = True)\n",
        "def copyY(item, description):\n",
        "    \"\"\"describes and converts item into dictionary.\"\"\"\n",
        "    yield {'input': item, 'description': description}\n",
        "\n",
        "@convertToPipeFunc2(with_yield = False, with_state = True)\n",
        "def copyS(item, description, state = 0):\n",
        "    \"\"\"describes and converts item into dictionary.\"\"\"\n",
        "    return ({'input': item, 'description': description, 'state': state}, state+1)\n",
        "\n",
        "@convertToPipeFunc2(with_yield = True, with_state = True)\n",
        "def copyYS(item, description, state = 0):\n",
        "    \"\"\"describes and converts item into dictionary.\"\"\"\n",
        "    yield ({'input': item, 'description': description, 'state': state}, state+1)\n",
        "\n",
        "def newcopyY(gen):\n",
        "  for item in gen:\n",
        "    yield {'input': item, 'description': 'desc'}\n",
        "\n",
        "def newcopyYS(gen):\n",
        "  state = 0\n",
        "  for item in gen:\n",
        "    yield {'input': item, 'description': 'desc', 'state': state}\n",
        "    state = state + 1\n",
        "\n",
        "print(copy.__doc__)\n",
        "print(copyY.__doc__)\n",
        "\n",
        "data = [1, 2, 3]\n",
        "#%%time\n",
        "print(list(copyS(description = 'desc')(data)))\n",
        "print(list(copyYS(description = 'desc')(data)))\n",
        "data = list(range(0, 100000))\n",
        "print('normal')\n",
        "%timeit (list(copy(description = 'desc')(data)))\n",
        "print('normal + State')\n",
        "%timeit (list(copyS(description = 'desc')(data)))\n",
        "\n",
        "print('Yield')\n",
        "%timeit (list(copyY(description = 'desc')(data)))\n",
        "print('Yield + State')\n",
        "%timeit (list(copyYS(description = 'desc')(data)))\n",
        "\n",
        "print('hardcoded normal')\n",
        "%timeit (list(newcopyY(data)))\n",
        "print('hardcoded normal + State')\n",
        "%timeit (list(newcopyYS(data)))\n"
      ],
      "execution_count": null,
      "outputs": []
    },
    {
      "cell_type": "code",
      "metadata": {
        "id": "9DgA4dh_WEb3",
        "colab_type": "code",
        "colab": {}
      },
      "source": [
        ""
      ],
      "execution_count": null,
      "outputs": []
    }
  ]
}