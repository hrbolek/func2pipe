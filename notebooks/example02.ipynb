{
  "nbformat": 4,
  "nbformat_minor": 0,
  "metadata": {
    "colab": {
      "name": "example02.ipynb",
      "provenance": [],
      "authorship_tag": "ABX9TyPs8WpCdDRL2vLhR0/pRE7K",
      "include_colab_link": true
    },
    "kernelspec": {
      "name": "python3",
      "display_name": "Python 3"
    }
  },
  "cells": [
    {
      "cell_type": "markdown",
      "metadata": {
        "id": "view-in-github",
        "colab_type": "text"
      },
      "source": [
        "<a href=\"https://colab.research.google.com/github/hrbolek/func2pipe/blob/news/notebooks/example02.ipynb\" target=\"_parent\"><img src=\"https://colab.research.google.com/assets/colab-badge.svg\" alt=\"Open In Colab\"/></a>"
      ]
    },
    {
      "cell_type": "code",
      "metadata": {
        "id": "9Th2LmL7tMcP",
        "colab_type": "code",
        "colab": {
          "base_uri": "https://localhost:8080/",
          "height": 109
        },
        "outputId": "407659ce-c5b1-411a-b5a6-5f38a12ed7f4"
      },
      "source": [
        "!pip install func2pipe"
      ],
      "execution_count": 1,
      "outputs": [
        {
          "output_type": "stream",
          "text": [
            "Collecting func2pipe\n",
            "  Downloading https://files.pythonhosted.org/packages/61/c6/0f5fc50a2447a362e1b55cc1201e7f13fc721f8a9580c8ce4705c26c7737/func2pipe-0.3.6-py3-none-any.whl\n",
            "Requirement already satisfied: setuptools in /usr/local/lib/python3.6/dist-packages (from func2pipe) (47.3.1)\n",
            "Installing collected packages: func2pipe\n",
            "Successfully installed func2pipe-0.3.6\n"
          ],
          "name": "stdout"
        }
      ]
    },
    {
      "cell_type": "code",
      "metadata": {
        "id": "B5GfJetFtf_i",
        "colab_type": "code",
        "colab": {}
      },
      "source": [
        "from func2pipe.func2pipe import createPipe, createSub, pipeit"
      ],
      "execution_count": 2,
      "outputs": []
    },
    {
      "cell_type": "markdown",
      "metadata": {
        "id": "DZBDjL7htjtm",
        "colab_type": "text"
      },
      "source": [
        ""
      ]
    },
    {
      "cell_type": "code",
      "metadata": {
        "id": "yfvP66LctkWk",
        "colab_type": "code",
        "colab": {
          "base_uri": "https://localhost:8080/",
          "height": 90
        },
        "outputId": "c9f7ef54-66d3-4c41-ce3e-1bfa12dd69ed"
      },
      "source": [
        "@pipeit()\n",
        "def addone(item):\n",
        "    return item + 1\n",
        "\n",
        "@pipeit()\n",
        "def add(a, b):\n",
        "    return a + b\n",
        "\n",
        "operator = createPipe(\n",
        "    addone(),\n",
        "    add(b = 4),\n",
        "    list)\n",
        "\n",
        "sourceA = range(1, 20)\n",
        "sourceB = [45, 20, 6]\n",
        "print('first set')\n",
        "result = operator(sourceA)\n",
        "print(result)\n",
        "print('second set')\n",
        "result = operator(sourceB)\n",
        "print(result)"
      ],
      "execution_count": 5,
      "outputs": [
        {
          "output_type": "stream",
          "text": [
            "first set\n",
            "[6, 7, 8, 9, 10, 11, 12, 13, 14, 15, 16, 17, 18, 19, 20, 21, 22, 23, 24]\n",
            "second set\n",
            "[50, 25, 11]\n"
          ],
          "name": "stdout"
        }
      ]
    },
    {
      "cell_type": "code",
      "metadata": {
        "id": "Hhj8uw5luU4z",
        "colab_type": "code",
        "colab": {
          "base_uri": "https://localhost:8080/",
          "height": 110
        },
        "outputId": "328e7068-c009-4aff-b111-c11e011e15fd"
      },
      "source": [
        "@pipeit()\n",
        "def addone(item):\n",
        "    return item + 1\n",
        "\n",
        "@pipeit()\n",
        "def add(a, b):\n",
        "    return a + b\n",
        "\n",
        "@pipeit()\n",
        "def transform(item):\n",
        "    if (item > 12):\n",
        "        return True\n",
        "    else:\n",
        "        return False\n",
        "\n",
        "@pipeit()\n",
        "def transform2(item, fixed):\n",
        "    if (item > 12):\n",
        "        return {'r': True, 'f': fixed }\n",
        "    else:\n",
        "        return {'r': False, 'f': fixed }\n",
        "\n",
        "operatorB = createPipe(\n",
        "    addone(),\n",
        "    add(b = 4),\n",
        "    createSub(lambda input, output: {'i': input, **output})(\n",
        "      transform2(fixed = 'fixed')\n",
        "    ),\n",
        "    list)\n",
        "\n",
        "sourceA = range(1, 20)\n",
        "sourceB = [45, 20, 6]\n",
        "print('first set')\n",
        "result = operatorB(sourceA)\n",
        "print(result)\n",
        "print('second set')\n",
        "result = operatorB(sourceB)\n",
        "print(result)"
      ],
      "execution_count": 7,
      "outputs": [
        {
          "output_type": "stream",
          "text": [
            "first set\n",
            "[{'i': 6, 'r': False, 'f': 'fixed'}, {'i': 7, 'r': False, 'f': 'fixed'}, {'i': 8, 'r': False, 'f': 'fixed'}, {'i': 9, 'r': False, 'f': 'fixed'}, {'i': 10, 'r': False, 'f': 'fixed'}, {'i': 11, 'r': False, 'f': 'fixed'}, {'i': 12, 'r': False, 'f': 'fixed'}, {'i': 13, 'r': True, 'f': 'fixed'}, {'i': 14, 'r': True, 'f': 'fixed'}, {'i': 15, 'r': True, 'f': 'fixed'}, {'i': 16, 'r': True, 'f': 'fixed'}, {'i': 17, 'r': True, 'f': 'fixed'}, {'i': 18, 'r': True, 'f': 'fixed'}, {'i': 19, 'r': True, 'f': 'fixed'}, {'i': 20, 'r': True, 'f': 'fixed'}, {'i': 21, 'r': True, 'f': 'fixed'}, {'i': 22, 'r': True, 'f': 'fixed'}, {'i': 23, 'r': True, 'f': 'fixed'}, {'i': 24, 'r': True, 'f': 'fixed'}]\n",
            "second set\n",
            "[{'i': 50, 'r': True, 'f': 'fixed'}, {'i': 25, 'r': True, 'f': 'fixed'}, {'i': 11, 'r': False, 'f': 'fixed'}]\n"
          ],
          "name": "stdout"
        }
      ]
    }
  ]
}